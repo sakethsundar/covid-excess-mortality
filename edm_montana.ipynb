{
 "cells": [
  {
   "cell_type": "code",
   "execution_count": 5,
   "metadata": {},
   "outputs": [
    {
     "name": "stderr",
     "output_type": "stream",
     "text": [
      "/usr/local/lib/python3.7/site-packages/ipykernel_launcher.py:31: FutureWarning: Indexing with multiple keys (implicitly converted to a tuple of keys) will be deprecated, use a list instead.\n"
     ]
    }
   ],
   "source": [
    "import pandas as pd\n",
    "from datetime import datetime, timedelta, date\n",
    "import io\n",
    "\n",
    "montana_df = pd.read_csv(\"data/states/Montana/montana.csv\", error_bad_lines=True)\n",
    "montana_df = montana_df[(montana_df['county'] > 0) & (montana_df['county'] < 112)]\n",
    "county_pop_df = pd.read_csv(\"data/states/county_pop.csv\", encoding = \"utf-8\",error_bad_lines=True)\n",
    "county_pop_df = county_pop_df[county_pop_df['STNAME'] == 'Montana']\n",
    "#print(montana_df)\n",
    "#print(county_pop_df)\n",
    "\n",
    "montana_constant_df = montana_df.copy()\n",
    "montana_constant_df['state_FIPS'] = 30\n",
    "montana_constant_df['population_adjustment'] = 'Constant'\n",
    "montana_constant_df['pop'] = 0\n",
    "montana_constant_df[\"total_deaths_per100k\"] = 0\n",
    "montana_constant_df[\"excess_deaths_per100k\"] = 0.0\n",
    "montana_constant_df[\"age_adjusted_deaths_lt_65_per100k\"] = 0\n",
    "montana_constant_df[\"age_adjusted_deaths_gte_65_per100k\"] = 0\n",
    "montana_constant_df[\"excess_age_adjusted_deaths_lt_65_per100k\"] = 0.0\n",
    "montana_constant_df[\"excess_age_adjusted_deaths_gte_65_per100k\"] = 0.0\n",
    "county_2017_pop= dict(zip(county_pop_df.COUNTY,county_pop_df.POPESTIMATE2017))\n",
    "pop_100k = 100000.0\n",
    "for index, row in montana_constant_df.iterrows():\n",
    "    county = row['county']\n",
    "    montana_constant_df.at[index,'pop'] = county_2017_pop[county]\n",
    "    montana_constant_df.at[index, 'total_deaths_per100k'] = (row[\"total_deaths\"] *pop_100k )/(county_2017_pop[county]* 1.0)\n",
    "    montana_constant_df.at[index, \"age_adjusted_deaths_lt_65_per100k\"] = (row[\"less_than_65_deaths\"] * pop_100k)/(county_2017_pop[county]* 1.0)\n",
    "    montana_constant_df.at[index, \"age_adjusted_deaths_gte_65_per100k\"] = (row[\"greater_than_65_deaths\"] * pop_100k)/(county_2017_pop[county]* 1.0)\n",
    "\n",
    "avg_deaths_df = montana_constant_df[montana_constant_df['year'] < 2020].groupby(['county', 'week_num'])['total_deaths_per100k','age_adjusted_deaths_lt_65_per100k','age_adjusted_deaths_gte_65_per100k'].mean().reset_index()\n",
    "\n",
    "for index, row in montana_constant_df.iterrows():\n",
    "    year = row['year']\n",
    "    county = row['county']\n",
    "    week = row['week_num']\n",
    "    if year == 2020:\n",
    "        montana_constant_df.at[index, \"excess_deaths_per100k\"] = row['total_deaths_per100k'] - (avg_deaths_df[(avg_deaths_df['county'] == county) & (avg_deaths_df['week_num'] == week)]['total_deaths_per100k'])       \n",
    "        montana_constant_df.at[index, \"excess_age_adjusted_deaths_lt_65_per100k\"] = row['age_adjusted_deaths_lt_65_per100k'] - (avg_deaths_df[(avg_deaths_df['county'] == county) & (avg_deaths_df['week_num'] == week)]['age_adjusted_deaths_lt_65_per100k'])       \n",
    "        montana_constant_df.at[index, \"excess_age_adjusted_deaths_gte_65_per100k\"] = row['age_adjusted_deaths_gte_65_per100k'] - (avg_deaths_df[(avg_deaths_df['county'] == county) & (avg_deaths_df['week_num'] == week)]['age_adjusted_deaths_gte_65_per100k'])       \n",
    "        \n"
   ]
  },
  {
   "cell_type": "code",
   "execution_count": 6,
   "metadata": {},
   "outputs": [
    {
     "name": "stderr",
     "output_type": "stream",
     "text": [
      "/usr/local/lib/python3.7/site-packages/ipykernel_launcher.py:32: FutureWarning: Indexing with multiple keys (implicitly converted to a tuple of keys) will be deprecated, use a list instead.\n"
     ]
    }
   ],
   "source": [
    "county_year_dict = dict()\n",
    "county_year_dict[2014] = dict(zip(county_pop_df.COUNTY,county_pop_df.POPESTIMATE2014))\n",
    "county_year_dict[2015] = dict(zip(county_pop_df.COUNTY,county_pop_df.POPESTIMATE2015))\n",
    "county_year_dict[2016] = dict(zip(county_pop_df.COUNTY,county_pop_df.POPESTIMATE2016))\n",
    "county_year_dict[2017] = dict(zip(county_pop_df.COUNTY,county_pop_df.POPESTIMATE2017))\n",
    "county_year_dict[2018] = dict(zip(county_pop_df.COUNTY,county_pop_df.POPESTIMATE2018))\n",
    "county_year_dict[2019] = dict(zip(county_pop_df.COUNTY,county_pop_df.POPESTIMATE2019))\n",
    "\n",
    "\n",
    "montana_lagged_df = montana_df.copy()\n",
    "montana_lagged_df['state_FIPS'] = 30\n",
    "montana_lagged_df['population_adjustment'] = 'Lagged'\n",
    "montana_lagged_df['pop'] = 0\n",
    "montana_lagged_df[\"total_deaths_per100k\"] = 0\n",
    "montana_lagged_df[\"excess_deaths_per100k\"] = 0.0\n",
    "montana_lagged_df[\"age_adjusted_deaths_lt_65_per100k\"] = 0\n",
    "montana_lagged_df[\"age_adjusted_deaths_gte_65_per100k\"] = 0\n",
    "montana_lagged_df[\"excess_age_adjusted_deaths_lt_65_per100k\"] = 0.0\n",
    "montana_lagged_df[\"excess_age_adjusted_deaths_gte_65_per100k\"] = 0.0\n",
    "pop_100k = 100000.0\n",
    "\n",
    "\n",
    "for index, row in montana_lagged_df.iterrows():\n",
    "    year = row['year'] - 1  \n",
    "    county = row['county']\n",
    "    county_pop_dict = county_year_dict[year]\n",
    "    montana_lagged_df.at[index,'pop'] = county_pop_dict[county]\n",
    "    montana_lagged_df.at[index, 'total_deaths_per100k'] = (row[\"total_deaths\"] *pop_100k )/(county_pop_dict[county]* 1.0)\n",
    "    montana_lagged_df.at[index, \"age_adjusted_deaths_lt_65_per100k\"] = (row[\"less_than_65_deaths\"] * pop_100k)/(county_pop_dict[county]* 1.0)\n",
    "    montana_lagged_df.at[index, \"age_adjusted_deaths_gte_65_per100k\"] = (row[\"greater_than_65_deaths\"] * pop_100k)/(county_pop_dict[county]* 1.0)\n",
    "\n",
    "avg_lagged_deaths_df = montana_lagged_df[montana_lagged_df['year'] < 2020].groupby(['county', 'week_num'])['total_deaths_per100k','age_adjusted_deaths_lt_65_per100k','age_adjusted_deaths_gte_65_per100k'].mean().reset_index()\n",
    "\n",
    "for index, row in montana_lagged_df.iterrows():\n",
    "    year = row['year']\n",
    "    county = row['county']\n",
    "    week = row['week_num']\n",
    "    if year == 2020:\n",
    "        montana_lagged_df.at[index, \"excess_deaths_per100k\"] = row['total_deaths_per100k'] - (avg_lagged_deaths_df[(avg_lagged_deaths_df['county'] == county) & (avg_lagged_deaths_df['week_num'] == week)]['total_deaths_per100k'])       \n",
    "        montana_lagged_df.at[index, \"excess_age_adjusted_deaths_lt_65_per100k\"] = row['age_adjusted_deaths_lt_65_per100k'] - (avg_lagged_deaths_df[(avg_lagged_deaths_df['county'] == county) & (avg_lagged_deaths_df['week_num'] == week)]['age_adjusted_deaths_lt_65_per100k'])       \n",
    "        montana_lagged_df.at[index, \"excess_age_adjusted_deaths_gte_65_per100k\"] = row['age_adjusted_deaths_gte_65_per100k'] - (avg_lagged_deaths_df[(avg_lagged_deaths_df['county'] == county) & (avg_lagged_deaths_df['week_num'] == week)]['age_adjusted_deaths_gte_65_per100k'])       \n",
    "\n",
    "montana_merged_df = pd.concat([montana_constant_df, montana_lagged_df])\n",
    "montana_merged_df = montana_merged_df.sort_values(['county', 'week_num', 'population_adjustment','year'])\n",
    "#montana_panel_df = pd.DataFrame(columns=['State_FIPS','County_FIPS', 'Year','Week', 'Population_Adjustment','Deaths_Per100k',\n",
    "#                                'Excess_Deaths_Per100k' 'Age_Adjusted_Deaths_LT_65_Per100k','Age_Adjusted_Deaths_GTE_65_Per100k', 'POP'])\n"
   ]
  },
  {
   "cell_type": "code",
   "execution_count": 7,
   "metadata": {},
   "outputs": [],
   "source": [
    "montan_panel_df = pd.DataFrame(columns=['State_FIPS','County_FIPS','Year', 'Week','Population_Adjustment', \n",
    "                                        'Deaths_Per100k', 'Excess_Deaths_Per100k','Age_Adjusted_Deaths_LT_65_Per100k',\n",
    "                                        'Age_Adjusted_Deaths_GTE_65_Per100k','Excess_Age_Adjusted_Deaths_LT_65_Per100k','Excess_Age_Adjusted_Deaths_GTE_65_Per100k'])        \n",
    "montan_panel_df['State_FIPS']  = montana_merged_df['state_FIPS']\n",
    "montan_panel_df['County_FIPS'] = montana_merged_df['county']\n",
    "montan_panel_df['Year']  = montana_merged_df['year']\n",
    "montan_panel_df['Week'] = montana_merged_df['week_num']\n",
    "montan_panel_df['Population_Adjustment'] = montana_merged_df['population_adjustment']\n",
    "montan_panel_df['Deaths_Per100k'] = montana_merged_df['total_deaths_per100k']\n",
    "montan_panel_df['Excess_Deaths_Per100k'] = round(montana_merged_df['excess_deaths_per100k'],4)\n",
    "montan_panel_df['Age_Adjusted_Deaths_LT_65_Per100k'] = montana_merged_df['age_adjusted_deaths_lt_65_per100k']\n",
    "montan_panel_df['Age_Adjusted_Deaths_GTE_65_Per100k'] = montana_merged_df['age_adjusted_deaths_gte_65_per100k']\n",
    "montan_panel_df['Excess_Age_Adjusted_Deaths_LT_65_Per100k'] = round(montana_merged_df['excess_age_adjusted_deaths_lt_65_per100k'],4)\n",
    "montan_panel_df['Excess_Age_Adjusted_Deaths_GTE_65_Per100k'] = round(montana_merged_df['excess_age_adjusted_deaths_gte_65_per100k'],4)"
   ]
  },
  {
   "cell_type": "code",
   "execution_count": 8,
   "metadata": {},
   "outputs": [],
   "source": [
    "montan_panel_df.to_csv('montan_panel.csv',index=False)"
   ]
  },
  {
   "cell_type": "code",
   "execution_count": null,
   "metadata": {},
   "outputs": [],
   "source": []
  },
  {
   "cell_type": "code",
   "execution_count": null,
   "metadata": {},
   "outputs": [],
   "source": []
  }
 ],
 "metadata": {
  "kernelspec": {
   "display_name": "Python 3",
   "language": "python",
   "name": "python3"
  },
  "language_info": {
   "codemirror_mode": {
    "name": "ipython",
    "version": 3
   },
   "file_extension": ".py",
   "mimetype": "text/x-python",
   "name": "python",
   "nbconvert_exporter": "python",
   "pygments_lexer": "ipython3",
   "version": "3.8.4"
  }
 },
 "nbformat": 4,
 "nbformat_minor": 4
}
