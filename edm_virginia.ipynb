{
 "cells": [
  {
   "cell_type": "code",
   "execution_count": 1,
   "metadata": {},
   "outputs": [],
   "source": [
    "import pandas as pd\n",
    "from datetime import datetime, timedelta, date\n",
    "import io\n",
    "\n",
    "ST_2015=pd.read_csv('data/states/Virginia/Virginia2015.csv')\n",
    "ST_2016=pd.read_csv('data/states/Virginia/Virginia2016.csv')\n",
    "ST_2017=pd.read_csv('data/states/Virginia/Virginia2017.csv')\n",
    "ST_2018=pd.read_csv('data/states/Virginia/Virginia2018.csv')\n",
    "ST_2019=pd.read_csv('data/states/Virginia/Virginia2019.csv')\n",
    "ST_2020=pd.read_csv('data/states/Virginia/Virginia2020.csv')\n",
    "us_state_df = ST_2015\n",
    "us_state_df = pd.concat([us_state_df, ST_2016]).reset_index(drop=True) \n",
    "us_state_df = pd.concat([us_state_df, ST_2017]).reset_index(drop=True) \n",
    "us_state_df = pd.concat([us_state_df, ST_2018]).reset_index(drop=True)  \n",
    "us_state_df = pd.concat([us_state_df, ST_2019]).reset_index(drop=True) \n",
    "us_state_df = pd.concat([us_state_df, ST_2020]).reset_index(drop=True) \n",
    "\n",
    "us_state_df = us_state_df.rename(columns={'DEATH_YEAR': 'Year', 'WEEK_NUM': 'Week', 'FIPS' : 'County',\n",
    "                                          'NUMBER_OF_DEATHS':'Deaths', 'COUNTY': 'Place of Death County'})\n",
    "\n",
    "county_pop_df = pd.read_csv(\"data/states/county_pop.csv\", encoding = \"utf-8\",error_bad_lines=True)\n",
    "county_pop_df = county_pop_df[county_pop_df['STNAME'] == 'Virginia']\n",
    "\n",
    "county_fips_df = pd.read_csv(\"data/states/county_fips.csv\", error_bad_lines=True)\n",
    "county_fips_df = county_fips_df[county_fips_df['STNAME'] == 'Virginia']\n",
    "county_fips_df[\"CTYNAME\"] = county_fips_df[\"CTYNAME\"].str.upper()\n",
    "county_fips_dict = dict(zip(county_fips_df.CTYNAME,county_pop_df.COUNTY))\n"
   ]
  },
  {
   "cell_type": "code",
   "execution_count": 2,
   "metadata": {},
   "outputs": [],
   "source": [
    "\n",
    "us_state_constant_df = us_state_df.copy()\n",
    "us_state_constant_df['state_FIPS'] = 51\n",
    "us_state_constant_df['population_adjustment'] = 'Constant'\n",
    "us_state_constant_df['pop'] = 0\n",
    "us_state_constant_df[\"total_deaths_per100k\"] = 0\n",
    "us_state_constant_df[\"excess_deaths_per100k\"] = 0.0\n",
    "county_2017_pop= dict(zip(county_pop_df.COUNTY,county_pop_df.POPESTIMATE2017))\n",
    "pop_100k = 100000.0\n",
    "for index, row in us_state_constant_df.iterrows():\n",
    "    county = row['County']\n",
    "    pop = county_2017_pop[county]\n",
    "    us_state_constant_df.at[index,'pop'] = pop\n",
    "    us_state_constant_df.at[index, 'total_deaths_per100k'] = (row[\"Deaths\"] *pop_100k )/(pop* 1.0)\n",
    "\n",
    "\n",
    "\n",
    "avg_deaths = us_state_constant_df[us_state_constant_df['Year'] < 2020].groupby(['County', 'Week'])['total_deaths_per100k'].mean()\n",
    "avg_deaths_df = avg_deaths.to_frame(name = 'avg_deaths').reset_index()\n",
    "\n",
    "for index, row in us_state_constant_df.iterrows():\n",
    "    year = row['Year']\n",
    "    county = row['County']\n",
    "    week = row['Week']\n",
    "    if year == 2020:\n",
    "        avgd = avg_deaths_df[(avg_deaths_df['County'] == county) & (avg_deaths_df['Week'] == week)]\n",
    "        if not avgd.empty:\n",
    "            us_state_constant_df.at[index, \"excess_deaths_per100k\"] = round(row['total_deaths_per100k'] - avgd['avg_deaths'], 4)\n"
   ]
  },
  {
   "cell_type": "code",
   "execution_count": 3,
   "metadata": {},
   "outputs": [],
   "source": [
    "county_year_dict = dict()\n",
    "county_year_dict[2014] = dict(zip(county_pop_df.COUNTY,county_pop_df.POPESTIMATE2014))\n",
    "county_year_dict[2015] = dict(zip(county_pop_df.COUNTY,county_pop_df.POPESTIMATE2015))\n",
    "county_year_dict[2016] = dict(zip(county_pop_df.COUNTY,county_pop_df.POPESTIMATE2016))\n",
    "county_year_dict[2017] = dict(zip(county_pop_df.COUNTY,county_pop_df.POPESTIMATE2017))\n",
    "county_year_dict[2018] = dict(zip(county_pop_df.COUNTY,county_pop_df.POPESTIMATE2018))\n",
    "county_year_dict[2019] = dict(zip(county_pop_df.COUNTY,county_pop_df.POPESTIMATE2019))\n",
    "\n",
    "us_state_lagged_df = us_state_df.copy()\n",
    "us_state_lagged_df['state_FIPS'] = 51\n",
    "us_state_lagged_df['population_adjustment'] = 'Lagged'\n",
    "us_state_lagged_df['pop'] = 0\n",
    "us_state_lagged_df[\"total_deaths_per100k\"] = 0\n",
    "us_state_lagged_df[\"excess_deaths_per100k\"] = 0.0\n",
    "pop_100k = 100000.0\n",
    "for index, row in us_state_lagged_df.iterrows():\n",
    "    year = row['Year'] - 1  \n",
    "    county = row['County']\n",
    "    county_pop_dict = county_year_dict[year]\n",
    "    pop = county_pop_dict[county]\n",
    "    us_state_lagged_df.at[index,'pop'] = pop\n",
    "    us_state_lagged_df.at[index, 'total_deaths_per100k'] = (row[\"Deaths\"] *pop_100k )/(pop* 1.0)\n",
    "\n",
    "\n",
    "\n",
    "avg_deaths = us_state_lagged_df[us_state_lagged_df['Year'] < 2020].groupby(['County', 'Week'])['total_deaths_per100k'].mean()\n",
    "avg_deaths_df = avg_deaths.to_frame(name = 'avg_deaths').reset_index()\n",
    "\n",
    "for index, row in us_state_lagged_df.iterrows():\n",
    "    year = row['Year']\n",
    "    county = row['County']\n",
    "    week = row['Week']\n",
    "    if year == 2020:\n",
    "        avgd = avg_deaths_df[(avg_deaths_df['County'] == county) & (avg_deaths_df['Week'] == week)]\n",
    "        if not avgd.empty:\n",
    "            us_state_lagged_df.at[index, \"excess_deaths_per100k\"] = round(row['total_deaths_per100k'] - avgd['avg_deaths'],4)       \n",
    "\n",
    "us_state_merged_df = pd.concat([us_state_constant_df, us_state_lagged_df])\n",
    "us_state_merged_df = us_state_merged_df.sort_values(['County', 'Week', 'population_adjustment','Year'])\n"
   ]
  },
  {
   "cell_type": "code",
   "execution_count": 4,
   "metadata": {},
   "outputs": [],
   "source": [
    "us_state_panel_df = pd.DataFrame(columns=['State_FIPS','County_FIPS','Year', 'Week','Population_Adjustment', \n",
    "                                        'Deaths_Per100k', 'Excess_Deaths_Per100k'])        \n",
    "us_state_panel_df['State_FIPS']  = us_state_merged_df['state_FIPS']\n",
    "us_state_panel_df['County_FIPS'] = us_state_merged_df['County']\n",
    "us_state_panel_df['Year']  = us_state_merged_df['Year']\n",
    "us_state_panel_df['Week'] = us_state_merged_df['Week']\n",
    "us_state_panel_df['Population_Adjustment'] = us_state_merged_df['population_adjustment']\n",
    "us_state_panel_df['Deaths_Per100k'] = us_state_merged_df['total_deaths_per100k']\n",
    "us_state_panel_df['Excess_Deaths_Per100k'] = round(us_state_merged_df['excess_deaths_per100k'],4)"
   ]
  },
  {
   "cell_type": "code",
   "execution_count": 5,
   "metadata": {},
   "outputs": [],
   "source": [
    "us_state_panel_df.to_csv(\"virginia_panel.csv\",index=False)"
   ]
  },
  {
   "cell_type": "code",
   "execution_count": null,
   "metadata": {},
   "outputs": [],
   "source": []
  },
  {
   "cell_type": "code",
   "execution_count": null,
   "metadata": {},
   "outputs": [],
   "source": []
  }
 ],
 "metadata": {
  "kernelspec": {
   "display_name": "Python 3",
   "language": "python",
   "name": "python3"
  },
  "language_info": {
   "codemirror_mode": {
    "name": "ipython",
    "version": 3
   },
   "file_extension": ".py",
   "mimetype": "text/x-python",
   "name": "python",
   "nbconvert_exporter": "python",
   "pygments_lexer": "ipython3",
   "version": "3.8.4"
  }
 },
 "nbformat": 4,
 "nbformat_minor": 4
}
