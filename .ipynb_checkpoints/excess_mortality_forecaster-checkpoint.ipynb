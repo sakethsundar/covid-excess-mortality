{
 "cells": [
  {
   "cell_type": "code",
   "execution_count": 234,
   "metadata": {},
   "outputs": [],
   "source": [
    "import pandas as pd\n",
    "from datetime import datetime, timedelta, date\n",
    "import io\n",
    "\n",
    "colorado_df = pd.read_csv(\"data/states/colorado/colorado.csv\", error_bad_lines=True)\n",
    "colorado_df = colorado_df[(colorado_df['occcounty'] < 8999)]\n",
    "\n",
    "county_pop_df = pd.read_csv(\"data/states/county_pop.csv\", encoding = \"utf-8\",error_bad_lines=True)\n",
    "county_pop_df = county_pop_df[county_pop_df['STNAME'] == 'Colorado']\n",
    "\n",
    "#yearly_deaths_by_code = weekly_deaths_df[(weekly_deaths_df['week'] <= 34) & (weekly_deaths_df['year'] == 2019)].groupby(['ucod'])['total_deaths'].sum()\n",
    "#yearly_deaths_by_code_df = yearly_deaths_by_code.to_frame(name = 'yearly_deaths').sort_values(['yearly_deaths', 'ucod'],ascending=False).reset_index().head(26)\n",
    "#top_ucodes = yearly_deaths_by_code_df['ucod']\n",
    "#weekly_deaths_df= weekly_deaths_df[(weekly_deaths_df['ucod'].isin(top_ucodes))]\n",
    "\n",
    "pulm_categories =['J449','I251','C349','I219','I500','I250','I64','I119','I48','F019','I110','J189']\n",
    "non_pulm_categories =['G309','F03','C259','C509','G20','C61','C189','K703','W19','X70','C80','X74','A419','X44']\n",
    "top_ucodes = pulm_categories + non_pulm_categories\n",
    "\n",
    "colorado_df['cat'] = ''\n",
    "colorado_df.loc[colorado_df['ucod'].isin(pulm_categories), \"cat\"] = 'P'\n",
    "colorado_df.loc[colorado_df['acme2'].isin(pulm_categories), \"cat\"] = 'P'\n",
    "colorado_df.loc[colorado_df['ucod'].isin(non_pulm_categories), \"cat\"] = 'NP'\n",
    "colorado_df.loc[colorado_df['acme2'].isin(non_pulm_categories), \"cat\"] = 'NP'\n",
    "\n",
    "colorado_df = colorado_df[(colorado_df['ucod'].isin(top_ucodes) | (colorado_df['acme2'].isin(top_ucodes)))]\n",
    "\n",
    "weekly_deaths_df = colorado_df.groupby(['occcounty', 'year','dwk','cat'])['deaths'].agg(['sum']).reset_index()\n",
    "weekly_deaths_df = weekly_deaths_df.rename(columns={'occcounty':'county','dwk' : 'week', 'sum':'total_deaths'})\n",
    "\n",
    "\n",
    "county_2017_pop= dict(zip(county_pop_df.COUNTY,county_pop_df.POPESTIMATE2017))\n",
    "pop_100k = 100000.0\n",
    "weekly_deaths_df['pop'] = 0\n",
    "weekly_deaths_df['total_deaths_per100k'] = 0\n",
    "weekly_deaths_df['excess_deaths_per100k'] = 0\n",
    "for index, row in weekly_deaths_df.iterrows():\n",
    "    county = row['county'] - 8000\n",
    "    weekly_deaths_df.at[index,'pop'] = county_2017_pop[county]\n",
    "    weekly_deaths_df.at[index, 'total_deaths_per100k'] = row[\"total_deaths\"] #(row[\"total_deaths\"] *pop_100k )/(county_2017_pop[county]* 1.0)\n",
    "\n",
    "\n",
    "avg_deaths = weekly_deaths_df[weekly_deaths_df['year'] < 2020].groupby(['county', 'week','cat'])['total_deaths_per100k'].mean()\n",
    "avg_deaths_df = avg_deaths.to_frame(name = 'avg_deaths').reset_index()\n",
    "\n",
    "for index, row in weekly_deaths_df.iterrows():\n",
    "    year = row['year']\n",
    "    county = row['county']\n",
    "    week = row['week']\n",
    "    cat = row['cat']\n",
    "    if year == 2020:\n",
    "        avgd = avg_deaths_df[(avg_deaths_df['county'] == county) & (avg_deaths_df['week'] == week) & (avg_deaths_df['cat'] == cat)]\n",
    "        if not avgd.empty:\n",
    "            weekly_deaths_df.at[index, \"excess_deaths_per100k\"] = row['total_deaths_per100k'] - avgd['avg_deaths']      \n",
    "weekly_deaths_df[\"county\"] = pd.to_numeric(weekly_deaths_df[\"county\"], downcast='float')\n",
    "\n",
    "\n",
    " "
   ]
  },
  {
   "cell_type": "code",
   "execution_count": 235,
   "metadata": {},
   "outputs": [
    {
     "data": {
      "text/plain": [
       "year\n",
       "2020    14619\n",
       "Name: total_deaths_per100k, dtype: int64"
      ]
     },
     "execution_count": 235,
     "metadata": {},
     "output_type": "execute_result"
    }
   ],
   "source": [
    "weekly_deaths_df = weekly_deaths_df[(weekly_deaths_df['year'] ==2020)  & (weekly_deaths_df['week'] <= 30)]\n",
    "weekly_deaths_df[(weekly_deaths_df['year'] ==2020) ].groupby('year')['total_deaths_per100k'].sum()"
   ]
  },
  {
   "cell_type": "code",
   "execution_count": 236,
   "metadata": {},
   "outputs": [
    {
     "data": {
      "text/plain": [
       "[<matplotlib.lines.Line2D at 0x12b122640>]"
      ]
     },
     "execution_count": 236,
     "metadata": {},
     "output_type": "execute_result"
    },
    {
     "data": {
      "image/png": "[encoded data removed]",
      "text/plain": [
       "<Figure size 432x288 with 1 Axes>"
      ]
     },
     "metadata": {},
     "output_type": "display_data"
    }
   ],
   "source": [
    "import seaborn as sns\n",
    "sns.set()\n",
    "import matplotlib.pyplot as plt\n",
    "x = weekly_deaths_df[(weekly_deaths_df['year'] ==2020) &(weekly_deaths_df['county'] == 8123)]['week']\n",
    "y = weekly_deaths_df[(weekly_deaths_df['year'] ==2020) &(weekly_deaths_df['county'] == 8123)]['total_deaths_per100k']\n",
    "plt.plot(x, y)"
   ]
  },
  {
   "cell_type": "code",
   "execution_count": 237,
   "metadata": {},
   "outputs": [],
   "source": [
    "Confirmed_url = 'https://raw.githubusercontent.com/CSSEGISandData/COVID-19/master/csse_covid_19_data/csse_covid_19_time_series/time_series_covid19_confirmed_US.csv'\n",
    "US_Cases_df = pd.read_csv(Confirmed_url, error_bad_lines=True)\n",
    "US_Cases_df=US_Cases_df.drop(columns=['UID','iso2','iso3','code3','Admin2',  'Country_Region','Lat','Long_','Combined_Key'])\n",
    "US_Cases_df=US_Cases_df.fillna(0)#US_Cases_df.dropna(subset=['FIPS'])\n",
    "\n",
    "US_Cases_df = US_Cases_df[US_Cases_df['Province_State'] == 'Colorado']\n",
    "US_Cases_df=US_Cases_df.melt(id_vars=['FIPS','Province_State'], \n",
    "        var_name=\"Date\", \n",
    "        value_name=\"Value\")\n",
    "\n",
    "US_Cases_df['Date']= pd.to_datetime(US_Cases_df['Date'])\n",
    "US_Cases_df['week'] = US_Cases_df['Date'].dt.week\n",
    "weekly_covid_cases_df = US_Cases_df.groupby(['FIPS', 'week'])['Value'].sum()\n",
    "weekly_covid_cases_df = weekly_covid_cases_df.to_frame(name = 'weekly_cases').reset_index()\n",
    "\n",
    "Confirmed_url = 'https://raw.githubusercontent.com/CSSEGISandData/COVID-19/master/csse_covid_19_data/csse_covid_19_time_series/time_series_covid19_deaths_US.csv'\n",
    "US_Deaths_df = pd.read_csv(Confirmed_url, error_bad_lines=True)\n",
    "US_Deaths_df = US_Deaths_df.drop(columns=['UID','iso2','iso3','code3','Admin2', 'Population', 'Country_Region','Lat','Long_','Combined_Key'])\n",
    "US_Deaths_df = US_Deaths_df.fillna(0)#US_Cases_df.dropna(subset=['FIPS'])\n",
    "\n",
    "US_Deaths_df = US_Deaths_df[US_Deaths_df['Province_State'] == 'Colorado']\n",
    "US_Deaths_df = US_Deaths_df.melt(id_vars=['FIPS','Province_State'], \n",
    "        var_name=\"Date\", \n",
    "        value_name=\"Value\")\n",
    "\n",
    "US_Deaths_df['Date']= pd.to_datetime(US_Deaths_df['Date'])\n",
    "US_Deaths_df['week'] = US_Deaths_df['Date'].dt.week\n",
    "weekly_covid_deaths_df = US_Deaths_df.groupby(['FIPS', 'week'])['Value'].sum()\n",
    "weekly_covid_deaths_df = weekly_covid_deaths_df.to_frame(name = 'weekly_deaths').reset_index()\n"
   ]
  },
  {
   "cell_type": "code",
   "execution_count": 238,
   "metadata": {},
   "outputs": [],
   "source": [
    "\n",
    "county_covariates= pd.read_csv('https://raw.githubusercontent.com/JieYingWu/COVID-19_US_County-level_Summaries/master/data/counties.csv').dropna(subset=['FIPS'])\n",
    "county_covariates = county_covariates[county_covariates['State'] == 'CO']\n",
    "county_covariates.FIPS = county_covariates.FIPS.astype('int64')\n",
    "county_covariates=county_covariates.set_index('FIPS')\n",
    "age_race_df = pd.read_csv('https://docs.google.com/spreadsheets/d/12GIRONjeNHeKFb3EKpo5r-VvdsnTwwe0iOtKBsnZVM0/export?format=csv')\n",
    "county_icu_beds= pd.read_csv('https://docs.google.com/spreadsheets/d/13iUBUwRcE91_x9FhsF8Ugcb0_tFauWJF2Z-PSkERDlU/export?format=csv')\n",
    "FIPS = pd.read_csv('https://docs.google.com/spreadsheets/d/1jUwRaTSJ__3Wp60cZLLox5u55mJTZrShtjEK4d7xTEY/export?format=csv')\n",
    "covariates = age_race_df.merge(county_covariates, how='inner', left_on=[\"fips\"], right_on=['FIPS'])\n",
    "covariates = covariates.drop(['STNAME', 'County', 'Unnamed: 0','State', 'Area_Name'], axis=1)\n",
    "covariates = covariates.merge(county_icu_beds, how='inner', left_on=[\"fips\"], right_on=['fips'])\n",
    "covariates = covariates.drop(['County','State'], axis=1)\n",
    "covariates = covariates.fillna(0)\n",
    "\n",
    "covariates = covariates.dropna(axis='columns')\n",
    "\n",
    "covariates=covariates[['fips',\n",
    " 'TOT_POP',\n",
    " '0-9',\n",
    " '0-9 y/o % of total pop',\n",
    " '10-19',\n",
    " '10-19 y/o % of total pop',\n",
    " '20-29',\n",
    " '20-29 y/o % of total pop',\n",
    " '30-39',\n",
    " '30-39 y/o % of total pop',\n",
    " '40-49',\n",
    " '40-49 y/o % of total pop',\n",
    " '50-59',\n",
    " '50-59 y/o % of total pop',\n",
    " '60-69',\n",
    " '60-69 y/o % of total pop',\n",
    " '70-79',\n",
    " '70-79 y/o % of total pop',\n",
    " '80+',\n",
    " '80+ y/o % of total pop',\n",
    " 'White-alone pop',\n",
    " '% White-alone',\n",
    " 'Black-alone pop',\n",
    " '% Black-alone',\n",
    " 'Native American/American Indian-alone pop',\n",
    " '% NA/AI-alone',\n",
    " 'Asian-alone pop',\n",
    " '% Asian-alone',\n",
    " 'Hawaiian/Pacific Islander-alone pop',\n",
    " '% Hawaiian/PI-alone',\n",
    " 'Two or more races pop',\n",
    " '% Two or more races']]\n",
    " "
   ]
  },
  {
   "cell_type": "code",
   "execution_count": 239,
   "metadata": {},
   "outputs": [
    {
     "data": {
      "text/plain": [
       "5695564"
      ]
     },
     "execution_count": 239,
     "metadata": {},
     "output_type": "execute_result"
    }
   ],
   "source": [
    "covariates['TOT_POP'].sum()"
   ]
  },
  {
   "cell_type": "code",
   "execution_count": 240,
   "metadata": {},
   "outputs": [],
   "source": [
    "\n",
    "def merge_dataset(weekly_total_deaths_df, weekly_deaths_df, weekly_cases_df): \n",
    "    weekly_deaths_prior_one_weeks_df = weekly_deaths_df.copy() \n",
    "    weekly_deaths_prior_one_weeks_df[\"week\"] = weekly_deaths_prior_one_weeks_df[\"week\"] + 1\n",
    "    weekly_deaths_prior_one_weeks_df.rename(columns = {'weekly_deaths':'one_week_prior_weekly_deaths'}, inplace = True)\n",
    "    \n",
    "    weekly_deaths_prior_two_weeks_df = weekly_deaths_df.copy() \n",
    "    weekly_deaths_prior_two_weeks_df[\"week\"] = weekly_deaths_prior_two_weeks_df[\"week\"] + 2\n",
    "    weekly_deaths_prior_two_weeks_df.rename(columns = {'weekly_deaths':'two_week_prior_weekly_deaths'}, inplace = True)\n",
    "    \n",
    "    weekly_deaths_prior_three_weeks_df = weekly_deaths_df.copy() \n",
    "    weekly_deaths_prior_three_weeks_df[\"week\"] = weekly_deaths_prior_three_weeks_df[\"week\"] + 3\n",
    "    weekly_deaths_prior_three_weeks_df.rename(columns = {'weekly_deaths':'three_week_prior_weekly_deaths'}, inplace = True)\n",
    "    \n",
    "    weekly_deaths_merged_df = weekly_total_deaths_df.merge(weekly_deaths_prior_two_weeks_df[['two_week_prior_weekly_deaths',  'FIPS', 'week']], how='left', left_on=['county',  'week'], right_on=['FIPS',  'week'])\n",
    "    weekly_deaths_merged_df = weekly_deaths_merged_df.merge(weekly_deaths_prior_three_weeks_df[['three_week_prior_weekly_deaths', 'FIPS', 'week']], how='left', left_on=['county',  'week'], right_on=['FIPS', 'week'])\n",
    "    weekly_deaths_merged_df = weekly_deaths_merged_df.merge(weekly_deaths_prior_one_weeks_df[['one_week_prior_weekly_deaths', 'FIPS', 'week']], how='left', left_on=['county',  'week'], right_on=['FIPS', 'week'])\n",
    "\n",
    "    \n",
    "    weekly_cases_prior_two_weeks_df = weekly_cases_df.copy() \n",
    "    weekly_cases_prior_two_weeks_df[\"week\"] = weekly_cases_df[\"week\"] + 2\n",
    "    weekly_cases_prior_two_weeks_df.rename(columns = {'weekly_cases':'two_week_prior_weekly_cases'}, inplace = True)\n",
    "    weekly_cases_prior_three_weeks_df = weekly_cases_df.copy() \n",
    "    weekly_cases_prior_three_weeks_df[\"week\"] = weekly_cases_df[\"week\"] + 3\n",
    "    weekly_cases_prior_three_weeks_df.rename(columns = {'weekly_cases':'three_week_prior_weekly_cases'}, inplace = True)\n",
    "\n",
    "    weekly_deaths_merged_df = weekly_deaths_merged_df.merge(weekly_cases_prior_two_weeks_df[['two_week_prior_weekly_cases', 'FIPS', 'week']], how='left', left_on=['county',  'week'], right_on=['FIPS',  'week'])\n",
    "    weekly_deaths_merged_df = weekly_deaths_merged_df.merge(weekly_cases_prior_three_weeks_df[['three_week_prior_weekly_cases', 'FIPS', 'week']], how='left', left_on=['county',  'week'], right_on=['FIPS',  'week'])\n",
    "    return weekly_deaths_merged_df"
   ]
  },
  {
   "cell_type": "code",
   "execution_count": 241,
   "metadata": {},
   "outputs": [
    {
     "data": {
      "text/html": [
       "<div>\n",
       "<style scoped>\n",
       "    .dataframe tbody tr th:only-of-type {\n",
       "        vertical-align: middle;\n",
       "    }\n",
       "\n",
       "    .dataframe tbody tr th {\n",
       "        vertical-align: top;\n",
       "    }\n",
       "\n",
       "    .dataframe thead th {\n",
       "        text-align: right;\n",
       "    }\n",
       "</style>\n",
       "<table border=\"1\" class=\"dataframe\">\n",
       "  <thead>\n",
       "    <tr style=\"text-align: right;\">\n",
       "      <th></th>\n",
       "      <th>county</th>\n",
       "      <th>year</th>\n",
       "      <th>week</th>\n",
       "      <th>cat</th>\n",
       "      <th>total_deaths</th>\n",
       "      <th>pop</th>\n",
       "      <th>total_deaths_per100k</th>\n",
       "      <th>excess_deaths_per100k</th>\n",
       "      <th>two_week_prior_weekly_deaths</th>\n",
       "      <th>FIPS_x</th>\n",
       "      <th>one_week_prior_weekly_deaths</th>\n",
       "      <th>FIPS_y</th>\n",
       "      <th>two_week_prior_weekly_cases</th>\n",
       "      <th>FIPS_x</th>\n",
       "      <th>three_week_prior_weekly_cases</th>\n",
       "      <th>FIPS_y</th>\n",
       "    </tr>\n",
       "  </thead>\n",
       "  <tbody>\n",
       "    <tr>\n",
       "      <th>16</th>\n",
       "      <td>8001.0</td>\n",
       "      <td>2020</td>\n",
       "      <td>16</td>\n",
       "      <td>P</td>\n",
       "      <td>24</td>\n",
       "      <td>503590</td>\n",
       "      <td>24</td>\n",
       "      <td>6</td>\n",
       "      <td>39.0</td>\n",
       "      <td>8001.0</td>\n",
       "      <td>126.0</td>\n",
       "      <td>8001.0</td>\n",
       "      <td>1773.0</td>\n",
       "      <td>8001.0</td>\n",
       "      <td>416.0</td>\n",
       "      <td>8001.0</td>\n",
       "    </tr>\n",
       "    <tr>\n",
       "      <th>17</th>\n",
       "      <td>8001.0</td>\n",
       "      <td>2020</td>\n",
       "      <td>17</td>\n",
       "      <td>P</td>\n",
       "      <td>19</td>\n",
       "      <td>503590</td>\n",
       "      <td>19</td>\n",
       "      <td>4</td>\n",
       "      <td>126.0</td>\n",
       "      <td>8001.0</td>\n",
       "      <td>209.0</td>\n",
       "      <td>8001.0</td>\n",
       "      <td>3430.0</td>\n",
       "      <td>8001.0</td>\n",
       "      <td>1773.0</td>\n",
       "      <td>8001.0</td>\n",
       "    </tr>\n",
       "    <tr>\n",
       "      <th>18</th>\n",
       "      <td>8001.0</td>\n",
       "      <td>2020</td>\n",
       "      <td>18</td>\n",
       "      <td>P</td>\n",
       "      <td>22</td>\n",
       "      <td>503590</td>\n",
       "      <td>22</td>\n",
       "      <td>6</td>\n",
       "      <td>209.0</td>\n",
       "      <td>8001.0</td>\n",
       "      <td>351.0</td>\n",
       "      <td>8001.0</td>\n",
       "      <td>5651.0</td>\n",
       "      <td>8001.0</td>\n",
       "      <td>3430.0</td>\n",
       "      <td>8001.0</td>\n",
       "    </tr>\n",
       "    <tr>\n",
       "      <th>19</th>\n",
       "      <td>8001.0</td>\n",
       "      <td>2020</td>\n",
       "      <td>19</td>\n",
       "      <td>P</td>\n",
       "      <td>14</td>\n",
       "      <td>503590</td>\n",
       "      <td>14</td>\n",
       "      <td>-3</td>\n",
       "      <td>351.0</td>\n",
       "      <td>8001.0</td>\n",
       "      <td>450.0</td>\n",
       "      <td>8001.0</td>\n",
       "      <td>7981.0</td>\n",
       "      <td>8001.0</td>\n",
       "      <td>5651.0</td>\n",
       "      <td>8001.0</td>\n",
       "    </tr>\n",
       "    <tr>\n",
       "      <th>20</th>\n",
       "      <td>8001.0</td>\n",
       "      <td>2020</td>\n",
       "      <td>20</td>\n",
       "      <td>P</td>\n",
       "      <td>12</td>\n",
       "      <td>503590</td>\n",
       "      <td>12</td>\n",
       "      <td>-1</td>\n",
       "      <td>450.0</td>\n",
       "      <td>8001.0</td>\n",
       "      <td>535.0</td>\n",
       "      <td>8001.0</td>\n",
       "      <td>11071.0</td>\n",
       "      <td>8001.0</td>\n",
       "      <td>7981.0</td>\n",
       "      <td>8001.0</td>\n",
       "    </tr>\n",
       "    <tr>\n",
       "      <th>...</th>\n",
       "      <td>...</td>\n",
       "      <td>...</td>\n",
       "      <td>...</td>\n",
       "      <td>...</td>\n",
       "      <td>...</td>\n",
       "      <td>...</td>\n",
       "      <td>...</td>\n",
       "      <td>...</td>\n",
       "      <td>...</td>\n",
       "      <td>...</td>\n",
       "      <td>...</td>\n",
       "      <td>...</td>\n",
       "      <td>...</td>\n",
       "      <td>...</td>\n",
       "      <td>...</td>\n",
       "      <td>...</td>\n",
       "    </tr>\n",
       "    <tr>\n",
       "      <th>945</th>\n",
       "      <td>8123.0</td>\n",
       "      <td>2020</td>\n",
       "      <td>26</td>\n",
       "      <td>P</td>\n",
       "      <td>5</td>\n",
       "      <td>305885</td>\n",
       "      <td>5</td>\n",
       "      <td>-2</td>\n",
       "      <td>949.0</td>\n",
       "      <td>8123.0</td>\n",
       "      <td>952.0</td>\n",
       "      <td>8123.0</td>\n",
       "      <td>18401.0</td>\n",
       "      <td>8123.0</td>\n",
       "      <td>17750.0</td>\n",
       "      <td>8123.0</td>\n",
       "    </tr>\n",
       "    <tr>\n",
       "      <th>946</th>\n",
       "      <td>8123.0</td>\n",
       "      <td>2020</td>\n",
       "      <td>27</td>\n",
       "      <td>P</td>\n",
       "      <td>10</td>\n",
       "      <td>305885</td>\n",
       "      <td>10</td>\n",
       "      <td>1</td>\n",
       "      <td>952.0</td>\n",
       "      <td>8123.0</td>\n",
       "      <td>953.0</td>\n",
       "      <td>8123.0</td>\n",
       "      <td>18868.0</td>\n",
       "      <td>8123.0</td>\n",
       "      <td>18401.0</td>\n",
       "      <td>8123.0</td>\n",
       "    </tr>\n",
       "    <tr>\n",
       "      <th>947</th>\n",
       "      <td>8123.0</td>\n",
       "      <td>2020</td>\n",
       "      <td>28</td>\n",
       "      <td>P</td>\n",
       "      <td>13</td>\n",
       "      <td>305885</td>\n",
       "      <td>13</td>\n",
       "      <td>7</td>\n",
       "      <td>953.0</td>\n",
       "      <td>8123.0</td>\n",
       "      <td>959.0</td>\n",
       "      <td>8123.0</td>\n",
       "      <td>19301.0</td>\n",
       "      <td>8123.0</td>\n",
       "      <td>18868.0</td>\n",
       "      <td>8123.0</td>\n",
       "    </tr>\n",
       "    <tr>\n",
       "      <th>948</th>\n",
       "      <td>8123.0</td>\n",
       "      <td>2020</td>\n",
       "      <td>29</td>\n",
       "      <td>P</td>\n",
       "      <td>6</td>\n",
       "      <td>305885</td>\n",
       "      <td>6</td>\n",
       "      <td>-1</td>\n",
       "      <td>959.0</td>\n",
       "      <td>8123.0</td>\n",
       "      <td>965.0</td>\n",
       "      <td>8123.0</td>\n",
       "      <td>19848.0</td>\n",
       "      <td>8123.0</td>\n",
       "      <td>19301.0</td>\n",
       "      <td>8123.0</td>\n",
       "    </tr>\n",
       "    <tr>\n",
       "      <th>949</th>\n",
       "      <td>8123.0</td>\n",
       "      <td>2020</td>\n",
       "      <td>30</td>\n",
       "      <td>P</td>\n",
       "      <td>4</td>\n",
       "      <td>305885</td>\n",
       "      <td>4</td>\n",
       "      <td>-6</td>\n",
       "      <td>965.0</td>\n",
       "      <td>8123.0</td>\n",
       "      <td>970.0</td>\n",
       "      <td>8123.0</td>\n",
       "      <td>20577.0</td>\n",
       "      <td>8123.0</td>\n",
       "      <td>19848.0</td>\n",
       "      <td>8123.0</td>\n",
       "    </tr>\n",
       "  </tbody>\n",
       "</table>\n",
       "<p>313 rows × 16 columns</p>\n",
       "</div>"
      ],
      "text/plain": [
       "     county  year  week cat  total_deaths     pop  total_deaths_per100k  \\\n",
       "16   8001.0  2020    16   P            24  503590                    24   \n",
       "17   8001.0  2020    17   P            19  503590                    19   \n",
       "18   8001.0  2020    18   P            22  503590                    22   \n",
       "19   8001.0  2020    19   P            14  503590                    14   \n",
       "20   8001.0  2020    20   P            12  503590                    12   \n",
       "..      ...   ...   ...  ..           ...     ...                   ...   \n",
       "945  8123.0  2020    26   P             5  305885                     5   \n",
       "946  8123.0  2020    27   P            10  305885                    10   \n",
       "947  8123.0  2020    28   P            13  305885                    13   \n",
       "948  8123.0  2020    29   P             6  305885                     6   \n",
       "949  8123.0  2020    30   P             4  305885                     4   \n",
       "\n",
       "     excess_deaths_per100k  two_week_prior_weekly_deaths  FIPS_x  \\\n",
       "16                       6                          39.0  8001.0   \n",
       "17                       4                         126.0  8001.0   \n",
       "18                       6                         209.0  8001.0   \n",
       "19                      -3                         351.0  8001.0   \n",
       "20                      -1                         450.0  8001.0   \n",
       "..                     ...                           ...     ...   \n",
       "945                     -2                         949.0  8123.0   \n",
       "946                      1                         952.0  8123.0   \n",
       "947                      7                         953.0  8123.0   \n",
       "948                     -1                         959.0  8123.0   \n",
       "949                     -6                         965.0  8123.0   \n",
       "\n",
       "     one_week_prior_weekly_deaths  FIPS_y  two_week_prior_weekly_cases  \\\n",
       "16                          126.0  8001.0                       1773.0   \n",
       "17                          209.0  8001.0                       3430.0   \n",
       "18                          351.0  8001.0                       5651.0   \n",
       "19                          450.0  8001.0                       7981.0   \n",
       "20                          535.0  8001.0                      11071.0   \n",
       "..                            ...     ...                          ...   \n",
       "945                         952.0  8123.0                      18401.0   \n",
       "946                         953.0  8123.0                      18868.0   \n",
       "947                         959.0  8123.0                      19301.0   \n",
       "948                         965.0  8123.0                      19848.0   \n",
       "949                         970.0  8123.0                      20577.0   \n",
       "\n",
       "     FIPS_x  three_week_prior_weekly_cases  FIPS_y  \n",
       "16   8001.0                          416.0  8001.0  \n",
       "17   8001.0                         1773.0  8001.0  \n",
       "18   8001.0                         3430.0  8001.0  \n",
       "19   8001.0                         5651.0  8001.0  \n",
       "20   8001.0                         7981.0  8001.0  \n",
       "..      ...                            ...     ...  \n",
       "945  8123.0                        17750.0  8123.0  \n",
       "946  8123.0                        18401.0  8123.0  \n",
       "947  8123.0                        18868.0  8123.0  \n",
       "948  8123.0                        19301.0  8123.0  \n",
       "949  8123.0                        19848.0  8123.0  \n",
       "\n",
       "[313 rows x 16 columns]"
      ]
     },
     "execution_count": 241,
     "metadata": {},
     "output_type": "execute_result"
    }
   ],
   "source": [
    "weekly_deaths_merged_df_non_pulm = merge_dataset(weekly_deaths_df[weekly_deaths_df['cat'] == 'NP'],weekly_covid_deaths_df,weekly_covid_cases_df) \n",
    "weekly_deaths_merged_df_pulm  = merge_dataset(weekly_deaths_df[weekly_deaths_df['cat'] == 'P'],weekly_covid_deaths_df,weekly_covid_cases_df) \n",
    "weekly_deaths_merged_df_pulm[weekly_deaths_merged_df_pulm['two_week_prior_weekly_deaths'] > 0]"
   ]
  },
  {
   "cell_type": "code",
   "execution_count": 242,
   "metadata": {},
   "outputs": [],
   "source": [
    "\n",
    "covariates_merged_non_pulm = covariates.merge(weekly_deaths_merged_df_non_pulm[['one_week_prior_weekly_deaths',\n",
    "                                                                                'two_week_prior_weekly_deaths', \n",
    "                                                              'three_week_prior_weekly_deaths',                 \n",
    "                                                              'two_week_prior_weekly_cases',\n",
    "                                                              'three_week_prior_weekly_cases',\n",
    "                                            'county', 'year', 'week']], how='inner', left_on=[\"fips\"], right_on=['county'])\n",
    "covariates_merged_pulm = covariates.merge(weekly_deaths_merged_df_pulm[['one_week_prior_weekly_deaths','two_week_prior_weekly_deaths', \n",
    "                                                              'three_week_prior_weekly_deaths',                 \n",
    "                                                              'two_week_prior_weekly_cases',\n",
    "                                                              'three_week_prior_weekly_cases',\n",
    "                                            'county', 'year', 'week']], how='inner', left_on=[\"fips\"], right_on=['county'])\n"
   ]
  },
  {
   "cell_type": "code",
   "execution_count": 243,
   "metadata": {},
   "outputs": [
    {
     "data": {
      "text/html": [
       "<div>\n",
       "<style scoped>\n",
       "    .dataframe tbody tr th:only-of-type {\n",
       "        vertical-align: middle;\n",
       "    }\n",
       "\n",
       "    .dataframe tbody tr th {\n",
       "        vertical-align: top;\n",
       "    }\n",
       "\n",
       "    .dataframe thead th {\n",
       "        text-align: right;\n",
       "    }\n",
       "</style>\n",
       "<table border=\"1\" class=\"dataframe\">\n",
       "  <thead>\n",
       "    <tr style=\"text-align: right;\">\n",
       "      <th></th>\n",
       "      <th>fips</th>\n",
       "      <th>TOT_POP</th>\n",
       "      <th>0-9</th>\n",
       "      <th>0-9 y/o % of total pop</th>\n",
       "      <th>10-19</th>\n",
       "      <th>10-19 y/o % of total pop</th>\n",
       "      <th>20-29</th>\n",
       "      <th>20-29 y/o % of total pop</th>\n",
       "      <th>30-39</th>\n",
       "      <th>30-39 y/o % of total pop</th>\n",
       "      <th>...</th>\n",
       "      <th>% Hawaiian/PI-alone</th>\n",
       "      <th>Two or more races pop</th>\n",
       "      <th>% Two or more races</th>\n",
       "      <th>one_week_prior_weekly_deaths</th>\n",
       "      <th>two_week_prior_weekly_deaths</th>\n",
       "      <th>two_week_prior_weekly_cases</th>\n",
       "      <th>three_week_prior_weekly_cases</th>\n",
       "      <th>county</th>\n",
       "      <th>year</th>\n",
       "      <th>week</th>\n",
       "    </tr>\n",
       "  </thead>\n",
       "  <tbody>\n",
       "    <tr>\n",
       "      <th>0</th>\n",
       "      <td>8001</td>\n",
       "      <td>511868</td>\n",
       "      <td>73891</td>\n",
       "      <td>14.435558</td>\n",
       "      <td>74370</td>\n",
       "      <td>14.529136</td>\n",
       "      <td>72978</td>\n",
       "      <td>14.257191</td>\n",
       "      <td>83206</td>\n",
       "      <td>16.255363</td>\n",
       "      <td>...</td>\n",
       "      <td>0.216462</td>\n",
       "      <td>16245</td>\n",
       "      <td>3.173670</td>\n",
       "      <td>NaN</td>\n",
       "      <td>NaN</td>\n",
       "      <td>NaN</td>\n",
       "      <td>NaN</td>\n",
       "      <td>8001.0</td>\n",
       "      <td>2020</td>\n",
       "      <td>0</td>\n",
       "    </tr>\n",
       "    <tr>\n",
       "      <th>1</th>\n",
       "      <td>8001</td>\n",
       "      <td>511868</td>\n",
       "      <td>73891</td>\n",
       "      <td>14.435558</td>\n",
       "      <td>74370</td>\n",
       "      <td>14.529136</td>\n",
       "      <td>72978</td>\n",
       "      <td>14.257191</td>\n",
       "      <td>83206</td>\n",
       "      <td>16.255363</td>\n",
       "      <td>...</td>\n",
       "      <td>0.216462</td>\n",
       "      <td>16245</td>\n",
       "      <td>3.173670</td>\n",
       "      <td>NaN</td>\n",
       "      <td>NaN</td>\n",
       "      <td>NaN</td>\n",
       "      <td>NaN</td>\n",
       "      <td>8001.0</td>\n",
       "      <td>2020</td>\n",
       "      <td>1</td>\n",
       "    </tr>\n",
       "    <tr>\n",
       "      <th>2</th>\n",
       "      <td>8001</td>\n",
       "      <td>511868</td>\n",
       "      <td>73891</td>\n",
       "      <td>14.435558</td>\n",
       "      <td>74370</td>\n",
       "      <td>14.529136</td>\n",
       "      <td>72978</td>\n",
       "      <td>14.257191</td>\n",
       "      <td>83206</td>\n",
       "      <td>16.255363</td>\n",
       "      <td>...</td>\n",
       "      <td>0.216462</td>\n",
       "      <td>16245</td>\n",
       "      <td>3.173670</td>\n",
       "      <td>NaN</td>\n",
       "      <td>NaN</td>\n",
       "      <td>NaN</td>\n",
       "      <td>NaN</td>\n",
       "      <td>8001.0</td>\n",
       "      <td>2020</td>\n",
       "      <td>2</td>\n",
       "    </tr>\n",
       "    <tr>\n",
       "      <th>3</th>\n",
       "      <td>8001</td>\n",
       "      <td>511868</td>\n",
       "      <td>73891</td>\n",
       "      <td>14.435558</td>\n",
       "      <td>74370</td>\n",
       "      <td>14.529136</td>\n",
       "      <td>72978</td>\n",
       "      <td>14.257191</td>\n",
       "      <td>83206</td>\n",
       "      <td>16.255363</td>\n",
       "      <td>...</td>\n",
       "      <td>0.216462</td>\n",
       "      <td>16245</td>\n",
       "      <td>3.173670</td>\n",
       "      <td>NaN</td>\n",
       "      <td>NaN</td>\n",
       "      <td>NaN</td>\n",
       "      <td>NaN</td>\n",
       "      <td>8001.0</td>\n",
       "      <td>2020</td>\n",
       "      <td>3</td>\n",
       "    </tr>\n",
       "    <tr>\n",
       "      <th>4</th>\n",
       "      <td>8001</td>\n",
       "      <td>511868</td>\n",
       "      <td>73891</td>\n",
       "      <td>14.435558</td>\n",
       "      <td>74370</td>\n",
       "      <td>14.529136</td>\n",
       "      <td>72978</td>\n",
       "      <td>14.257191</td>\n",
       "      <td>83206</td>\n",
       "      <td>16.255363</td>\n",
       "      <td>...</td>\n",
       "      <td>0.216462</td>\n",
       "      <td>16245</td>\n",
       "      <td>3.173670</td>\n",
       "      <td>NaN</td>\n",
       "      <td>NaN</td>\n",
       "      <td>NaN</td>\n",
       "      <td>NaN</td>\n",
       "      <td>8001.0</td>\n",
       "      <td>2020</td>\n",
       "      <td>4</td>\n",
       "    </tr>\n",
       "    <tr>\n",
       "      <th>...</th>\n",
       "      <td>...</td>\n",
       "      <td>...</td>\n",
       "      <td>...</td>\n",
       "      <td>...</td>\n",
       "      <td>...</td>\n",
       "      <td>...</td>\n",
       "      <td>...</td>\n",
       "      <td>...</td>\n",
       "      <td>...</td>\n",
       "      <td>...</td>\n",
       "      <td>...</td>\n",
       "      <td>...</td>\n",
       "      <td>...</td>\n",
       "      <td>...</td>\n",
       "      <td>...</td>\n",
       "      <td>...</td>\n",
       "      <td>...</td>\n",
       "      <td>...</td>\n",
       "      <td>...</td>\n",
       "      <td>...</td>\n",
       "      <td>...</td>\n",
       "    </tr>\n",
       "    <tr>\n",
       "      <th>875</th>\n",
       "      <td>8125</td>\n",
       "      <td>10020</td>\n",
       "      <td>1533</td>\n",
       "      <td>15.299401</td>\n",
       "      <td>1381</td>\n",
       "      <td>13.782435</td>\n",
       "      <td>1122</td>\n",
       "      <td>11.197605</td>\n",
       "      <td>1228</td>\n",
       "      <td>12.255489</td>\n",
       "      <td>...</td>\n",
       "      <td>0.209581</td>\n",
       "      <td>113</td>\n",
       "      <td>1.127745</td>\n",
       "      <td>0.0</td>\n",
       "      <td>0.0</td>\n",
       "      <td>68.0</td>\n",
       "      <td>55.0</td>\n",
       "      <td>8125.0</td>\n",
       "      <td>2020</td>\n",
       "      <td>21</td>\n",
       "    </tr>\n",
       "    <tr>\n",
       "      <th>876</th>\n",
       "      <td>8125</td>\n",
       "      <td>10020</td>\n",
       "      <td>1533</td>\n",
       "      <td>15.299401</td>\n",
       "      <td>1381</td>\n",
       "      <td>13.782435</td>\n",
       "      <td>1122</td>\n",
       "      <td>11.197605</td>\n",
       "      <td>1228</td>\n",
       "      <td>12.255489</td>\n",
       "      <td>...</td>\n",
       "      <td>0.209581</td>\n",
       "      <td>113</td>\n",
       "      <td>1.127745</td>\n",
       "      <td>0.0</td>\n",
       "      <td>0.0</td>\n",
       "      <td>182.0</td>\n",
       "      <td>87.0</td>\n",
       "      <td>8125.0</td>\n",
       "      <td>2020</td>\n",
       "      <td>24</td>\n",
       "    </tr>\n",
       "    <tr>\n",
       "      <th>877</th>\n",
       "      <td>8125</td>\n",
       "      <td>10020</td>\n",
       "      <td>1533</td>\n",
       "      <td>15.299401</td>\n",
       "      <td>1381</td>\n",
       "      <td>13.782435</td>\n",
       "      <td>1122</td>\n",
       "      <td>11.197605</td>\n",
       "      <td>1228</td>\n",
       "      <td>12.255489</td>\n",
       "      <td>...</td>\n",
       "      <td>0.209581</td>\n",
       "      <td>113</td>\n",
       "      <td>1.127745</td>\n",
       "      <td>0.0</td>\n",
       "      <td>0.0</td>\n",
       "      <td>344.0</td>\n",
       "      <td>333.0</td>\n",
       "      <td>8125.0</td>\n",
       "      <td>2020</td>\n",
       "      <td>27</td>\n",
       "    </tr>\n",
       "    <tr>\n",
       "      <th>878</th>\n",
       "      <td>8125</td>\n",
       "      <td>10020</td>\n",
       "      <td>1533</td>\n",
       "      <td>15.299401</td>\n",
       "      <td>1381</td>\n",
       "      <td>13.782435</td>\n",
       "      <td>1122</td>\n",
       "      <td>11.197605</td>\n",
       "      <td>1228</td>\n",
       "      <td>12.255489</td>\n",
       "      <td>...</td>\n",
       "      <td>0.209581</td>\n",
       "      <td>113</td>\n",
       "      <td>1.127745</td>\n",
       "      <td>0.0</td>\n",
       "      <td>0.0</td>\n",
       "      <td>355.0</td>\n",
       "      <td>344.0</td>\n",
       "      <td>8125.0</td>\n",
       "      <td>2020</td>\n",
       "      <td>28</td>\n",
       "    </tr>\n",
       "    <tr>\n",
       "      <th>879</th>\n",
       "      <td>8125</td>\n",
       "      <td>10020</td>\n",
       "      <td>1533</td>\n",
       "      <td>15.299401</td>\n",
       "      <td>1381</td>\n",
       "      <td>13.782435</td>\n",
       "      <td>1122</td>\n",
       "      <td>11.197605</td>\n",
       "      <td>1228</td>\n",
       "      <td>12.255489</td>\n",
       "      <td>...</td>\n",
       "      <td>0.209581</td>\n",
       "      <td>113</td>\n",
       "      <td>1.127745</td>\n",
       "      <td>0.0</td>\n",
       "      <td>0.0</td>\n",
       "      <td>366.0</td>\n",
       "      <td>355.0</td>\n",
       "      <td>8125.0</td>\n",
       "      <td>2020</td>\n",
       "      <td>29</td>\n",
       "    </tr>\n",
       "  </tbody>\n",
       "</table>\n",
       "<p>880 rows × 39 columns</p>\n",
       "</div>"
      ],
      "text/plain": [
       "     fips  TOT_POP    0-9  0-9 y/o % of total pop  10-19  \\\n",
       "0    8001   511868  73891               14.435558  74370   \n",
       "1    8001   511868  73891               14.435558  74370   \n",
       "2    8001   511868  73891               14.435558  74370   \n",
       "3    8001   511868  73891               14.435558  74370   \n",
       "4    8001   511868  73891               14.435558  74370   \n",
       "..    ...      ...    ...                     ...    ...   \n",
       "875  8125    10020   1533               15.299401   1381   \n",
       "876  8125    10020   1533               15.299401   1381   \n",
       "877  8125    10020   1533               15.299401   1381   \n",
       "878  8125    10020   1533               15.299401   1381   \n",
       "879  8125    10020   1533               15.299401   1381   \n",
       "\n",
       "     10-19 y/o % of total pop  20-29  20-29 y/o % of total pop  30-39  \\\n",
       "0                   14.529136  72978                 14.257191  83206   \n",
       "1                   14.529136  72978                 14.257191  83206   \n",
       "2                   14.529136  72978                 14.257191  83206   \n",
       "3                   14.529136  72978                 14.257191  83206   \n",
       "4                   14.529136  72978                 14.257191  83206   \n",
       "..                        ...    ...                       ...    ...   \n",
       "875                 13.782435   1122                 11.197605   1228   \n",
       "876                 13.782435   1122                 11.197605   1228   \n",
       "877                 13.782435   1122                 11.197605   1228   \n",
       "878                 13.782435   1122                 11.197605   1228   \n",
       "879                 13.782435   1122                 11.197605   1228   \n",
       "\n",
       "     30-39 y/o % of total pop  ...  % Hawaiian/PI-alone  \\\n",
       "0                   16.255363  ...             0.216462   \n",
       "1                   16.255363  ...             0.216462   \n",
       "2                   16.255363  ...             0.216462   \n",
       "3                   16.255363  ...             0.216462   \n",
       "4                   16.255363  ...             0.216462   \n",
       "..                        ...  ...                  ...   \n",
       "875                 12.255489  ...             0.209581   \n",
       "876                 12.255489  ...             0.209581   \n",
       "877                 12.255489  ...             0.209581   \n",
       "878                 12.255489  ...             0.209581   \n",
       "879                 12.255489  ...             0.209581   \n",
       "\n",
       "     Two or more races pop  % Two or more races  one_week_prior_weekly_deaths  \\\n",
       "0                    16245             3.173670                           NaN   \n",
       "1                    16245             3.173670                           NaN   \n",
       "2                    16245             3.173670                           NaN   \n",
       "3                    16245             3.173670                           NaN   \n",
       "4                    16245             3.173670                           NaN   \n",
       "..                     ...                  ...                           ...   \n",
       "875                    113             1.127745                           0.0   \n",
       "876                    113             1.127745                           0.0   \n",
       "877                    113             1.127745                           0.0   \n",
       "878                    113             1.127745                           0.0   \n",
       "879                    113             1.127745                           0.0   \n",
       "\n",
       "     two_week_prior_weekly_deaths  two_week_prior_weekly_cases  \\\n",
       "0                             NaN                          NaN   \n",
       "1                             NaN                          NaN   \n",
       "2                             NaN                          NaN   \n",
       "3                             NaN                          NaN   \n",
       "4                             NaN                          NaN   \n",
       "..                            ...                          ...   \n",
       "875                           0.0                         68.0   \n",
       "876                           0.0                        182.0   \n",
       "877                           0.0                        344.0   \n",
       "878                           0.0                        355.0   \n",
       "879                           0.0                        366.0   \n",
       "\n",
       "     three_week_prior_weekly_cases  county  year  week  \n",
       "0                              NaN  8001.0  2020     0  \n",
       "1                              NaN  8001.0  2020     1  \n",
       "2                              NaN  8001.0  2020     2  \n",
       "3                              NaN  8001.0  2020     3  \n",
       "4                              NaN  8001.0  2020     4  \n",
       "..                             ...     ...   ...   ...  \n",
       "875                           55.0  8125.0  2020    21  \n",
       "876                           87.0  8125.0  2020    24  \n",
       "877                          333.0  8125.0  2020    27  \n",
       "878                          344.0  8125.0  2020    28  \n",
       "879                          355.0  8125.0  2020    29  \n",
       "\n",
       "[880 rows x 39 columns]"
      ]
     },
     "execution_count": 243,
     "metadata": {},
     "output_type": "execute_result"
    }
   ],
   "source": [
    "covariates_merged_non_pulm"
   ]
  },
  {
   "cell_type": "code",
   "execution_count": 244,
   "metadata": {},
   "outputs": [],
   "source": [
    "def run_model(train_start_week_day,train_end_week_day,predict_start_week_day,predict_end_week_day,\n",
    "              covariates_merged,weekly_deaths_merged_df,predict_column_index,best_fit_scores,index):\n",
    "    print(\"train:\", train_start_week_day ,\":\", train_end_week_day, \n",
    "        \" predict:\" , predict_start_week_day, \":\",  predict_end_week_day,)\n",
    "    print \n",
    "    #print (\"training week number: \" , week_num+1)\n",
    "    #********************TRAIN MODEL ************************ \n",
    "    #train with all coutnies variates for one  week  and predict for LA county cumulative deaths\n",
    "    train_week = pd.Series(range(train_start_week_day,train_end_week_day))\n",
    "    #print (\"training week series :\" , train_week.array)\n",
    "    covariates_train_week = covariates_merged.loc[(covariates_merged['week'].isin(train_week))] \n",
    "    weekly_deaths_train_week = weekly_deaths_merged_df.loc[(weekly_deaths_merged_df['week'].isin(train_week))].iloc[:, predict_column_index]  \n",
    "    if len(weekly_deaths_merged_df) > 0:\n",
    "       \n",
    "        X_train = covariates_train_week\n",
    "        Y_train = weekly_deaths_train_week\n",
    "        #reg = LassoCV(cv=5, random_state=0).fit(X_train, Y_train)\n",
    "        xgbReg = xgb.XGBRegressor()\n",
    "\n",
    "        parameters = {\n",
    "              'objective':['reg:squarederror'],\n",
    "              'learning_rate': [0.01, 0.05, 0.08], #so called `eta` value\n",
    "              'max_depth': [1,2,3,4],\n",
    "              'min_child_weight': [1,2],\n",
    "              'subsample': [0.8],\n",
    "              'colsample_bytree' : [0.8],\n",
    "              'n_estimators': [ 100,200]}\n",
    "        tscv = TimeSeriesSplit(n_splits=2)\n",
    "        xgb_grid = GridSearchCV(xgbReg,\n",
    "                        parameters,\n",
    "                        cv = tscv,\n",
    "                        n_jobs = 4,\n",
    "                        scoring = 'r2',\n",
    "                        verbose=True)\n",
    "\n",
    "        xgb_grid.fit(X_train,Y_train)\n",
    "\n",
    "\n",
    "        print(xgb_grid.best_score_)\n",
    "        print(xgb_grid.best_params_)\n",
    "        results = xgb_grid.cv_results_\n",
    "        predict_week = pd.Series(range(predict_start_week_day, predict_end_week_day ))\n",
    "        #print (\"predicting next week series :\" , predict_week.array)\n",
    "\n",
    "        X_predict_week = covariates_merged.loc[(covariates_merged['week'].isin(predict_week))]\n",
    "        predict_week_df = weekly_deaths_merged_df.loc[(weekly_deaths_merged_df['week'].isin(predict_week))]\n",
    "        Y_actual_predict_week = predict_week_df.iloc[:,predict_column_index]\n",
    "        #best_reg.fit(X_tune_week, Y_actual_tune_week)\n",
    "        Y_predict_week = xgb_grid.best_estimator_.predict(X_predict_week)\n",
    "        predict_score = r2_score(Y_actual_predict_week, Y_predict_week)\n",
    "        print(week_num , \":\", predict_score)\n",
    "        best_fit_scores.loc[index] = [str(predict_start_week_day), xgb_grid.best_params_, xgb_grid.best_score_,  predict_score]\n",
    "\n",
    "        return Y_predict_week, Y_actual_predict_week\n",
    "    return None\n",
    "       "
   ]
  },
  {
   "cell_type": "code",
   "execution_count": 245,
   "metadata": {},
   "outputs": [
    {
     "name": "stdout",
     "output_type": "stream",
     "text": [
      "min_week:  0  max week:  30  number of weeks :  30\n",
      "train: 1 : 3  predict: 3 : 4\n",
      "train: 1 : 3  predict: 3 : 4\n",
      "Fitting 2 folds for each of 48 candidates, totalling 96 fits\n"
     ]
    },
    {
     "name": "stderr",
     "output_type": "stream",
     "text": [
      "[Parallel(n_jobs=4)]: Using backend LokyBackend with 4 concurrent workers.\n",
      "[Parallel(n_jobs=4)]: Done  96 out of  96 | elapsed:    0.7s finished\n",
      "[Parallel(n_jobs=4)]: Using backend LokyBackend with 4 concurrent workers.\n"
     ]
    },
    {
     "name": "stdout",
     "output_type": "stream",
     "text": [
      "0.14757754980067744\n",
      "{'colsample_bytree': 0.8, 'learning_rate': 0.01, 'max_depth': 4, 'min_child_weight': 1, 'n_estimators': 200, 'objective': 'reg:squarederror', 'subsample': 0.8}\n",
      "7 : -0.515658370237726\n",
      "train: 2 : 4  predict: 4 : 5\n",
      "Fitting 2 folds for each of 48 candidates, totalling 96 fits\n"
     ]
    },
    {
     "name": "stderr",
     "output_type": "stream",
     "text": [
      "[Parallel(n_jobs=4)]: Done  96 out of  96 | elapsed:    0.8s finished\n",
      "[Parallel(n_jobs=4)]: Using backend LokyBackend with 4 concurrent workers.\n"
     ]
    },
    {
     "name": "stdout",
     "output_type": "stream",
     "text": [
      "0.18798495357739375\n",
      "{'colsample_bytree': 0.8, 'learning_rate': 0.01, 'max_depth': 4, 'min_child_weight': 1, 'n_estimators': 200, 'objective': 'reg:squarederror', 'subsample': 0.8}\n",
      "7 : -0.2240451867159683\n",
      "train: 3 : 5  predict: 5 : 6\n",
      "Fitting 2 folds for each of 48 candidates, totalling 96 fits\n"
     ]
    },
    {
     "name": "stderr",
     "output_type": "stream",
     "text": [
      "[Parallel(n_jobs=4)]: Done  96 out of  96 | elapsed:    0.7s finished\n",
      "[Parallel(n_jobs=4)]: Using backend LokyBackend with 4 concurrent workers.\n"
     ]
    },
    {
     "name": "stdout",
     "output_type": "stream",
     "text": [
      "-0.14909765662350993\n",
      "{'colsample_bytree': 0.8, 'learning_rate': 0.01, 'max_depth': 3, 'min_child_weight': 1, 'n_estimators': 100, 'objective': 'reg:squarederror', 'subsample': 0.8}\n",
      "7 : 0.08017664983162853\n",
      "train: 4 : 6  predict: 6 : 7\n",
      "Fitting 2 folds for each of 48 candidates, totalling 96 fits\n"
     ]
    },
    {
     "name": "stderr",
     "output_type": "stream",
     "text": [
      "[Parallel(n_jobs=4)]: Done  96 out of  96 | elapsed:    0.7s finished\n",
      "[Parallel(n_jobs=4)]: Using backend LokyBackend with 4 concurrent workers.\n"
     ]
    },
    {
     "name": "stdout",
     "output_type": "stream",
     "text": [
      "0.12502091327368586\n",
      "{'colsample_bytree': 0.8, 'learning_rate': 0.01, 'max_depth': 1, 'min_child_weight': 2, 'n_estimators': 200, 'objective': 'reg:squarederror', 'subsample': 0.8}\n",
      "7 : 0.27645174930982197\n",
      "train: 5 : 7  predict: 7 : 8\n",
      "Fitting 2 folds for each of 48 candidates, totalling 96 fits\n"
     ]
    },
    {
     "name": "stderr",
     "output_type": "stream",
     "text": [
      "[Parallel(n_jobs=4)]: Done  96 out of  96 | elapsed:    0.7s finished\n",
      "[Parallel(n_jobs=4)]: Using backend LokyBackend with 4 concurrent workers.\n"
     ]
    },
    {
     "name": "stdout",
     "output_type": "stream",
     "text": [
      "0.2519953615529067\n",
      "{'colsample_bytree': 0.8, 'learning_rate': 0.05, 'max_depth': 4, 'min_child_weight': 1, 'n_estimators': 100, 'objective': 'reg:squarederror', 'subsample': 0.8}\n",
      "7 : -0.6538114150429033\n",
      "train: 6 : 8  predict: 8 : 9\n",
      "Fitting 2 folds for each of 48 candidates, totalling 96 fits\n"
     ]
    },
    {
     "name": "stderr",
     "output_type": "stream",
     "text": [
      "[Parallel(n_jobs=4)]: Done  96 out of  96 | elapsed:    0.8s finished\n",
      "[Parallel(n_jobs=4)]: Using backend LokyBackend with 4 concurrent workers.\n"
     ]
    },
    {
     "name": "stdout",
     "output_type": "stream",
     "text": [
      "0.3222363956828268\n",
      "{'colsample_bytree': 0.8, 'learning_rate': 0.05, 'max_depth': 4, 'min_child_weight': 2, 'n_estimators': 100, 'objective': 'reg:squarederror', 'subsample': 0.8}\n",
      "7 : -0.5801504656403276\n",
      "train: 7 : 9  predict: 9 : 10\n",
      "Fitting 2 folds for each of 48 candidates, totalling 96 fits\n"
     ]
    },
    {
     "name": "stderr",
     "output_type": "stream",
     "text": [
      "[Parallel(n_jobs=4)]: Done  96 out of  96 | elapsed:    0.8s finished\n",
      "[Parallel(n_jobs=4)]: Using backend LokyBackend with 4 concurrent workers.\n"
     ]
    },
    {
     "name": "stdout",
     "output_type": "stream",
     "text": [
      "0.062241906860245166\n",
      "{'colsample_bytree': 0.8, 'learning_rate': 0.01, 'max_depth': 3, 'min_child_weight': 2, 'n_estimators': 200, 'objective': 'reg:squarederror', 'subsample': 0.8}\n",
      "7 : 0.0011424229994688728\n",
      "train: 8 : 10  predict: 10 : 11\n",
      "Fitting 2 folds for each of 48 candidates, totalling 96 fits\n"
     ]
    },
    {
     "name": "stderr",
     "output_type": "stream",
     "text": [
      "[Parallel(n_jobs=4)]: Done  96 out of  96 | elapsed:    0.7s finished\n",
      "[Parallel(n_jobs=4)]: Using backend LokyBackend with 4 concurrent workers.\n"
     ]
    },
    {
     "name": "stdout",
     "output_type": "stream",
     "text": [
      "-0.2348250028050215\n",
      "{'colsample_bytree': 0.8, 'learning_rate': 0.01, 'max_depth': 1, 'min_child_weight': 1, 'n_estimators': 100, 'objective': 'reg:squarederror', 'subsample': 0.8}\n",
      "7 : -0.6818370096541098\n",
      "train: 9 : 11  predict: 11 : 12\n",
      "Fitting 2 folds for each of 48 candidates, totalling 96 fits\n"
     ]
    },
    {
     "name": "stderr",
     "output_type": "stream",
     "text": [
      "[Parallel(n_jobs=4)]: Done  96 out of  96 | elapsed:    0.8s finished\n",
      "[Parallel(n_jobs=4)]: Using backend LokyBackend with 4 concurrent workers.\n"
     ]
    },
    {
     "name": "stdout",
     "output_type": "stream",
     "text": [
      "-0.34576372230291885\n",
      "{'colsample_bytree': 0.8, 'learning_rate': 0.01, 'max_depth': 1, 'min_child_weight': 2, 'n_estimators': 100, 'objective': 'reg:squarederror', 'subsample': 0.8}\n",
      "7 : 0.09886692053790214\n",
      "train: 10 : 12  predict: 12 : 13\n",
      "Fitting 2 folds for each of 48 candidates, totalling 96 fits\n"
     ]
    },
    {
     "name": "stderr",
     "output_type": "stream",
     "text": [
      "[Parallel(n_jobs=4)]: Done  96 out of  96 | elapsed:    0.8s finished\n",
      "[Parallel(n_jobs=4)]: Using backend LokyBackend with 4 concurrent workers.\n"
     ]
    },
    {
     "name": "stdout",
     "output_type": "stream",
     "text": [
      "-0.19203108849088002\n",
      "{'colsample_bytree': 0.8, 'learning_rate': 0.01, 'max_depth': 1, 'min_child_weight': 2, 'n_estimators': 100, 'objective': 'reg:squarederror', 'subsample': 0.8}\n",
      "7 : -0.09356886495998973\n",
      "train: 11 : 13  predict: 13 : 14\n",
      "Fitting 2 folds for each of 48 candidates, totalling 96 fits\n"
     ]
    },
    {
     "name": "stderr",
     "output_type": "stream",
     "text": [
      "[Parallel(n_jobs=4)]: Done  96 out of  96 | elapsed:    0.8s finished\n",
      "[Parallel(n_jobs=4)]: Using backend LokyBackend with 4 concurrent workers.\n"
     ]
    },
    {
     "name": "stdout",
     "output_type": "stream",
     "text": [
      "-0.05621772172666878\n",
      "{'colsample_bytree': 0.8, 'learning_rate': 0.01, 'max_depth': 1, 'min_child_weight': 2, 'n_estimators': 100, 'objective': 'reg:squarederror', 'subsample': 0.8}\n",
      "7 : 0.02544599142685522\n",
      "train: 12 : 14  predict: 14 : 15\n",
      "Fitting 2 folds for each of 48 candidates, totalling 96 fits\n"
     ]
    },
    {
     "name": "stderr",
     "output_type": "stream",
     "text": [
      "[Parallel(n_jobs=4)]: Done  96 out of  96 | elapsed:    0.8s finished\n",
      "[Parallel(n_jobs=4)]: Using backend LokyBackend with 4 concurrent workers.\n"
     ]
    },
    {
     "name": "stdout",
     "output_type": "stream",
     "text": [
      "0.20247661364812242\n",
      "{'colsample_bytree': 0.8, 'learning_rate': 0.01, 'max_depth': 1, 'min_child_weight': 1, 'n_estimators': 200, 'objective': 'reg:squarederror', 'subsample': 0.8}\n",
      "7 : 0.20966142670562105\n",
      "train: 13 : 15  predict: 15 : 16\n",
      "Fitting 2 folds for each of 48 candidates, totalling 96 fits\n"
     ]
    },
    {
     "name": "stderr",
     "output_type": "stream",
     "text": [
      "[Parallel(n_jobs=4)]: Done  96 out of  96 | elapsed:    0.8s finished\n",
      "[Parallel(n_jobs=4)]: Using backend LokyBackend with 4 concurrent workers.\n"
     ]
    },
    {
     "name": "stdout",
     "output_type": "stream",
     "text": [
      "-0.01613995465692808\n",
      "{'colsample_bytree': 0.8, 'learning_rate': 0.01, 'max_depth': 1, 'min_child_weight': 1, 'n_estimators': 100, 'objective': 'reg:squarederror', 'subsample': 0.8}\n",
      "7 : 0.49352350321048166\n",
      "train: 14 : 16  predict: 16 : 17\n",
      "Fitting 2 folds for each of 48 candidates, totalling 96 fits\n"
     ]
    },
    {
     "name": "stderr",
     "output_type": "stream",
     "text": [
      "[Parallel(n_jobs=4)]: Done  96 out of  96 | elapsed:    0.8s finished\n",
      "[Parallel(n_jobs=4)]: Using backend LokyBackend with 4 concurrent workers.\n"
     ]
    },
    {
     "name": "stdout",
     "output_type": "stream",
     "text": [
      "-0.035513926764770665\n",
      "{'colsample_bytree': 0.8, 'learning_rate': 0.01, 'max_depth': 4, 'min_child_weight': 2, 'n_estimators': 100, 'objective': 'reg:squarederror', 'subsample': 0.8}\n",
      "7 : 0.5104327850290293\n",
      "train: 15 : 17  predict: 17 : 18\n",
      "Fitting 2 folds for each of 48 candidates, totalling 96 fits\n"
     ]
    },
    {
     "name": "stderr",
     "output_type": "stream",
     "text": [
      "[Parallel(n_jobs=4)]: Done  96 out of  96 | elapsed:    0.7s finished\n",
      "[Parallel(n_jobs=4)]: Using backend LokyBackend with 4 concurrent workers.\n"
     ]
    },
    {
     "name": "stdout",
     "output_type": "stream",
     "text": [
      "-0.045094924189034935\n",
      "{'colsample_bytree': 0.8, 'learning_rate': 0.01, 'max_depth': 4, 'min_child_weight': 1, 'n_estimators': 100, 'objective': 'reg:squarederror', 'subsample': 0.8}\n",
      "7 : 0.5055706023332093\n",
      "train: 16 : 18  predict: 18 : 19\n",
      "Fitting 2 folds for each of 48 candidates, totalling 96 fits\n"
     ]
    },
    {
     "name": "stderr",
     "output_type": "stream",
     "text": [
      "[Parallel(n_jobs=4)]: Done  96 out of  96 | elapsed:    0.8s finished\n",
      "[Parallel(n_jobs=4)]: Using backend LokyBackend with 4 concurrent workers.\n"
     ]
    },
    {
     "name": "stdout",
     "output_type": "stream",
     "text": [
      "-0.6202631051144548\n",
      "{'colsample_bytree': 0.8, 'learning_rate': 0.08, 'max_depth': 2, 'min_child_weight': 1, 'n_estimators': 200, 'objective': 'reg:squarederror', 'subsample': 0.8}\n",
      "7 : -2.076060870098501\n",
      "train: 17 : 19  predict: 19 : 20\n",
      "Fitting 2 folds for each of 48 candidates, totalling 96 fits\n"
     ]
    },
    {
     "name": "stderr",
     "output_type": "stream",
     "text": [
      "[Parallel(n_jobs=4)]: Done  96 out of  96 | elapsed:    0.8s finished\n",
      "[Parallel(n_jobs=4)]: Using backend LokyBackend with 4 concurrent workers.\n"
     ]
    },
    {
     "name": "stdout",
     "output_type": "stream",
     "text": [
      "0.042971361104219064\n",
      "{'colsample_bytree': 0.8, 'learning_rate': 0.01, 'max_depth': 1, 'min_child_weight': 1, 'n_estimators': 100, 'objective': 'reg:squarederror', 'subsample': 0.8}\n",
      "7 : 0.43132191957581156\n",
      "train: 18 : 20  predict: 20 : 21\n",
      "Fitting 2 folds for each of 48 candidates, totalling 96 fits\n"
     ]
    },
    {
     "name": "stderr",
     "output_type": "stream",
     "text": [
      "[Parallel(n_jobs=4)]: Done  96 out of  96 | elapsed:    0.7s finished\n",
      "[Parallel(n_jobs=4)]: Using backend LokyBackend with 4 concurrent workers.\n"
     ]
    },
    {
     "name": "stdout",
     "output_type": "stream",
     "text": [
      "0.1103231131321955\n",
      "{'colsample_bytree': 0.8, 'learning_rate': 0.01, 'max_depth': 3, 'min_child_weight': 2, 'n_estimators': 100, 'objective': 'reg:squarederror', 'subsample': 0.8}\n",
      "7 : 0.07059718913167112\n",
      "train: 19 : 21  predict: 21 : 22\n",
      "Fitting 2 folds for each of 48 candidates, totalling 96 fits\n"
     ]
    },
    {
     "name": "stderr",
     "output_type": "stream",
     "text": [
      "[Parallel(n_jobs=4)]: Done  96 out of  96 | elapsed:    0.7s finished\n",
      "[Parallel(n_jobs=4)]: Using backend LokyBackend with 4 concurrent workers.\n"
     ]
    },
    {
     "name": "stdout",
     "output_type": "stream",
     "text": [
      "-1.177258449377443\n",
      "{'colsample_bytree': 0.8, 'learning_rate': 0.01, 'max_depth': 1, 'min_child_weight': 2, 'n_estimators': 100, 'objective': 'reg:squarederror', 'subsample': 0.8}\n",
      "7 : 0.2424583928138534\n",
      "train: 20 : 22  predict: 22 : 23\n",
      "Fitting 2 folds for each of 48 candidates, totalling 96 fits\n"
     ]
    },
    {
     "name": "stderr",
     "output_type": "stream",
     "text": [
      "[Parallel(n_jobs=4)]: Done  96 out of  96 | elapsed:    0.7s finished\n",
      "[Parallel(n_jobs=4)]: Using backend LokyBackend with 4 concurrent workers.\n"
     ]
    },
    {
     "name": "stdout",
     "output_type": "stream",
     "text": [
      "-0.1483561482284893\n",
      "{'colsample_bytree': 0.8, 'learning_rate': 0.01, 'max_depth': 4, 'min_child_weight': 1, 'n_estimators': 100, 'objective': 'reg:squarederror', 'subsample': 0.8}\n",
      "7 : -0.4840521450640125\n",
      "train: 21 : 23  predict: 23 : 24\n",
      "Fitting 2 folds for each of 48 candidates, totalling 96 fits\n"
     ]
    },
    {
     "name": "stderr",
     "output_type": "stream",
     "text": [
      "[Parallel(n_jobs=4)]: Done  96 out of  96 | elapsed:    0.7s finished\n",
      "[Parallel(n_jobs=4)]: Using backend LokyBackend with 4 concurrent workers.\n"
     ]
    },
    {
     "name": "stdout",
     "output_type": "stream",
     "text": [
      "-0.003416008550384597\n",
      "{'colsample_bytree': 0.8, 'learning_rate': 0.08, 'max_depth': 1, 'min_child_weight': 1, 'n_estimators': 200, 'objective': 'reg:squarederror', 'subsample': 0.8}\n",
      "7 : -0.3698864950274585\n",
      "train: 22 : 24  predict: 24 : 25\n",
      "Fitting 2 folds for each of 48 candidates, totalling 96 fits\n"
     ]
    },
    {
     "name": "stderr",
     "output_type": "stream",
     "text": [
      "[Parallel(n_jobs=4)]: Done  96 out of  96 | elapsed:    0.7s finished\n",
      "[Parallel(n_jobs=4)]: Using backend LokyBackend with 4 concurrent workers.\n"
     ]
    },
    {
     "name": "stdout",
     "output_type": "stream",
     "text": [
      "-0.20391077049713358\n",
      "{'colsample_bytree': 0.8, 'learning_rate': 0.01, 'max_depth': 1, 'min_child_weight': 2, 'n_estimators': 100, 'objective': 'reg:squarederror', 'subsample': 0.8}\n",
      "7 : -0.36964742428940056\n",
      "train: 23 : 25  predict: 25 : 26\n",
      "Fitting 2 folds for each of 48 candidates, totalling 96 fits\n"
     ]
    },
    {
     "name": "stderr",
     "output_type": "stream",
     "text": [
      "[Parallel(n_jobs=4)]: Done  96 out of  96 | elapsed:    0.8s finished\n",
      "[Parallel(n_jobs=4)]: Using backend LokyBackend with 4 concurrent workers.\n"
     ]
    },
    {
     "name": "stdout",
     "output_type": "stream",
     "text": [
      "0.005642003432711984\n",
      "{'colsample_bytree': 0.8, 'learning_rate': 0.01, 'max_depth': 1, 'min_child_weight': 2, 'n_estimators': 100, 'objective': 'reg:squarederror', 'subsample': 0.8}\n",
      "7 : -0.021531347798055878\n",
      "train: 24 : 26  predict: 26 : 27\n",
      "Fitting 2 folds for each of 48 candidates, totalling 96 fits\n"
     ]
    },
    {
     "name": "stderr",
     "output_type": "stream",
     "text": [
      "[Parallel(n_jobs=4)]: Done  96 out of  96 | elapsed:    0.8s finished\n",
      "[Parallel(n_jobs=4)]: Using backend LokyBackend with 4 concurrent workers.\n"
     ]
    },
    {
     "name": "stdout",
     "output_type": "stream",
     "text": [
      "0.2451838347567964\n",
      "{'colsample_bytree': 0.8, 'learning_rate': 0.08, 'max_depth': 4, 'min_child_weight': 1, 'n_estimators': 100, 'objective': 'reg:squarederror', 'subsample': 0.8}\n",
      "7 : -2.2721495253639428\n",
      "train: 25 : 27  predict: 27 : 28\n",
      "Fitting 2 folds for each of 48 candidates, totalling 96 fits\n"
     ]
    },
    {
     "name": "stderr",
     "output_type": "stream",
     "text": [
      "[Parallel(n_jobs=4)]: Done  96 out of  96 | elapsed:    0.8s finished\n",
      "[Parallel(n_jobs=4)]: Using backend LokyBackend with 4 concurrent workers.\n"
     ]
    },
    {
     "name": "stdout",
     "output_type": "stream",
     "text": [
      "-0.17967427910567252\n",
      "{'colsample_bytree': 0.8, 'learning_rate': 0.01, 'max_depth': 4, 'min_child_weight': 1, 'n_estimators': 100, 'objective': 'reg:squarederror', 'subsample': 0.8}\n",
      "7 : -0.22587536267354813\n",
      "train: 26 : 28  predict: 28 : 29\n",
      "Fitting 2 folds for each of 48 candidates, totalling 96 fits\n"
     ]
    },
    {
     "name": "stderr",
     "output_type": "stream",
     "text": [
      "[Parallel(n_jobs=4)]: Done  96 out of  96 | elapsed:    0.7s finished\n",
      "[Parallel(n_jobs=4)]: Using backend LokyBackend with 4 concurrent workers.\n"
     ]
    },
    {
     "name": "stdout",
     "output_type": "stream",
     "text": [
      "-0.08533661386840852\n",
      "{'colsample_bytree': 0.8, 'learning_rate': 0.01, 'max_depth': 1, 'min_child_weight': 1, 'n_estimators': 100, 'objective': 'reg:squarederror', 'subsample': 0.8}\n",
      "7 : -0.3369987230346301\n",
      "train: 27 : 29  predict: 29 : 30\n",
      "Fitting 2 folds for each of 48 candidates, totalling 96 fits\n"
     ]
    },
    {
     "name": "stderr",
     "output_type": "stream",
     "text": [
      "[Parallel(n_jobs=4)]: Done  96 out of  96 | elapsed:    0.8s finished\n",
      "[Parallel(n_jobs=4)]: Using backend LokyBackend with 4 concurrent workers.\n"
     ]
    },
    {
     "name": "stdout",
     "output_type": "stream",
     "text": [
      "0.04814222658848394\n",
      "{'colsample_bytree': 0.8, 'learning_rate': 0.01, 'max_depth': 4, 'min_child_weight': 1, 'n_estimators': 100, 'objective': 'reg:squarederror', 'subsample': 0.8}\n",
      "7 : -0.10136814326261745\n",
      "train: 28 : 30  predict: 30 : 31\n",
      "Fitting 2 folds for each of 48 candidates, totalling 96 fits\n"
     ]
    },
    {
     "name": "stderr",
     "output_type": "stream",
     "text": [
      "[Parallel(n_jobs=4)]: Done  96 out of  96 | elapsed:    0.7s finished\n",
      "[Parallel(n_jobs=4)]: Using backend LokyBackend with 4 concurrent workers.\n"
     ]
    },
    {
     "name": "stdout",
     "output_type": "stream",
     "text": [
      "0.13513379533369357\n",
      "{'colsample_bytree': 0.8, 'learning_rate': 0.05, 'max_depth': 4, 'min_child_weight': 1, 'n_estimators': 200, 'objective': 'reg:squarederror', 'subsample': 0.8}\n",
      "7 : -2.661897037072551\n",
      "min_week:  0  max week:  30  number of weeks :  30\n",
      "train: 1 : 3  predict: 3 : 4\n",
      "train: 1 : 3  predict: 3 : 4\n",
      "Fitting 2 folds for each of 48 candidates, totalling 96 fits\n"
     ]
    },
    {
     "name": "stderr",
     "output_type": "stream",
     "text": [
      "[Parallel(n_jobs=4)]: Done  96 out of  96 | elapsed:    0.8s finished\n",
      "[Parallel(n_jobs=4)]: Using backend LokyBackend with 4 concurrent workers.\n"
     ]
    },
    {
     "name": "stdout",
     "output_type": "stream",
     "text": [
      "0.030459745932708004\n",
      "{'colsample_bytree': 0.8, 'learning_rate': 0.01, 'max_depth': 4, 'min_child_weight': 2, 'n_estimators': 100, 'objective': 'reg:squarederror', 'subsample': 0.8}\n",
      "7 : -0.6294530754273686\n",
      "train: 2 : 4  predict: 4 : 5\n",
      "Fitting 2 folds for each of 48 candidates, totalling 96 fits\n"
     ]
    },
    {
     "name": "stderr",
     "output_type": "stream",
     "text": [
      "[Parallel(n_jobs=4)]: Done  96 out of  96 | elapsed:    0.8s finished\n",
      "[Parallel(n_jobs=4)]: Using backend LokyBackend with 4 concurrent workers.\n"
     ]
    },
    {
     "name": "stdout",
     "output_type": "stream",
     "text": [
      "-0.1280056248322301\n",
      "{'colsample_bytree': 0.8, 'learning_rate': 0.01, 'max_depth': 1, 'min_child_weight': 1, 'n_estimators': 100, 'objective': 'reg:squarederror', 'subsample': 0.8}\n",
      "7 : 0.05473580774612974\n",
      "train: 3 : 5  predict: 5 : 6\n",
      "Fitting 2 folds for each of 48 candidates, totalling 96 fits\n"
     ]
    },
    {
     "name": "stderr",
     "output_type": "stream",
     "text": [
      "[Parallel(n_jobs=4)]: Done  96 out of  96 | elapsed:    0.8s finished\n",
      "[Parallel(n_jobs=4)]: Using backend LokyBackend with 4 concurrent workers.\n"
     ]
    },
    {
     "name": "stdout",
     "output_type": "stream",
     "text": [
      "-0.21832317530621947\n",
      "{'colsample_bytree': 0.8, 'learning_rate': 0.01, 'max_depth': 1, 'min_child_weight': 2, 'n_estimators': 100, 'objective': 'reg:squarederror', 'subsample': 0.8}\n",
      "7 : -0.19781408959528113\n",
      "train: 4 : 6  predict: 6 : 7\n",
      "Fitting 2 folds for each of 48 candidates, totalling 96 fits\n"
     ]
    },
    {
     "name": "stderr",
     "output_type": "stream",
     "text": [
      "[Parallel(n_jobs=4)]: Done  96 out of  96 | elapsed:    0.8s finished\n",
      "[Parallel(n_jobs=4)]: Using backend LokyBackend with 4 concurrent workers.\n"
     ]
    },
    {
     "name": "stdout",
     "output_type": "stream",
     "text": [
      "-0.17756072010666024\n",
      "{'colsample_bytree': 0.8, 'learning_rate': 0.01, 'max_depth': 1, 'min_child_weight': 1, 'n_estimators': 100, 'objective': 'reg:squarederror', 'subsample': 0.8}\n",
      "7 : 0.016616806650662674\n",
      "train: 5 : 7  predict: 7 : 8\n",
      "Fitting 2 folds for each of 48 candidates, totalling 96 fits\n"
     ]
    },
    {
     "name": "stderr",
     "output_type": "stream",
     "text": [
      "[Parallel(n_jobs=4)]: Done  96 out of  96 | elapsed:    0.8s finished\n",
      "[Parallel(n_jobs=4)]: Using backend LokyBackend with 4 concurrent workers.\n"
     ]
    },
    {
     "name": "stdout",
     "output_type": "stream",
     "text": [
      "-0.03881387518373347\n",
      "{'colsample_bytree': 0.8, 'learning_rate': 0.01, 'max_depth': 1, 'min_child_weight': 1, 'n_estimators': 100, 'objective': 'reg:squarederror', 'subsample': 0.8}\n",
      "7 : -0.10408168431008913\n",
      "train: 6 : 8  predict: 8 : 9\n",
      "Fitting 2 folds for each of 48 candidates, totalling 96 fits\n"
     ]
    },
    {
     "name": "stderr",
     "output_type": "stream",
     "text": [
      "[Parallel(n_jobs=4)]: Done  96 out of  96 | elapsed:    0.7s finished\n",
      "[Parallel(n_jobs=4)]: Using backend LokyBackend with 4 concurrent workers.\n"
     ]
    },
    {
     "name": "stdout",
     "output_type": "stream",
     "text": [
      "0.14844682499045775\n",
      "{'colsample_bytree': 0.8, 'learning_rate': 0.08, 'max_depth': 4, 'min_child_weight': 2, 'n_estimators': 100, 'objective': 'reg:squarederror', 'subsample': 0.8}\n",
      "7 : -1.393018289215778\n",
      "train: 7 : 9  predict: 9 : 10\n",
      "Fitting 2 folds for each of 48 candidates, totalling 96 fits\n"
     ]
    },
    {
     "name": "stderr",
     "output_type": "stream",
     "text": [
      "[Parallel(n_jobs=4)]: Done  96 out of  96 | elapsed:    0.8s finished\n",
      "[Parallel(n_jobs=4)]: Using backend LokyBackend with 4 concurrent workers.\n"
     ]
    },
    {
     "name": "stdout",
     "output_type": "stream",
     "text": [
      "-0.07283361754724915\n",
      "{'colsample_bytree': 0.8, 'learning_rate': 0.05, 'max_depth': 3, 'min_child_weight': 1, 'n_estimators': 200, 'objective': 'reg:squarederror', 'subsample': 0.8}\n",
      "7 : -0.6050456917939404\n",
      "train: 8 : 10  predict: 10 : 11\n",
      "Fitting 2 folds for each of 48 candidates, totalling 96 fits\n"
     ]
    },
    {
     "name": "stderr",
     "output_type": "stream",
     "text": [
      "[Parallel(n_jobs=4)]: Done  96 out of  96 | elapsed:    0.8s finished\n",
      "[Parallel(n_jobs=4)]: Using backend LokyBackend with 4 concurrent workers.\n"
     ]
    },
    {
     "name": "stdout",
     "output_type": "stream",
     "text": [
      "-0.13475283152853612\n",
      "{'colsample_bytree': 0.8, 'learning_rate': 0.01, 'max_depth': 2, 'min_child_weight': 1, 'n_estimators': 100, 'objective': 'reg:squarederror', 'subsample': 0.8}\n",
      "7 : 0.01032528712758285\n",
      "train: 9 : 11  predict: 11 : 12\n",
      "Fitting 2 folds for each of 48 candidates, totalling 96 fits\n"
     ]
    },
    {
     "name": "stderr",
     "output_type": "stream",
     "text": [
      "[Parallel(n_jobs=4)]: Done  96 out of  96 | elapsed:    0.7s finished\n",
      "[Parallel(n_jobs=4)]: Using backend LokyBackend with 4 concurrent workers.\n"
     ]
    },
    {
     "name": "stdout",
     "output_type": "stream",
     "text": [
      "-0.433134601834531\n",
      "{'colsample_bytree': 0.8, 'learning_rate': 0.01, 'max_depth': 3, 'min_child_weight': 1, 'n_estimators': 100, 'objective': 'reg:squarederror', 'subsample': 0.8}\n",
      "7 : -0.0053728495197391535\n",
      "train: 10 : 12  predict: 12 : 13\n",
      "Fitting 2 folds for each of 48 candidates, totalling 96 fits\n"
     ]
    },
    {
     "name": "stderr",
     "output_type": "stream",
     "text": [
      "[Parallel(n_jobs=4)]: Done  96 out of  96 | elapsed:    0.7s finished\n",
      "[Parallel(n_jobs=4)]: Using backend LokyBackend with 4 concurrent workers.\n"
     ]
    },
    {
     "name": "stdout",
     "output_type": "stream",
     "text": [
      "-0.5861531763303827\n",
      "{'colsample_bytree': 0.8, 'learning_rate': 0.01, 'max_depth': 2, 'min_child_weight': 1, 'n_estimators': 100, 'objective': 'reg:squarederror', 'subsample': 0.8}\n",
      "7 : -0.19820394634413385\n",
      "train: 11 : 13  predict: 13 : 14\n",
      "Fitting 2 folds for each of 48 candidates, totalling 96 fits\n"
     ]
    },
    {
     "name": "stderr",
     "output_type": "stream",
     "text": [
      "[Parallel(n_jobs=4)]: Done  96 out of  96 | elapsed:    0.8s finished\n",
      "[Parallel(n_jobs=4)]: Using backend LokyBackend with 4 concurrent workers.\n"
     ]
    },
    {
     "name": "stdout",
     "output_type": "stream",
     "text": [
      "-0.12663619977490126\n",
      "{'colsample_bytree': 0.8, 'learning_rate': 0.01, 'max_depth': 3, 'min_child_weight': 1, 'n_estimators': 100, 'objective': 'reg:squarederror', 'subsample': 0.8}\n",
      "7 : 0.00024520188357002315\n",
      "train: 12 : 14  predict: 14 : 15\n",
      "Fitting 2 folds for each of 48 candidates, totalling 96 fits\n"
     ]
    },
    {
     "name": "stderr",
     "output_type": "stream",
     "text": [
      "[Parallel(n_jobs=4)]: Done  96 out of  96 | elapsed:    0.8s finished\n",
      "[Parallel(n_jobs=4)]: Using backend LokyBackend with 4 concurrent workers.\n"
     ]
    },
    {
     "name": "stdout",
     "output_type": "stream",
     "text": [
      "0.009382421077759273\n",
      "{'colsample_bytree': 0.8, 'learning_rate': 0.05, 'max_depth': 3, 'min_child_weight': 2, 'n_estimators': 200, 'objective': 'reg:squarederror', 'subsample': 0.8}\n",
      "7 : 0.16925566045977658\n",
      "train: 13 : 15  predict: 15 : 16\n",
      "Fitting 2 folds for each of 48 candidates, totalling 96 fits\n"
     ]
    },
    {
     "name": "stderr",
     "output_type": "stream",
     "text": [
      "[Parallel(n_jobs=4)]: Done  96 out of  96 | elapsed:    0.8s finished\n",
      "[Parallel(n_jobs=4)]: Using backend LokyBackend with 4 concurrent workers.\n"
     ]
    },
    {
     "name": "stdout",
     "output_type": "stream",
     "text": [
      "0.2964800892171845\n",
      "{'colsample_bytree': 0.8, 'learning_rate': 0.01, 'max_depth': 2, 'min_child_weight': 1, 'n_estimators': 100, 'objective': 'reg:squarederror', 'subsample': 0.8}\n",
      "7 : 0.521042933063037\n",
      "train: 14 : 16  predict: 16 : 17\n",
      "Fitting 2 folds for each of 48 candidates, totalling 96 fits\n"
     ]
    },
    {
     "name": "stderr",
     "output_type": "stream",
     "text": [
      "[Parallel(n_jobs=4)]: Done  96 out of  96 | elapsed:    0.8s finished\n",
      "[Parallel(n_jobs=4)]: Using backend LokyBackend with 4 concurrent workers.\n"
     ]
    },
    {
     "name": "stdout",
     "output_type": "stream",
     "text": [
      "0.5270758709227632\n",
      "{'colsample_bytree': 0.8, 'learning_rate': 0.01, 'max_depth': 4, 'min_child_weight': 2, 'n_estimators': 200, 'objective': 'reg:squarederror', 'subsample': 0.8}\n",
      "7 : 0.3832258135958969\n",
      "train: 15 : 17  predict: 17 : 18\n",
      "Fitting 2 folds for each of 48 candidates, totalling 96 fits\n"
     ]
    },
    {
     "name": "stderr",
     "output_type": "stream",
     "text": [
      "[Parallel(n_jobs=4)]: Done  96 out of  96 | elapsed:    1.0s finished\n",
      "[Parallel(n_jobs=4)]: Using backend LokyBackend with 4 concurrent workers.\n"
     ]
    },
    {
     "name": "stdout",
     "output_type": "stream",
     "text": [
      "0.03698545312849444\n",
      "{'colsample_bytree': 0.8, 'learning_rate': 0.01, 'max_depth': 4, 'min_child_weight': 1, 'n_estimators': 100, 'objective': 'reg:squarederror', 'subsample': 0.8}\n",
      "7 : 0.16240307280704624\n",
      "train: 16 : 18  predict: 18 : 19\n",
      "Fitting 2 folds for each of 48 candidates, totalling 96 fits\n"
     ]
    },
    {
     "name": "stderr",
     "output_type": "stream",
     "text": [
      "[Parallel(n_jobs=4)]: Done  96 out of  96 | elapsed:    0.8s finished\n",
      "[Parallel(n_jobs=4)]: Using backend LokyBackend with 4 concurrent workers.\n"
     ]
    },
    {
     "name": "stdout",
     "output_type": "stream",
     "text": [
      "-0.44719902175705006\n",
      "{'colsample_bytree': 0.8, 'learning_rate': 0.01, 'max_depth': 1, 'min_child_weight': 2, 'n_estimators': 100, 'objective': 'reg:squarederror', 'subsample': 0.8}\n",
      "7 : 0.23676291756892098\n",
      "train: 17 : 19  predict: 19 : 20\n",
      "Fitting 2 folds for each of 48 candidates, totalling 96 fits\n"
     ]
    },
    {
     "name": "stderr",
     "output_type": "stream",
     "text": [
      "[Parallel(n_jobs=4)]: Done  96 out of  96 | elapsed:    1.0s finished\n",
      "[Parallel(n_jobs=4)]: Using backend LokyBackend with 4 concurrent workers.\n"
     ]
    },
    {
     "name": "stdout",
     "output_type": "stream",
     "text": [
      "-0.05790513964706534\n",
      "{'colsample_bytree': 0.8, 'learning_rate': 0.01, 'max_depth': 1, 'min_child_weight': 1, 'n_estimators': 100, 'objective': 'reg:squarederror', 'subsample': 0.8}\n",
      "7 : -0.9540739818343587\n",
      "train: 18 : 20  predict: 20 : 21\n",
      "Fitting 2 folds for each of 48 candidates, totalling 96 fits\n"
     ]
    },
    {
     "name": "stderr",
     "output_type": "stream",
     "text": [
      "[Parallel(n_jobs=4)]: Done  96 out of  96 | elapsed:    0.8s finished\n",
      "[Parallel(n_jobs=4)]: Using backend LokyBackend with 4 concurrent workers.\n"
     ]
    },
    {
     "name": "stdout",
     "output_type": "stream",
     "text": [
      "-0.05619861975995377\n",
      "{'colsample_bytree': 0.8, 'learning_rate': 0.01, 'max_depth': 4, 'min_child_weight': 2, 'n_estimators': 100, 'objective': 'reg:squarederror', 'subsample': 0.8}\n",
      "7 : -0.4428923232341948\n",
      "train: 19 : 21  predict: 21 : 22\n",
      "Fitting 2 folds for each of 48 candidates, totalling 96 fits\n"
     ]
    },
    {
     "name": "stderr",
     "output_type": "stream",
     "text": [
      "[Parallel(n_jobs=4)]: Done  96 out of  96 | elapsed:    0.8s finished\n",
      "[Parallel(n_jobs=4)]: Using backend LokyBackend with 4 concurrent workers.\n"
     ]
    },
    {
     "name": "stdout",
     "output_type": "stream",
     "text": [
      "0.11129958096351472\n",
      "{'colsample_bytree': 0.8, 'learning_rate': 0.05, 'max_depth': 2, 'min_child_weight': 2, 'n_estimators': 100, 'objective': 'reg:squarederror', 'subsample': 0.8}\n",
      "7 : -1.4508578407069646\n",
      "train: 20 : 22  predict: 22 : 23\n",
      "Fitting 2 folds for each of 48 candidates, totalling 96 fits\n"
     ]
    },
    {
     "name": "stderr",
     "output_type": "stream",
     "text": [
      "[Parallel(n_jobs=4)]: Done  96 out of  96 | elapsed:    0.8s finished\n",
      "[Parallel(n_jobs=4)]: Using backend LokyBackend with 4 concurrent workers.\n"
     ]
    },
    {
     "name": "stdout",
     "output_type": "stream",
     "text": [
      "0.04131571494935665\n",
      "{'colsample_bytree': 0.8, 'learning_rate': 0.01, 'max_depth': 3, 'min_child_weight': 1, 'n_estimators': 200, 'objective': 'reg:squarederror', 'subsample': 0.8}\n",
      "7 : -0.8450720510276899\n",
      "train: 21 : 23  predict: 23 : 24\n",
      "Fitting 2 folds for each of 48 candidates, totalling 96 fits\n"
     ]
    },
    {
     "name": "stderr",
     "output_type": "stream",
     "text": [
      "[Parallel(n_jobs=4)]: Done  96 out of  96 | elapsed:    0.8s finished\n",
      "[Parallel(n_jobs=4)]: Using backend LokyBackend with 4 concurrent workers.\n"
     ]
    },
    {
     "name": "stdout",
     "output_type": "stream",
     "text": [
      "0.019157375040132152\n",
      "{'colsample_bytree': 0.8, 'learning_rate': 0.01, 'max_depth': 3, 'min_child_weight': 1, 'n_estimators': 100, 'objective': 'reg:squarederror', 'subsample': 0.8}\n",
      "7 : -0.0936327966919881\n",
      "train: 22 : 24  predict: 24 : 25\n",
      "Fitting 2 folds for each of 48 candidates, totalling 96 fits\n"
     ]
    },
    {
     "name": "stderr",
     "output_type": "stream",
     "text": [
      "[Parallel(n_jobs=4)]: Done  96 out of  96 | elapsed:    0.7s finished\n",
      "[Parallel(n_jobs=4)]: Using backend LokyBackend with 4 concurrent workers.\n"
     ]
    },
    {
     "name": "stdout",
     "output_type": "stream",
     "text": [
      "-0.0870054896918423\n",
      "{'colsample_bytree': 0.8, 'learning_rate': 0.01, 'max_depth': 1, 'min_child_weight': 2, 'n_estimators': 100, 'objective': 'reg:squarederror', 'subsample': 0.8}\n",
      "7 : 0.12985222763019644\n",
      "train: 23 : 25  predict: 25 : 26\n",
      "Fitting 2 folds for each of 48 candidates, totalling 96 fits\n"
     ]
    },
    {
     "name": "stderr",
     "output_type": "stream",
     "text": [
      "[Parallel(n_jobs=4)]: Done  96 out of  96 | elapsed:    0.9s finished\n",
      "[Parallel(n_jobs=4)]: Using backend LokyBackend with 4 concurrent workers.\n"
     ]
    },
    {
     "name": "stdout",
     "output_type": "stream",
     "text": [
      "0.013911525039927375\n",
      "{'colsample_bytree': 0.8, 'learning_rate': 0.01, 'max_depth': 1, 'min_child_weight': 2, 'n_estimators': 100, 'objective': 'reg:squarederror', 'subsample': 0.8}\n",
      "7 : -0.7219879201206301\n",
      "train: 24 : 26  predict: 26 : 27\n",
      "Fitting 2 folds for each of 48 candidates, totalling 96 fits\n"
     ]
    },
    {
     "name": "stderr",
     "output_type": "stream",
     "text": [
      "[Parallel(n_jobs=4)]: Done  96 out of  96 | elapsed:    0.8s finished\n",
      "[Parallel(n_jobs=4)]: Using backend LokyBackend with 4 concurrent workers.\n"
     ]
    },
    {
     "name": "stdout",
     "output_type": "stream",
     "text": [
      "-0.3358797470207884\n",
      "{'colsample_bytree': 0.8, 'learning_rate': 0.01, 'max_depth': 2, 'min_child_weight': 1, 'n_estimators': 100, 'objective': 'reg:squarederror', 'subsample': 0.8}\n",
      "7 : -0.03637358130143187\n",
      "train: 25 : 27  predict: 27 : 28\n",
      "Fitting 2 folds for each of 48 candidates, totalling 96 fits\n"
     ]
    },
    {
     "name": "stderr",
     "output_type": "stream",
     "text": [
      "[Parallel(n_jobs=4)]: Done  96 out of  96 | elapsed:    0.9s finished\n",
      "[Parallel(n_jobs=4)]: Using backend LokyBackend with 4 concurrent workers.\n"
     ]
    },
    {
     "name": "stdout",
     "output_type": "stream",
     "text": [
      "0.007711778981960404\n",
      "{'colsample_bytree': 0.8, 'learning_rate': 0.05, 'max_depth': 2, 'min_child_weight': 2, 'n_estimators': 100, 'objective': 'reg:squarederror', 'subsample': 0.8}\n",
      "7 : 0.23528570433647022\n",
      "train: 26 : 28  predict: 28 : 29\n",
      "Fitting 2 folds for each of 48 candidates, totalling 96 fits\n"
     ]
    },
    {
     "name": "stderr",
     "output_type": "stream",
     "text": [
      "[Parallel(n_jobs=4)]: Done  96 out of  96 | elapsed:    0.8s finished\n",
      "[Parallel(n_jobs=4)]: Using backend LokyBackend with 4 concurrent workers.\n"
     ]
    },
    {
     "name": "stdout",
     "output_type": "stream",
     "text": [
      "-0.3772917339789622\n",
      "{'colsample_bytree': 0.8, 'learning_rate': 0.01, 'max_depth': 1, 'min_child_weight': 2, 'n_estimators': 100, 'objective': 'reg:squarederror', 'subsample': 0.8}\n",
      "7 : -0.2863772105629485\n",
      "train: 27 : 29  predict: 29 : 30\n",
      "Fitting 2 folds for each of 48 candidates, totalling 96 fits\n"
     ]
    },
    {
     "name": "stderr",
     "output_type": "stream",
     "text": [
      "[Parallel(n_jobs=4)]: Done  96 out of  96 | elapsed:    0.7s finished\n",
      "[Parallel(n_jobs=4)]: Using backend LokyBackend with 4 concurrent workers.\n"
     ]
    },
    {
     "name": "stdout",
     "output_type": "stream",
     "text": [
      "0.07657307327955781\n",
      "{'colsample_bytree': 0.8, 'learning_rate': 0.01, 'max_depth': 4, 'min_child_weight': 1, 'n_estimators': 100, 'objective': 'reg:squarederror', 'subsample': 0.8}\n",
      "7 : -0.35515633018384785\n",
      "train: 28 : 30  predict: 30 : 31\n",
      "Fitting 2 folds for each of 48 candidates, totalling 96 fits\n",
      "-0.17313240459002566\n",
      "{'colsample_bytree': 0.8, 'learning_rate': 0.01, 'max_depth': 1, 'min_child_weight': 2, 'n_estimators': 100, 'objective': 'reg:squarederror', 'subsample': 0.8}\n",
      "7 : -0.43166496620883565\n"
     ]
    },
    {
     "name": "stderr",
     "output_type": "stream",
     "text": [
      "[Parallel(n_jobs=4)]: Done  96 out of  96 | elapsed:    0.7s finished\n"
     ]
    }
   ],
   "source": [
    "from sklearn.linear_model import MultiTaskLassoCV\n",
    "from sklearn.linear_model import Lasso\n",
    "from sklearn.linear_model import ElasticNet\n",
    "from sklearn.multioutput import MultiOutputRegressor\n",
    "from sklearn.metrics import r2_score\n",
    "from sklearn.metrics import mean_squared_error\n",
    "\n",
    "import numpy as np\n",
    "import warnings\n",
    "import matplotlib.pyplot as plt\n",
    "from sklearn.exceptions import ConvergenceWarning\n",
    "import xgboost as xgb\n",
    "from datetime import datetime\n",
    "from sklearn.model_selection import GridSearchCV,TimeSeriesSplit\n",
    "\n",
    "def run_model_internal(covariates_merged, weekly_deaths_merged_df, best_fit_scores):\n",
    "    warnings.filterwarnings(\"ignore\", category=ConvergenceWarning)\n",
    "    covid_start_date = datetime.strptime(\"01/22/20\", \"%m/%d/%y\")\n",
    "\n",
    "\n",
    "    min_week = weekly_deaths_merged_df['week'].min()\n",
    "    max_week = weekly_deaths_merged_df['week'].max()\n",
    "\n",
    "\n",
    "    num_weeks=int((max_week-min_week))\n",
    "    print(\"min_week: \" , min_week, \" max week: \", max_week, \" number of weeks : \" , num_weeks)\n",
    "    prediction_weeks = 2 # three weks train , tune and forecast\n",
    "\n",
    "    index = 0 \n",
    "    train_start_week_day = 1\n",
    "    train_end_week_day = train_start_week_day + prediction_weeks\n",
    "\n",
    "    predict_start_week_day = train_end_week_day \n",
    "    predict_end_week_day = predict_start_week_day + 1\n",
    "\n",
    "    print(\"train:\", train_start_week_day ,\":\", train_end_week_day, \n",
    "            \" predict:\" , predict_start_week_day, \":\",  predict_end_week_day)\n",
    "\n",
    "    predicted_df_all_days = pd.DataFrame(columns=['State','FIPS', 'Population','Forecast_Day','Week','Predicted_Weekly_Excess_Deaths','Actual_Weekly_Excess_Deaths'])\n",
    "    for week_num in range(num_weeks):\n",
    "        if (predict_end_week_day-1) > max_week:\n",
    "            break\n",
    "\n",
    "        predicted_df = pd.DataFrame(columns=['State','FIPS','Population', 'Forecast_Day','Week','Predicted_Weekly_Excess_Deaths', 'Actual_Weekly_Excess_Deaths'])\n",
    "        predicted_deaths, actual_deaths = run_model(train_start_week_day,train_end_week_day,predict_start_week_day,predict_end_week_day,\n",
    "                  covariates_merged,weekly_deaths_merged_df,7,best_fit_scores, index) \n",
    "\n",
    "        predict_week = pd.Series(range(predict_start_week_day, predict_end_week_day ))\n",
    "        predict_week_df = weekly_deaths_merged_df.loc[(weekly_deaths_merged_df['week'].isin(predict_week))]\n",
    "        predicted_df[\"State\"] = 'Colorado'\n",
    "        predicted_df[\"FIPS\"] = predict_week_df[\"county\"]\n",
    "        predicted_df[\"Population\"] = predict_week_df[\"pop\"]\n",
    "        predicted_df[\"Week\"] = predict_week_df[\"week\"]\n",
    "        forecast_day = (covid_start_date + timedelta(days=(predict_start_week_day*7 + 6))).strftime(\"%Y-%m-%d\")\n",
    "        predicted_df[\"Forecast_Day\"] = forecast_day \n",
    "        predicted_df[\"Predicted_Weekly_Excess_Deaths\"] = predicted_deaths\n",
    "        predicted_df[\"Actual_Weekly_Excess_Deaths\"] = actual_deaths\n",
    "        #predicted_df.to_csv(\"data/predictions/predicted_us_deaths_\" +  forecast_day + \".csv\")                     \n",
    "        predicted_df_all_days = pd.concat([predicted_df_all_days, predicted_df])\n",
    "        train_start_week_day = train_start_week_day + 1\n",
    "        train_end_week_day = train_end_week_day + 1\n",
    "        predict_start_week_day = predict_start_week_day + 1\n",
    "        predict_end_week_day = predict_start_week_day + 1\n",
    "        index = index + 1\n",
    "    return predicted_df_all_days\n",
    "    \n",
    "best_fit_scores_non_pulm = pd.DataFrame(columns=[\"Week Duration\", \"Best_Parameters\", \"Best_Score\", \"Predict_R2_Score\"])\n",
    "best_fit_scores_pulm = pd.DataFrame(columns=[\"Week Duration\", \"Best_Parameters\", \"Best_Score\", \"Predict_R2_Score\"])\n",
    "\n",
    "\n",
    "predicted_df_all_days_non_pulm = run_model_internal(covariates_merged_non_pulm, weekly_deaths_merged_df_non_pulm, best_fit_scores_non_pulm)\n",
    "best_fit_scores_non_pulm.to_csv(\"best_fit_scores_np.csv\", index=False)\n",
    "predicted_df_all_days_pulm = run_model_internal(covariates_merged_pulm, weekly_deaths_merged_df_pulm, best_fit_scores_pulm)\n",
    "best_fit_scores_pulm.to_csv(\"best_fit_scores_p.csv\", index=False)\n"
   ]
  },
  {
   "cell_type": "code",
   "execution_count": 246,
   "metadata": {},
   "outputs": [
    {
     "data": {
      "text/html": [
       "<div>\n",
       "<style scoped>\n",
       "    .dataframe tbody tr th:only-of-type {\n",
       "        vertical-align: middle;\n",
       "    }\n",
       "\n",
       "    .dataframe tbody tr th {\n",
       "        vertical-align: top;\n",
       "    }\n",
       "\n",
       "    .dataframe thead th {\n",
       "        text-align: right;\n",
       "    }\n",
       "</style>\n",
       "<table border=\"1\" class=\"dataframe\">\n",
       "  <thead>\n",
       "    <tr style=\"text-align: right;\">\n",
       "      <th></th>\n",
       "      <th>State</th>\n",
       "      <th>FIPS</th>\n",
       "      <th>Population</th>\n",
       "      <th>Forecast_Day</th>\n",
       "      <th>Week</th>\n",
       "      <th>Predicted_Weekly_Excess_Deaths</th>\n",
       "      <th>Actual_Weekly_Excess_Deaths</th>\n",
       "    </tr>\n",
       "  </thead>\n",
       "  <tbody>\n",
       "    <tr>\n",
       "      <th>3</th>\n",
       "      <td>NaN</td>\n",
       "      <td>8001.0</td>\n",
       "      <td>503590</td>\n",
       "      <td>2020-02-18</td>\n",
       "      <td>3</td>\n",
       "      <td>0.152026</td>\n",
       "      <td>1</td>\n",
       "    </tr>\n",
       "    <tr>\n",
       "      <th>47</th>\n",
       "      <td>NaN</td>\n",
       "      <td>8005.0</td>\n",
       "      <td>644478</td>\n",
       "      <td>2020-02-18</td>\n",
       "      <td>3</td>\n",
       "      <td>-1.690635</td>\n",
       "      <td>-2</td>\n",
       "    </tr>\n",
       "    <tr>\n",
       "      <th>88</th>\n",
       "      <td>NaN</td>\n",
       "      <td>8009.0</td>\n",
       "      <td>3554</td>\n",
       "      <td>2020-02-18</td>\n",
       "      <td>3</td>\n",
       "      <td>-0.018153</td>\n",
       "      <td>0</td>\n",
       "    </tr>\n",
       "    <tr>\n",
       "      <th>108</th>\n",
       "      <td>NaN</td>\n",
       "      <td>8013.0</td>\n",
       "      <td>322441</td>\n",
       "      <td>2020-02-18</td>\n",
       "      <td>3</td>\n",
       "      <td>-0.041591</td>\n",
       "      <td>8</td>\n",
       "    </tr>\n",
       "    <tr>\n",
       "      <th>136</th>\n",
       "      <td>NaN</td>\n",
       "      <td>8015.0</td>\n",
       "      <td>19666</td>\n",
       "      <td>2020-02-18</td>\n",
       "      <td>3</td>\n",
       "      <td>-0.010917</td>\n",
       "      <td>0</td>\n",
       "    </tr>\n",
       "    <tr>\n",
       "      <th>...</th>\n",
       "      <td>...</td>\n",
       "      <td>...</td>\n",
       "      <td>...</td>\n",
       "      <td>...</td>\n",
       "      <td>...</td>\n",
       "      <td>...</td>\n",
       "      <td>...</td>\n",
       "    </tr>\n",
       "    <tr>\n",
       "      <th>689</th>\n",
       "      <td>NaN</td>\n",
       "      <td>8089.0</td>\n",
       "      <td>18345</td>\n",
       "      <td>2020-08-25</td>\n",
       "      <td>30</td>\n",
       "      <td>0.825401</td>\n",
       "      <td>1</td>\n",
       "    </tr>\n",
       "    <tr>\n",
       "      <th>727</th>\n",
       "      <td>NaN</td>\n",
       "      <td>8099.0</td>\n",
       "      <td>11998</td>\n",
       "      <td>2020-08-25</td>\n",
       "      <td>30</td>\n",
       "      <td>-0.017712</td>\n",
       "      <td>1</td>\n",
       "    </tr>\n",
       "    <tr>\n",
       "      <th>758</th>\n",
       "      <td>NaN</td>\n",
       "      <td>8101.0</td>\n",
       "      <td>166283</td>\n",
       "      <td>2020-08-25</td>\n",
       "      <td>30</td>\n",
       "      <td>0.603212</td>\n",
       "      <td>-6</td>\n",
       "    </tr>\n",
       "    <tr>\n",
       "      <th>813</th>\n",
       "      <td>NaN</td>\n",
       "      <td>8117.0</td>\n",
       "      <td>30820</td>\n",
       "      <td>2020-08-25</td>\n",
       "      <td>30</td>\n",
       "      <td>0.410719</td>\n",
       "      <td>1</td>\n",
       "    </tr>\n",
       "    <tr>\n",
       "      <th>868</th>\n",
       "      <td>NaN</td>\n",
       "      <td>8123.0</td>\n",
       "      <td>305885</td>\n",
       "      <td>2020-08-25</td>\n",
       "      <td>30</td>\n",
       "      <td>5.032257</td>\n",
       "      <td>-1</td>\n",
       "    </tr>\n",
       "  </tbody>\n",
       "</table>\n",
       "<p>794 rows × 7 columns</p>\n",
       "</div>"
      ],
      "text/plain": [
       "    State    FIPS Population Forecast_Day Week  \\\n",
       "3     NaN  8001.0     503590   2020-02-18    3   \n",
       "47    NaN  8005.0     644478   2020-02-18    3   \n",
       "88    NaN  8009.0       3554   2020-02-18    3   \n",
       "108   NaN  8013.0     322441   2020-02-18    3   \n",
       "136   NaN  8015.0      19666   2020-02-18    3   \n",
       "..    ...     ...        ...          ...  ...   \n",
       "689   NaN  8089.0      18345   2020-08-25   30   \n",
       "727   NaN  8099.0      11998   2020-08-25   30   \n",
       "758   NaN  8101.0     166283   2020-08-25   30   \n",
       "813   NaN  8117.0      30820   2020-08-25   30   \n",
       "868   NaN  8123.0     305885   2020-08-25   30   \n",
       "\n",
       "     Predicted_Weekly_Excess_Deaths Actual_Weekly_Excess_Deaths  \n",
       "3                          0.152026                           1  \n",
       "47                        -1.690635                          -2  \n",
       "88                        -0.018153                           0  \n",
       "108                       -0.041591                           8  \n",
       "136                       -0.010917                           0  \n",
       "..                              ...                         ...  \n",
       "689                        0.825401                           1  \n",
       "727                       -0.017712                           1  \n",
       "758                        0.603212                          -6  \n",
       "813                        0.410719                           1  \n",
       "868                        5.032257                          -1  \n",
       "\n",
       "[794 rows x 7 columns]"
      ]
     },
     "execution_count": 246,
     "metadata": {},
     "output_type": "execute_result"
    }
   ],
   "source": [
    "predicted_df_all_days_non_pulm"
   ]
  },
  {
   "cell_type": "code",
   "execution_count": 247,
   "metadata": {},
   "outputs": [],
   "source": [
    "#total_pop=predicted_df_all_days['Population'].unique().sum()\n",
    "\n",
    "MSE_By_County = predicted_df_all_days_pulm.groupby(['FIPS','Week']).apply(\n",
    "    lambda x: np.square(np.subtract(x.Actual_Weekly_Excess_Deaths, x.Predicted_Weekly_Excess_Deaths)).mean() )\n",
    "\n",
    "Metrics_By_County_Week_df = MSE_By_County.to_frame(name = 'MSE').reset_index()\n",
    "\n",
    "\n",
    "RMSE_By_County = Metrics_By_County_Week_df.groupby(['FIPS','Week']).apply(lambda x: np.sqrt(x.MSE))\n",
    "\n",
    "Metrics_By_County_Week_df['RMSE'] = RMSE_By_County.to_frame(name = 'RMSE').reset_index()['RMSE']\n",
    "Metrics_By_County_Week_df.to_csv(\"County_Week_MSE.csv\")\n",
    "\n",
    "\n",
    "\n",
    "MSE_By_County = predicted_df_all_days_pulm.groupby(['FIPS', 'Population']).apply(\n",
    "    lambda x: np.square(np.subtract(x.Actual_Weekly_Excess_Deaths, x.Predicted_Weekly_Excess_Deaths)).mean() )\n",
    "\n",
    "Metrics_By_County_df = MSE_By_County.to_frame(name = 'MSE').reset_index()\n",
    "\n",
    "#MSE_By_County_df=MSE_By_County_df.groupby('Week').to_frame(name = 'MSE').reset_index()\n",
    "\n",
    "RMSE_By_County = Metrics_By_County_df.groupby(['FIPS']).apply(lambda x: np.sqrt(x.MSE))\n",
    "\n",
    "Metrics_By_County_df['RMSE'] = RMSE_By_County.to_frame(name = 'RMSE').reset_index()['RMSE']\n",
    "Metrics_By_County_df.to_csv(\"County_MSE.csv\")\n",
    "\n",
    "MSE_By_County = predicted_df_all_days_pulm.groupby(['Week']).apply(\n",
    "    lambda x: np.square(np.subtract(x.Actual_Weekly_Excess_Deaths, x.Predicted_Weekly_Excess_Deaths)).mean() )\n",
    "\n",
    "Metrics_By_County_df = MSE_By_County.to_frame(name = 'MSE').reset_index()\n",
    "\n",
    "#MSE_By_County_df=MSE_By_County_df.groupby('Week').to_frame(name = 'MSE').reset_index()\n",
    "\n",
    "RMSE_By_County = Metrics_By_County_df.groupby(['Week']).apply(lambda x: np.sqrt(x.MSE))\n",
    "\n",
    "Metrics_By_County_df['RMSE'] = RMSE_By_County.to_frame(name = 'RMSE').reset_index()['RMSE']\n",
    "Metrics_By_County_df.to_csv(\"Week_MSE.csv\")"
   ]
  },
  {
   "cell_type": "code",
   "execution_count": 248,
   "metadata": {},
   "outputs": [
    {
     "data": {
      "image/png": "[encoded data removed]",
      "text/plain": [
       "<Figure size 432x288 with 1 Axes>"
      ]
     },
     "metadata": {},
     "output_type": "display_data"
    },
    {
     "data": {
      "image/png": "[encoded data removed]",
      "text/plain": [
       "<Figure size 432x288 with 1 Axes>"
      ]
     },
     "metadata": {},
     "output_type": "display_data"
    }
   ],
   "source": [
    "import seaborn as sns\n",
    "sns.set()\n",
    "import matplotlib.pyplot as plt\n",
    "\n",
    "actual_deaths = weekly_deaths_df[(weekly_deaths_df['cat'] == 'NP')& (weekly_deaths_df['week'] > 2)].groupby([ 'week'])['excess_deaths_per100k'].sum()\n",
    "actual_deaths_df = actual_deaths.to_frame(name = 'actual_excess_deaths').reset_index()\n",
    "pred_deaths = predicted_df_all_days_non_pulm.groupby(['Week'])['Predicted_Weekly_Excess_Deaths'].sum()\n",
    "pred_deaths_df = pred_deaths.to_frame(name = 'pred_excess_deaths').reset_index()\n",
    "\n",
    "fig, axs = plt.subplots(1)\n",
    "x = actual_deaths_df['week']\n",
    "y = actual_deaths_df['actual_excess_deaths']\n",
    "z = pred_deaths_df['pred_excess_deaths']\n",
    "plt.xlim(3,30)\n",
    "\n",
    "axs.plot(x, y)\n",
    "axs.plot(x, z)\n",
    "\n",
    "plt.savefig('non_pulm_2weeks.png')\n",
    "\n",
    "actual_deaths = weekly_deaths_df[(weekly_deaths_df['cat'] == 'P')& (weekly_deaths_df['week'] > 2)].groupby([ 'week'])['excess_deaths_per100k'].sum()\n",
    "actual_deaths_df = actual_deaths.to_frame(name = 'actual_excess_deaths').reset_index()\n",
    "pred_deaths = predicted_df_all_days_pulm.groupby(['Week'])['Predicted_Weekly_Excess_Deaths'].sum()\n",
    "pred_deaths_df = pred_deaths.to_frame(name = 'pred_excess_deaths').reset_index()\n",
    "\n",
    "fig, axs = plt.subplots(1)\n",
    "x = actual_deaths_df['week']\n",
    "y = actual_deaths_df['actual_excess_deaths']\n",
    "z = pred_deaths_df['pred_excess_deaths']\n",
    "plt.xlim(3,30)\n",
    "\n",
    "axs.plot(x, y)\n",
    "axs.plot(x, z)\n",
    "\n",
    "plt.savefig('pulm_2weeks.png')\n",
    "\n",
    "\n"
   ]
  },
  {
   "cell_type": "code",
   "execution_count": 249,
   "metadata": {},
   "outputs": [
    {
     "data": {
      "image/png": "[encoded data removed]",
      "text/plain": [
       "<Figure size 864x288 with 1 Axes>"
      ]
     },
     "metadata": {},
     "output_type": "display_data"
    },
    {
     "data": {
      "text/plain": [
       "<Figure size 432x288 with 0 Axes>"
      ]
     },
     "metadata": {},
     "output_type": "display_data"
    },
    {
     "data": {
      "image/png": "[encoded data removed]",
      "text/plain": [
       "<Figure size 864x288 with 1 Axes>"
      ]
     },
     "metadata": {},
     "output_type": "display_data"
    },
    {
     "data": {
      "text/plain": [
       "<Figure size 432x288 with 0 Axes>"
      ]
     },
     "metadata": {},
     "output_type": "display_data"
    }
   ],
   "source": [
    "import seaborn as sns\n",
    "\n",
    "def drawGraphs(best_fit_scores, cat):\n",
    "    sns.set()\n",
    "\n",
    "    x = best_fit_scores['Week Duration']\n",
    "    y = best_fit_scores['Best_Score']\n",
    "    z = best_fit_scores['Predict_R2_Score']\n",
    "\n",
    "    fig = plt.figure(figsize=(12,4))\n",
    "    ax = fig.add_subplot(111)\n",
    "\n",
    "    plt.xlim(0,30)\n",
    "    plt.xlabel('Week')\n",
    "\n",
    "    ax.plot(x, y, label ='Best Score')\n",
    "\n",
    "    ax.plot(x, z, label ='Predict R2 Score')\n",
    "    plt.legend()\n",
    "    plt.show()\n",
    "    plt.savefig(cat + '_r2_score.png')\n",
    "    \n",
    "drawGraphs(best_fit_scores_non_pulm, 'NP')\n",
    "drawGraphs(best_fit_scores_pulm, 'P')\n",
    "\n",
    "#x = weekly_deaths_df[(weekly_deaths_df['county'] == 8031.0) & (weekly_deaths_df['week'] > 4)]['week']\n",
    "#y = weekly_deaths_df[(weekly_deaths_df['county'] == 8031.0) & (weekly_deaths_df['week'] > 4)]['excess_deaths_per100k']\n",
    "#z = predicted_df_all_days[(predicted_df_all_days['FIPS'] == 8031.0)]['Predicted_Weekly_Deaths']\n",
    "#plt.plot(x, y)\n",
    "#plt.plot(x, z)"
   ]
  },
  {
   "cell_type": "code",
   "execution_count": null,
   "metadata": {},
   "outputs": [],
   "source": []
  },
  {
   "cell_type": "code",
   "execution_count": null,
   "metadata": {},
   "outputs": [],
   "source": []
  }
 ],
 "metadata": {
  "kernelspec": {
   "display_name": "Python 3",
   "language": "python",
   "name": "python3"
  },
  "language_info": {
   "codemirror_mode": {
    "name": "ipython",
    "version": 3
   },
   "file_extension": ".py",
   "mimetype": "text/x-python",
   "name": "python",
   "nbconvert_exporter": "python",
   "pygments_lexer": "ipython3",
   "version": "3.8.4"
  }
 },
 "nbformat": 4,
 "nbformat_minor": 4
}
