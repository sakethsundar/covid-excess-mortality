{
 "cells": [
  {
   "cell_type": "code",
   "execution_count": 2,
   "metadata": {},
   "outputs": [
    {
     "name": "stdout",
     "output_type": "stream",
     "text": [
      "[8001 8003 8005 8007 8009 8011 8013 8015 8017 8019 8021 8023 8025 8027\n",
      " 8029 8031 8033 8035 8037 8039 8041 8043 8045 8047 8049 8051 8053 8055\n",
      " 8057 8059 8061 8063 8065 8067 8069 8071 8073 8075 8077 8079 8081 8083\n",
      " 8085 8087 8089 8091 8093 8095 8097 8099 8101 8103 8105 8107 8109 8111\n",
      " 8113 8115 8117 8119 8121 8123 8125]\n"
     ]
    }
   ],
   "source": [
    "import pandas as pd\n",
    "from datetime import datetime, timedelta, date\n",
    "import io\n",
    "\n",
    "colorado_df = pd.read_csv(\"data/states/colorado/colorado.csv\", error_bad_lines=True)\n",
    "colorado_df = colorado_df[(colorado_df['occcounty'] < 8999)]\n",
    "\n",
    "county_pop_df = pd.read_csv(\"data/states/county_pop.csv\", encoding = \"utf-8\",error_bad_lines=True)\n",
    "county_pop_df = county_pop_df[county_pop_df['STNAME'] == 'Colorado']\n",
    "\n",
    "#yearly_deaths_by_code = weekly_deaths_df[(weekly_deaths_df['week'] <= 34) & (weekly_deaths_df['year'] == 2019)].groupby(['ucod'])['total_deaths'].sum()\n",
    "#yearly_deaths_by_code_df = yearly_deaths_by_code.to_frame(name = 'yearly_deaths').sort_values(['yearly_deaths', 'ucod'],ascending=False).reset_index().head(26)\n",
    "#top_ucodes = yearly_deaths_by_code_df['ucod']\n",
    "#weekly_deaths_df= weekly_deaths_df[(weekly_deaths_df['ucod'].isin(top_ucodes))]\n",
    "\n",
    "pulm_categories =['J449','I251','C349','I219','I500','I250','I64','I119','I48','F019','I110','J189']\n",
    "non_pulm_categories =['G309','F03','C259','C509','G20','C61','C189','K703','W19','X70','C80','X74','A419','X44']\n",
    "top_ucodes = pulm_categories + non_pulm_categories\n",
    "\n",
    "colorado_df['cat'] = ''\n",
    "colorado_df.loc[colorado_df['ucod'].isin(pulm_categories), \"cat\"] = 'P'\n",
    "colorado_df.loc[colorado_df['acme2'].isin(pulm_categories), \"cat\"] = 'P'\n",
    "colorado_df.loc[colorado_df['ucod'].isin(non_pulm_categories), \"cat\"] = 'NP'\n",
    "colorado_df.loc[colorado_df['acme2'].isin(non_pulm_categories), \"cat\"] = 'NP'\n",
    "\n",
    "colorado_df = colorado_df[(colorado_df['ucod'].isin(top_ucodes) | (colorado_df['acme2'].isin(top_ucodes)))]\n",
    "\n",
    "weekly_deaths_df = colorado_df.groupby(['occcounty', 'year','dwk','cat'])['deaths'].agg(['sum']).reset_index()\n",
    "weekly_deaths_df = weekly_deaths_df.rename(columns={'occcounty':'county','dwk' : 'week', 'sum':'total_deaths'})\n",
    "\n",
    "print (weekly_deaths_df['county'].unique())\n",
    "\n",
    "county_2017_pop= dict(zip(county_pop_df.COUNTY,county_pop_df.POPESTIMATE2017))\n",
    "pop_100k = 100000.0\n",
    "weekly_deaths_df['pop'] = 0\n",
    "weekly_deaths_df['total_deaths_per100k'] = 0\n",
    "weekly_deaths_df['excess_deaths_per100k'] = 0\n",
    "for index, row in weekly_deaths_df.iterrows():\n",
    "    county = row['county'] - 8000\n",
    "    weekly_deaths_df.at[index,'pop'] = county_2017_pop[county]\n",
    "    weekly_deaths_df.at[index, 'total_deaths_per100k'] = row[\"total_deaths\"] #(row[\"total_deaths\"] *pop_100k )/(county_2017_pop[county]* 1.0)\n",
    "\n",
    "\n",
    "avg_deaths = weekly_deaths_df[weekly_deaths_df['year'] < 2020].groupby(['county', 'week','cat'])['total_deaths_per100k'].mean()\n",
    "avg_deaths_df = avg_deaths.to_frame(name = 'avg_deaths').reset_index()\n",
    "\n",
    "for index, row in weekly_deaths_df.iterrows():\n",
    "    year = row['year']\n",
    "    county = row['county']\n",
    "    week = row['week']\n",
    "    cat = row['cat']\n",
    "    if year == 2020:\n",
    "        avgd = avg_deaths_df[(avg_deaths_df['county'] == county) & (avg_deaths_df['week'] == week) & (avg_deaths_df['cat'] == cat)]\n",
    "        if not avgd.empty:\n",
    "            weekly_deaths_df.at[index, \"excess_deaths_per100k\"] = row['total_deaths_per100k'] - avgd['avg_deaths']      \n",
    "weekly_deaths_df[\"county\"] = pd.to_numeric(weekly_deaths_df[\"county\"], downcast='float')\n",
    "\n",
    "\n",
    " "
   ]
  },
  {
   "cell_type": "code",
   "execution_count": 3,
   "metadata": {},
   "outputs": [
    {
     "data": {
      "text/plain": [
       "year\n",
       "2020    7877\n",
       "Name: total_deaths_per100k, dtype: int64"
      ]
     },
     "execution_count": 3,
     "metadata": {},
     "output_type": "execute_result"
    }
   ],
   "source": [
    "weekly_deaths_df = weekly_deaths_df[(weekly_deaths_df['year'] ==2020) & (weekly_deaths_df['cat'] == 'NP') & (weekly_deaths_df['week'] <= 30)]\n",
    "weekly_deaths_df[(weekly_deaths_df['year'] ==2020) ].groupby('year')['total_deaths_per100k'].sum()"
   ]
  },
  {
   "cell_type": "code",
   "execution_count": 4,
   "metadata": {},
   "outputs": [
    {
     "data": {
      "text/plain": [
       "[<matplotlib.lines.Line2D at 0x124e9bb50>]"
      ]
     },
     "execution_count": 4,
     "metadata": {},
     "output_type": "execute_result"
    },
    {
     "data": {
      "image/png": "[encoded data removed]",
      "text/plain": [
       "<Figure size 432x288 with 1 Axes>"
      ]
     },
     "metadata": {},
     "output_type": "display_data"
    }
   ],
   "source": [
    "import seaborn as sns\n",
    "sns.set()\n",
    "import matplotlib.pyplot as plt\n",
    "x = weekly_deaths_df[(weekly_deaths_df['year'] ==2020) &(weekly_deaths_df['county'] == 8123)]['week']\n",
    "y = weekly_deaths_df[(weekly_deaths_df['year'] ==2020) &(weekly_deaths_df['county'] == 8123)]['total_deaths_per100k']\n",
    "plt.plot(x, y)"
   ]
  },
  {
   "cell_type": "code",
   "execution_count": 5,
   "metadata": {},
   "outputs": [],
   "source": [
    "county_covariates= pd.read_csv('https://raw.githubusercontent.com/JieYingWu/COVID-19_US_County-level_Summaries/master/data/counties.csv').dropna(subset=['FIPS'])\n",
    "county_covariates = county_covariates[county_covariates['State'] == 'CO']\n",
    "county_covariates.FIPS = county_covariates.FIPS.astype('int64')\n",
    "county_covariates=county_covariates.set_index('FIPS')\n",
    "age_race_df = pd.read_csv('https://docs.google.com/spreadsheets/d/12GIRONjeNHeKFb3EKpo5r-VvdsnTwwe0iOtKBsnZVM0/export?format=csv')\n",
    "county_icu_beds= pd.read_csv('https://docs.google.com/spreadsheets/d/13iUBUwRcE91_x9FhsF8Ugcb0_tFauWJF2Z-PSkERDlU/export?format=csv')\n",
    "FIPS = pd.read_csv('https://docs.google.com/spreadsheets/d/1jUwRaTSJ__3Wp60cZLLox5u55mJTZrShtjEK4d7xTEY/export?format=csv')\n",
    "covariates = age_race_df.merge(county_covariates, how='inner', left_on=[\"fips\"], right_on=['FIPS'])\n",
    "covariates = covariates.drop(['STNAME', 'County', 'Unnamed: 0','State', 'Area_Name'], axis=1)\n",
    "covariates = covariates.merge(county_icu_beds, how='inner', left_on=[\"fips\"], right_on=['fips'])\n",
    "covariates = covariates.drop(['County','State'], axis=1)\n",
    "covariates = covariates.fillna(0)\n",
    "\n",
    "covariates = covariates.dropna(axis='columns')\n",
    "\n",
    "covariates=covariates[['fips',\n",
    " 'TOT_POP',\n",
    " '0-9',\n",
    " '0-9 y/o % of total pop',\n",
    " '10-19',\n",
    " '10-19 y/o % of total pop',\n",
    " '20-29',\n",
    " '20-29 y/o % of total pop',\n",
    " '30-39',\n",
    " '30-39 y/o % of total pop',\n",
    " '40-49',\n",
    " '40-49 y/o % of total pop',\n",
    " '50-59',\n",
    " '50-59 y/o % of total pop',\n",
    " '60-69',\n",
    " '60-69 y/o % of total pop',\n",
    " '70-79',\n",
    " '70-79 y/o % of total pop',\n",
    " '80+',\n",
    " '80+ y/o % of total pop',\n",
    " 'White-alone pop',\n",
    " '% White-alone',\n",
    " 'Black-alone pop',\n",
    " '% Black-alone',\n",
    " 'Native American/American Indian-alone pop',\n",
    " '% NA/AI-alone',\n",
    " 'Asian-alone pop',\n",
    " '% Asian-alone',\n",
    " 'Hawaiian/Pacific Islander-alone pop',\n",
    " '% Hawaiian/PI-alone',\n",
    " 'Two or more races pop',\n",
    " '% Two or more races',\n",
    " 'POP_ESTIMATE_2018',\n",
    " 'N_POP_CHG_2018',\n",
    " 'GQ_ESTIMATES_2018',\n",
    " 'R_birth_2018',\n",
    " 'R_death_2018',\n",
    " 'R_NATURAL_INC_2018',\n",
    " 'R_INTERNATIONAL_MIG_2018',\n",
    " 'R_DOMESTIC_MIG_2018',\n",
    " 'R_NET_MIG_2018',\n",
    " 'Less than a high school diploma 2014-18',\n",
    " 'High school diploma only 2014-18',\n",
    " \"Some college or associate's degree 2014-18\",\n",
    " \"Bachelor's degree or higher 2014-18\",\n",
    " 'Percent of adults with less than a high school diploma 2014-18',\n",
    " 'Percent of adults with a high school diploma only 2014-18',\n",
    " \"Percent of adults completing some college or associate's degree 2014-18\",\n",
    " \"Percent of adults with a bachelor's degree or higher 2014-18\",\n",
    " 'POVALL_2018',\n",
    " 'PCTPOVALL_2018',\n",
    " 'PCTPOV017_2018',\n",
    " 'PCTPOV517_2018',\n",
    " 'MEDHHINC_2018',\n",
    " 'CI90LBINC_2018',\n",
    " 'CI90UBINC_2018',\n",
    " 'Civilian_labor_force_2018',\n",
    " 'Employed_2018',\n",
    " 'Unemployed_2018',\n",
    " 'Unemployment_rate_2018',\n",
    " 'Median_Household_Income_2018',\n",
    " 'Med_HH_Income_Percent_of_State_Total_2018',\n",
    " 'Jan Precipitation / inch',\n",
    " 'Feb Precipitation / inch',\n",
    " 'Mar Precipitation / inch',\n",
    " 'Apr Precipitation / inch',\n",
    " 'May Precipitation / inch',\n",
    " 'Jun Precipitation / inch',\n",
    " 'Jul Precipitation / inch',\n",
    " 'Jan Temp AVG / F',\n",
    " 'Feb Temp AVG / F',\n",
    " 'Mar Temp AVG / F',\n",
    " 'Apr Temp AVG / F',\n",
    " 'May Temp AVG / F',\n",
    " 'Jun Temp AVG / F',\n",
    " 'Jul Temp AVG / F',\n",
    " 'Active Physicians per 100000 Population 2018 (AAMC)',\n",
    " 'Total Active Patient Care Physicians per 100000 Population 2018 (AAMC)',\n",
    " 'Active Primary Care Physicians per 100000 Population 2018 (AAMC)',\n",
    " 'Active Patient Care Primary Care Physicians per 100000 Population 2018 (AAMC)',\n",
    " 'Active General Surgeons per 100000 Population 2018 (AAMC)',\n",
    " 'Active Patient Care General Surgeons per 100000 Population 2018 (AAMC)',\n",
    " 'Total nurse practitioners (2019)',\n",
    " 'Total physician assistants (2019)',\n",
    " 'Total Hospitals (2019)',\n",
    " 'Internal Medicine Primary Care (2019)',\n",
    " 'Family Medicine/General Practice Primary Care (2019)',\n",
    " 'Total Specialist Physicians (2019)',\n",
    " 'ICU Beds_x',\n",
    " 'Total Population',\n",
    " 'Population Aged 60+',\n",
    " 'Percent of Population Aged 60+']]\n",
    " "
   ]
  },
  {
   "cell_type": "code",
   "execution_count": 6,
   "metadata": {},
   "outputs": [],
   "source": [
    "weekly_deaths_prior_two_weeks_df = weekly_deaths_df.copy() \n",
    "weekly_deaths_prior_two_weeks_df[\"week\"] = weekly_deaths_prior_two_weeks_df[\"week\"] + 2\n",
    "weekly_deaths_prior_two_weeks_df.rename(columns = {'total_deaths_per100k':'two_week_prior_total_deaths_per100k', 'excess_deaths_per100k':'two_week_prior_excess_deaths_per100k'}, inplace = True)\n",
    "weekly_deaths_prior_three_weeks_df = weekly_deaths_df.copy() \n",
    "weekly_deaths_prior_three_weeks_df[\"week\"] = weekly_deaths_prior_three_weeks_df[\"week\"] + 3\n",
    "weekly_deaths_prior_three_weeks_df.rename(columns = {'total_deaths_per100k':'three_week_prior_total_deaths_per100k', 'excess_deaths_per100k':'three_week_prior_excess_deaths_per100k'}, inplace = True)\n",
    "weekly_deaths_merged_df = weekly_deaths_df.merge(weekly_deaths_prior_two_weeks_df[['two_week_prior_total_deaths_per100k', 'two_week_prior_excess_deaths_per100k', 'county', 'year','week']], how='left', left_on=['county', 'year', 'week'], right_on=['county', 'year', 'week'])\n",
    "weekly_deaths_merged_df = weekly_deaths_merged_df.merge(weekly_deaths_prior_three_weeks_df[['three_week_prior_total_deaths_per100k', 'three_week_prior_excess_deaths_per100k', 'county', 'year','week']], how='left', left_on=['county', 'year', 'week'], right_on=['county', 'year', 'week'])"
   ]
  },
  {
   "cell_type": "code",
   "execution_count": 7,
   "metadata": {},
   "outputs": [],
   "source": [
    "covariates_merged = covariates.merge(weekly_deaths_merged_df[['two_week_prior_total_deaths_per100k', \n",
    "                                                              'two_week_prior_excess_deaths_per100k',\n",
    "                                                              'three_week_prior_total_deaths_per100k', \n",
    "                                                              'three_week_prior_excess_deaths_per100k',\n",
    "                                            'county', 'year', 'week']], how='inner', left_on=[\"fips\"], right_on=['county'])\n"
   ]
  },
  {
   "cell_type": "code",
   "execution_count": 14,
   "metadata": {},
   "outputs": [],
   "source": [
    "def run_model(train_start_week_day,train_end_week_day,predict_start_week_day,predict_end_week_day,\n",
    "              covariates_merged,weekly_deaths_merged_df,predict_column_index,best_fit_scores,index):\n",
    "    print(\"train:\", train_start_week_day ,\":\", train_end_week_day, \n",
    "        \" predict:\" , predict_start_week_day, \":\",  predict_end_week_day,)\n",
    "    print \n",
    "    #print (\"training week number: \" , week_num+1)\n",
    "    #********************TRAIN MODEL ************************ \n",
    "    #train with all coutnies variates for one  week  and predict for LA county cumulative deaths\n",
    "    train_week = pd.Series(range(train_start_week_day,train_end_week_day))\n",
    "    #print (\"training week series :\" , train_week.array)\n",
    "    covariates_train_week = covariates_merged.loc[(covariates_merged['week'].isin(train_week))] \n",
    "    weekly_deaths_train_week = weekly_deaths_merged_df.loc[(weekly_deaths_merged_df['week'].isin(train_week))].iloc[:, predict_column_index]  \n",
    "    if len(weekly_deaths_merged_df) > 0:\n",
    "       \n",
    "        X_train = covariates_train_week\n",
    "        Y_train = weekly_deaths_train_week\n",
    "        #reg = LassoCV(cv=5, random_state=0).fit(X_train, Y_train)\n",
    "        xgbReg = xgb.XGBRegressor()\n",
    "\n",
    "        parameters = {\n",
    "              'objective':['reg:squarederror'],\n",
    "              'learning_rate': [0.01, 0.05, 0.08], #so called `eta` value\n",
    "              'max_depth': [1,2,3,4],\n",
    "              'min_child_weight': [1,2],\n",
    "              'subsample': [0.8],\n",
    "              'colsample_bytree' : [0.8],\n",
    "              'n_estimators': [ 100,200]}\n",
    "        tscv = TimeSeriesSplit(n_splits=2)\n",
    "        xgb_grid = GridSearchCV(xgbReg,\n",
    "                        parameters,\n",
    "                        cv = tscv,\n",
    "                        n_jobs = 4,\n",
    "                        scoring = 'r2',\n",
    "                        verbose=True)\n",
    "\n",
    "        xgb_grid.fit(X_train,Y_train)\n",
    "\n",
    "\n",
    "        print(xgb_grid.best_score_)\n",
    "        print(xgb_grid.best_params_)\n",
    "        results = xgb_grid.cv_results_\n",
    "        predict_week = pd.Series(range(predict_start_week_day, predict_end_week_day ))\n",
    "        #print (\"predicting next week series :\" , predict_week.array)\n",
    "\n",
    "        X_predict_week = covariates_merged.loc[(covariates_merged['week'].isin(predict_week))]\n",
    "        predict_week_df = weekly_deaths_merged_df.loc[(weekly_deaths_merged_df['week'].isin(predict_week))]\n",
    "        Y_actual_predict_week = predict_week_df.iloc[:,predict_column_index]\n",
    "        #best_reg.fit(X_tune_week, Y_actual_tune_week)\n",
    "        Y_predict_week = xgb_grid.best_estimator_.predict(X_predict_week)\n",
    "        predict_score = r2_score(Y_actual_predict_week, Y_predict_week)\n",
    "        print(week_num , \":\", predict_score)\n",
    "        best_fit_scores.loc[index] = [str(predict_start_week_day), xgb_grid.best_params_, xgb_grid.best_score_,  predict_score]\n",
    "\n",
    "        return Y_predict_week\n",
    "    return None\n",
    "       "
   ]
  },
  {
   "cell_type": "code",
   "execution_count": 15,
   "metadata": {},
   "outputs": [
    {
     "name": "stdout",
     "output_type": "stream",
     "text": [
      "min_week:  0  max week:  30  number of weeks :  30\n",
      "train: 1 : 5  predict: 5 : 6\n",
      "train: 1 : 5  predict: 5 : 6\n",
      "Fitting 2 folds for each of 48 candidates, totalling 96 fits\n"
     ]
    },
    {
     "name": "stderr",
     "output_type": "stream",
     "text": [
      "[Parallel(n_jobs=4)]: Using backend LokyBackend with 4 concurrent workers.\n"
     ]
    },
    {
     "name": "stdout",
     "output_type": "stream",
     "text": [
      "nan\n",
      "{'colsample_bytree': 0.8, 'learning_rate': 0.01, 'max_depth': 1, 'min_child_weight': 1, 'n_estimators': 100, 'objective': 'reg:squarederror', 'subsample': 0.8}\n",
      "0 : nan\n"
     ]
    },
    {
     "name": "stderr",
     "output_type": "stream",
     "text": [
      "[Parallel(n_jobs=4)]: Done  96 out of  96 | elapsed:    0.7s finished\n",
      "/usr/local/lib/python3.8/site-packages/sklearn/metrics/_regression.py:589: UndefinedMetricWarning: R^2 score is not well-defined with less than two samples.\n",
      "  warnings.warn(msg, UndefinedMetricWarning)\n"
     ]
    },
    {
     "ename": "ValueError",
     "evalue": "Length of values does not match length of index",
     "output_type": "error",
     "traceback": [
      "\u001b[0;31m---------------------------------------------------------------------------\u001b[0m",
      "\u001b[0;31mValueError\u001b[0m                                Traceback (most recent call last)",
      "\u001b[0;32m<ipython-input-15-755ea007010d>\u001b[0m in \u001b[0;36m<module>\u001b[0;34m\u001b[0m\n\u001b[1;32m     57\u001b[0m     \u001b[0mforecast_day\u001b[0m \u001b[0;34m=\u001b[0m \u001b[0;34m(\u001b[0m\u001b[0mcovid_start_date\u001b[0m \u001b[0;34m+\u001b[0m \u001b[0mtimedelta\u001b[0m\u001b[0;34m(\u001b[0m\u001b[0mdays\u001b[0m\u001b[0;34m=\u001b[0m\u001b[0;34m(\u001b[0m\u001b[0mpredict_start_week_day\u001b[0m\u001b[0;34m*\u001b[0m\u001b[0;36m7\u001b[0m \u001b[0;34m+\u001b[0m \u001b[0;36m6\u001b[0m\u001b[0;34m)\u001b[0m\u001b[0;34m)\u001b[0m\u001b[0;34m)\u001b[0m\u001b[0;34m.\u001b[0m\u001b[0mstrftime\u001b[0m\u001b[0;34m(\u001b[0m\u001b[0;34m\"%Y-%m-%d\"\u001b[0m\u001b[0;34m)\u001b[0m\u001b[0;34m\u001b[0m\u001b[0;34m\u001b[0m\u001b[0m\n\u001b[1;32m     58\u001b[0m     \u001b[0mpredicted_df\u001b[0m\u001b[0;34m[\u001b[0m\u001b[0;34m\"Forecast_Day\"\u001b[0m\u001b[0;34m]\u001b[0m \u001b[0;34m=\u001b[0m \u001b[0mforecast_day\u001b[0m\u001b[0;34m\u001b[0m\u001b[0;34m\u001b[0m\u001b[0m\n\u001b[0;32m---> 59\u001b[0;31m     \u001b[0mpredicted_df\u001b[0m\u001b[0;34m[\u001b[0m\u001b[0;34m\"Predicted_Weekly_Deaths\"\u001b[0m\u001b[0;34m]\u001b[0m \u001b[0;34m=\u001b[0m \u001b[0mpredicted_deaths\u001b[0m\u001b[0;34m\u001b[0m\u001b[0;34m\u001b[0m\u001b[0m\n\u001b[0m\u001b[1;32m     60\u001b[0m     \u001b[0;31m#predicted_df.to_csv(\"data/predictions/predicted_us_deaths_\" +  forecast_day + \".csv\")\u001b[0m\u001b[0;34m\u001b[0m\u001b[0;34m\u001b[0m\u001b[0;34m\u001b[0m\u001b[0m\n\u001b[1;32m     61\u001b[0m     \u001b[0mpredicted_df_all_days\u001b[0m \u001b[0;34m=\u001b[0m \u001b[0mpd\u001b[0m\u001b[0;34m.\u001b[0m\u001b[0mconcat\u001b[0m\u001b[0;34m(\u001b[0m\u001b[0;34m[\u001b[0m\u001b[0mpredicted_df_all_days\u001b[0m\u001b[0;34m,\u001b[0m \u001b[0mpredicted_df\u001b[0m\u001b[0;34m]\u001b[0m\u001b[0;34m)\u001b[0m\u001b[0;34m\u001b[0m\u001b[0;34m\u001b[0m\u001b[0m\n",
      "\u001b[0;32m/usr/local/lib/python3.8/site-packages/pandas/core/frame.py\u001b[0m in \u001b[0;36m__setitem__\u001b[0;34m(self, key, value)\u001b[0m\n\u001b[1;32m   2936\u001b[0m         \u001b[0;32melse\u001b[0m\u001b[0;34m:\u001b[0m\u001b[0;34m\u001b[0m\u001b[0;34m\u001b[0m\u001b[0m\n\u001b[1;32m   2937\u001b[0m             \u001b[0;31m# set column\u001b[0m\u001b[0;34m\u001b[0m\u001b[0;34m\u001b[0m\u001b[0;34m\u001b[0m\u001b[0m\n\u001b[0;32m-> 2938\u001b[0;31m             \u001b[0mself\u001b[0m\u001b[0;34m.\u001b[0m\u001b[0m_set_item\u001b[0m\u001b[0;34m(\u001b[0m\u001b[0mkey\u001b[0m\u001b[0;34m,\u001b[0m \u001b[0mvalue\u001b[0m\u001b[0;34m)\u001b[0m\u001b[0;34m\u001b[0m\u001b[0;34m\u001b[0m\u001b[0m\n\u001b[0m\u001b[1;32m   2939\u001b[0m \u001b[0;34m\u001b[0m\u001b[0m\n\u001b[1;32m   2940\u001b[0m     \u001b[0;32mdef\u001b[0m \u001b[0m_setitem_slice\u001b[0m\u001b[0;34m(\u001b[0m\u001b[0mself\u001b[0m\u001b[0;34m,\u001b[0m \u001b[0mkey\u001b[0m\u001b[0;34m,\u001b[0m \u001b[0mvalue\u001b[0m\u001b[0;34m)\u001b[0m\u001b[0;34m:\u001b[0m\u001b[0;34m\u001b[0m\u001b[0;34m\u001b[0m\u001b[0m\n",
      "\u001b[0;32m/usr/local/lib/python3.8/site-packages/pandas/core/frame.py\u001b[0m in \u001b[0;36m_set_item\u001b[0;34m(self, key, value)\u001b[0m\n\u001b[1;32m   2998\u001b[0m \u001b[0;34m\u001b[0m\u001b[0m\n\u001b[1;32m   2999\u001b[0m         \u001b[0mself\u001b[0m\u001b[0;34m.\u001b[0m\u001b[0m_ensure_valid_index\u001b[0m\u001b[0;34m(\u001b[0m\u001b[0mvalue\u001b[0m\u001b[0;34m)\u001b[0m\u001b[0;34m\u001b[0m\u001b[0;34m\u001b[0m\u001b[0m\n\u001b[0;32m-> 3000\u001b[0;31m         \u001b[0mvalue\u001b[0m \u001b[0;34m=\u001b[0m \u001b[0mself\u001b[0m\u001b[0;34m.\u001b[0m\u001b[0m_sanitize_column\u001b[0m\u001b[0;34m(\u001b[0m\u001b[0mkey\u001b[0m\u001b[0;34m,\u001b[0m \u001b[0mvalue\u001b[0m\u001b[0;34m)\u001b[0m\u001b[0;34m\u001b[0m\u001b[0;34m\u001b[0m\u001b[0m\n\u001b[0m\u001b[1;32m   3001\u001b[0m         \u001b[0mNDFrame\u001b[0m\u001b[0;34m.\u001b[0m\u001b[0m_set_item\u001b[0m\u001b[0;34m(\u001b[0m\u001b[0mself\u001b[0m\u001b[0;34m,\u001b[0m \u001b[0mkey\u001b[0m\u001b[0;34m,\u001b[0m \u001b[0mvalue\u001b[0m\u001b[0;34m)\u001b[0m\u001b[0;34m\u001b[0m\u001b[0;34m\u001b[0m\u001b[0m\n\u001b[1;32m   3002\u001b[0m \u001b[0;34m\u001b[0m\u001b[0m\n",
      "\u001b[0;32m/usr/local/lib/python3.8/site-packages/pandas/core/frame.py\u001b[0m in \u001b[0;36m_sanitize_column\u001b[0;34m(self, key, value, broadcast)\u001b[0m\n\u001b[1;32m   3634\u001b[0m \u001b[0;34m\u001b[0m\u001b[0m\n\u001b[1;32m   3635\u001b[0m             \u001b[0;31m# turn me into an ndarray\u001b[0m\u001b[0;34m\u001b[0m\u001b[0;34m\u001b[0m\u001b[0;34m\u001b[0m\u001b[0m\n\u001b[0;32m-> 3636\u001b[0;31m             \u001b[0mvalue\u001b[0m \u001b[0;34m=\u001b[0m \u001b[0msanitize_index\u001b[0m\u001b[0;34m(\u001b[0m\u001b[0mvalue\u001b[0m\u001b[0;34m,\u001b[0m \u001b[0mself\u001b[0m\u001b[0;34m.\u001b[0m\u001b[0mindex\u001b[0m\u001b[0;34m,\u001b[0m \u001b[0mcopy\u001b[0m\u001b[0;34m=\u001b[0m\u001b[0;32mFalse\u001b[0m\u001b[0;34m)\u001b[0m\u001b[0;34m\u001b[0m\u001b[0;34m\u001b[0m\u001b[0m\n\u001b[0m\u001b[1;32m   3637\u001b[0m             \u001b[0;32mif\u001b[0m \u001b[0;32mnot\u001b[0m \u001b[0misinstance\u001b[0m\u001b[0;34m(\u001b[0m\u001b[0mvalue\u001b[0m\u001b[0;34m,\u001b[0m \u001b[0;34m(\u001b[0m\u001b[0mnp\u001b[0m\u001b[0;34m.\u001b[0m\u001b[0mndarray\u001b[0m\u001b[0;34m,\u001b[0m \u001b[0mIndex\u001b[0m\u001b[0;34m)\u001b[0m\u001b[0;34m)\u001b[0m\u001b[0;34m:\u001b[0m\u001b[0;34m\u001b[0m\u001b[0;34m\u001b[0m\u001b[0m\n\u001b[1;32m   3638\u001b[0m                 \u001b[0;32mif\u001b[0m \u001b[0misinstance\u001b[0m\u001b[0;34m(\u001b[0m\u001b[0mvalue\u001b[0m\u001b[0;34m,\u001b[0m \u001b[0mlist\u001b[0m\u001b[0;34m)\u001b[0m \u001b[0;32mand\u001b[0m \u001b[0mlen\u001b[0m\u001b[0;34m(\u001b[0m\u001b[0mvalue\u001b[0m\u001b[0;34m)\u001b[0m \u001b[0;34m>\u001b[0m \u001b[0;36m0\u001b[0m\u001b[0;34m:\u001b[0m\u001b[0;34m\u001b[0m\u001b[0;34m\u001b[0m\u001b[0m\n",
      "\u001b[0;32m/usr/local/lib/python3.8/site-packages/pandas/core/internals/construction.py\u001b[0m in \u001b[0;36msanitize_index\u001b[0;34m(data, index, copy)\u001b[0m\n\u001b[1;32m    609\u001b[0m \u001b[0;34m\u001b[0m\u001b[0m\n\u001b[1;32m    610\u001b[0m     \u001b[0;32mif\u001b[0m \u001b[0mlen\u001b[0m\u001b[0;34m(\u001b[0m\u001b[0mdata\u001b[0m\u001b[0;34m)\u001b[0m \u001b[0;34m!=\u001b[0m \u001b[0mlen\u001b[0m\u001b[0;34m(\u001b[0m\u001b[0mindex\u001b[0m\u001b[0;34m)\u001b[0m\u001b[0;34m:\u001b[0m\u001b[0;34m\u001b[0m\u001b[0;34m\u001b[0m\u001b[0m\n\u001b[0;32m--> 611\u001b[0;31m         \u001b[0;32mraise\u001b[0m \u001b[0mValueError\u001b[0m\u001b[0;34m(\u001b[0m\u001b[0;34m\"Length of values does not match length of index\"\u001b[0m\u001b[0;34m)\u001b[0m\u001b[0;34m\u001b[0m\u001b[0;34m\u001b[0m\u001b[0m\n\u001b[0m\u001b[1;32m    612\u001b[0m \u001b[0;34m\u001b[0m\u001b[0m\n\u001b[1;32m    613\u001b[0m     \u001b[0;32mif\u001b[0m \u001b[0misinstance\u001b[0m\u001b[0;34m(\u001b[0m\u001b[0mdata\u001b[0m\u001b[0;34m,\u001b[0m \u001b[0mABCIndexClass\u001b[0m\u001b[0;34m)\u001b[0m \u001b[0;32mand\u001b[0m \u001b[0;32mnot\u001b[0m \u001b[0mcopy\u001b[0m\u001b[0;34m:\u001b[0m\u001b[0;34m\u001b[0m\u001b[0;34m\u001b[0m\u001b[0m\n",
      "\u001b[0;31mValueError\u001b[0m: Length of values does not match length of index"
     ]
    }
   ],
   "source": [
    "from sklearn.linear_model import MultiTaskLassoCV\n",
    "from sklearn.linear_model import Lasso\n",
    "from sklearn.linear_model import ElasticNet\n",
    "from sklearn.multioutput import MultiOutputRegressor\n",
    "from sklearn.metrics import r2_score\n",
    "from sklearn.metrics import mean_squared_error\n",
    "\n",
    "import numpy as np\n",
    "import warnings\n",
    "import matplotlib.pyplot as plt\n",
    "from sklearn.exceptions import ConvergenceWarning\n",
    "import xgboost as xgb\n",
    "from datetime import datetime\n",
    "from sklearn.model_selection import GridSearchCV,TimeSeriesSplit\n",
    "\n",
    "warnings.filterwarnings(\"ignore\", category=ConvergenceWarning)\n",
    "covid_start_date = datetime.strptime(\"01/22/20\", \"%m/%d/%y\")\n",
    "\n",
    "\n",
    "min_week=weekly_deaths_merged_df['week'].min()\n",
    "max_week=weekly_deaths_merged_df['week'].max()\n",
    "\n",
    "index = 0 \n",
    "num_weeks=int((max_week-min_week))\n",
    "print(\"min_week: \" , min_week, \" max week: \", max_week, \" number of weeks : \" , num_weeks)\n",
    "#prediction_days_arr = [7,14,21,28]\n",
    "#prediction_days = 7   # one week  train , tune and forecast\n",
    "#prediction_days = 14 # two weks train , tune and forecast\n",
    "prediction_weeks = 2 # three weks train , tune and forecast\n",
    "#prediction_days = 28 # four weeks train , tune and forecast\n",
    "\n",
    "best_fit_scores = pd.DataFrame(columns=[\"Week Duration\", \"Best_Parameters\", \"Best_Score\", \"Predict_R2_Score\"])\n",
    "predicted_df_all_days = pd.DataFrame(columns=['State','FIPS', 'Population','Forecast_Day','Week','Predicted_Weekly_Excess_Deaths'])\n",
    "\n",
    "train_start_week_day = 1\n",
    "train_end_week_day = train_start_week_day + prediction_weeks\n",
    "\n",
    "predict_start_week_day = train_end_week_day \n",
    "predict_end_week_day = predict_start_week_day + 1\n",
    "\n",
    "print(\"train:\", train_start_week_day ,\":\", train_end_week_day, \n",
    "        \" predict:\" , predict_start_week_day, \":\",  predict_end_week_day)\n",
    "\n",
    "for week_num in range(num_weeks):\n",
    "    if (predict_end_week_day-1) > max_week:\n",
    "        break\n",
    "    predicted_df = pd.DataFrame(columns=['State','FIPS','Population', 'Forecast_Day','Week','Predicted_Weekly_Deaths', 'Predicted_Weekly_Cases', 'Predicted_Cumulative_Deaths', 'Predicted_Cumulative_Cases','Past_Week_Cumulative_Deaths'])        \n",
    "    predicted_deaths = run_model(train_start_week_day,train_end_week_day,predict_start_week_day,predict_end_week_day,\n",
    "              covariates_merged,weekly_deaths_merged_df,7,best_fit_scores, index) \n",
    "\n",
    "    predict_week = pd.Series(range(predict_start_week_day, predict_end_week_day ))\n",
    "    predict_week_df = weekly_deaths_merged_df.loc[(weekly_deaths_merged_df['week'].isin(predict_week))]\n",
    "    predicted_df[\"State\"] = 'Colorado'\n",
    "    predicted_df[\"FIPS\"] = predict_week_df[\"county\"]\n",
    "    predicted_df[\"Population\"] = predict_week_df[\"pop\"]\n",
    "    predicted_df[\"Week\"] = predict_week_df[\"week\"]\n",
    "    forecast_day = (covid_start_date + timedelta(days=(predict_start_week_day*7 + 6))).strftime(\"%Y-%m-%d\")\n",
    "    predicted_df[\"Forecast_Day\"] = forecast_day \n",
    "    predicted_df[\"Predicted_Weekly_Deaths\"] = predicted_deaths\n",
    "    #predicted_df.to_csv(\"data/predictions/predicted_us_deaths_\" +  forecast_day + \".csv\")                     \n",
    "    predicted_df_all_days = pd.concat([predicted_df_all_days, predicted_df])\n",
    "\n",
    "    train_start_week_day = train_start_week_day + 1\n",
    "    train_end_week_day = train_end_week_day + 1\n",
    "    predict_start_week_day = predict_start_week_day + 1\n",
    "    predict_end_week_day = predict_start_week_day + 1\n",
    "    index = index + 1\n",
    "   \n",
    "best_fit_scores.to_csv(\"best_fit_scores_np.csv\", index=False)\n",
    "#predicted_df_all_days.to_csv(\"predicted_all_days.csv\", index=False)\n"
   ]
  },
  {
   "cell_type": "code",
   "execution_count": null,
   "metadata": {},
   "outputs": [],
   "source": [
    "\n"
   ]
  },
  {
   "cell_type": "code",
   "execution_count": 37,
   "metadata": {},
   "outputs": [
    {
     "ename": "ValueError",
     "evalue": "x and y must have same first dimension, but have shapes (27,) and (28,)",
     "output_type": "error",
     "traceback": [
      "\u001b[0;31m---------------------------------------------------------------------------\u001b[0m",
      "\u001b[0;31mValueError\u001b[0m                                Traceback (most recent call last)",
      "\u001b[0;32m<ipython-input-37-68f7b54d7c19>\u001b[0m in \u001b[0;36m<module>\u001b[0;34m\u001b[0m\n\u001b[1;32m     13\u001b[0m \u001b[0mplt\u001b[0m\u001b[0;34m.\u001b[0m\u001b[0mxlim\u001b[0m\u001b[0;34m(\u001b[0m\u001b[0;36m3\u001b[0m\u001b[0;34m,\u001b[0m\u001b[0;36m30\u001b[0m\u001b[0;34m)\u001b[0m\u001b[0;34m\u001b[0m\u001b[0;34m\u001b[0m\u001b[0m\n\u001b[1;32m     14\u001b[0m \u001b[0mplt\u001b[0m\u001b[0;34m.\u001b[0m\u001b[0mplot\u001b[0m\u001b[0;34m(\u001b[0m\u001b[0mx\u001b[0m\u001b[0;34m,\u001b[0m \u001b[0my\u001b[0m\u001b[0;34m)\u001b[0m\u001b[0;34m\u001b[0m\u001b[0;34m\u001b[0m\u001b[0m\n\u001b[0;32m---> 15\u001b[0;31m \u001b[0mplt\u001b[0m\u001b[0;34m.\u001b[0m\u001b[0mplot\u001b[0m\u001b[0;34m(\u001b[0m\u001b[0mx\u001b[0m\u001b[0;34m,\u001b[0m \u001b[0mz\u001b[0m\u001b[0;34m)\u001b[0m\u001b[0;34m\u001b[0m\u001b[0;34m\u001b[0m\u001b[0m\n\u001b[0m\u001b[1;32m     16\u001b[0m \u001b[0;34m\u001b[0m\u001b[0m\n\u001b[1;32m     17\u001b[0m \u001b[0mplt\u001b[0m\u001b[0;34m.\u001b[0m\u001b[0msavefig\u001b[0m\u001b[0;34m(\u001b[0m\u001b[0;34m'np_2weeks.png'\u001b[0m\u001b[0;34m)\u001b[0m\u001b[0;34m\u001b[0m\u001b[0;34m\u001b[0m\u001b[0m\n",
      "\u001b[0;32m/usr/local/lib/python3.8/site-packages/matplotlib/pyplot.py\u001b[0m in \u001b[0;36mplot\u001b[0;34m(scalex, scaley, data, *args, **kwargs)\u001b[0m\n\u001b[1;32m   2759\u001b[0m \u001b[0;34m@\u001b[0m\u001b[0mdocstring\u001b[0m\u001b[0;34m.\u001b[0m\u001b[0mcopy\u001b[0m\u001b[0;34m(\u001b[0m\u001b[0mAxes\u001b[0m\u001b[0;34m.\u001b[0m\u001b[0mplot\u001b[0m\u001b[0;34m)\u001b[0m\u001b[0;34m\u001b[0m\u001b[0;34m\u001b[0m\u001b[0m\n\u001b[1;32m   2760\u001b[0m \u001b[0;32mdef\u001b[0m \u001b[0mplot\u001b[0m\u001b[0;34m(\u001b[0m\u001b[0;34m*\u001b[0m\u001b[0margs\u001b[0m\u001b[0;34m,\u001b[0m \u001b[0mscalex\u001b[0m\u001b[0;34m=\u001b[0m\u001b[0;32mTrue\u001b[0m\u001b[0;34m,\u001b[0m \u001b[0mscaley\u001b[0m\u001b[0;34m=\u001b[0m\u001b[0;32mTrue\u001b[0m\u001b[0;34m,\u001b[0m \u001b[0mdata\u001b[0m\u001b[0;34m=\u001b[0m\u001b[0;32mNone\u001b[0m\u001b[0;34m,\u001b[0m \u001b[0;34m**\u001b[0m\u001b[0mkwargs\u001b[0m\u001b[0;34m)\u001b[0m\u001b[0;34m:\u001b[0m\u001b[0;34m\u001b[0m\u001b[0;34m\u001b[0m\u001b[0m\n\u001b[0;32m-> 2761\u001b[0;31m     return gca().plot(\n\u001b[0m\u001b[1;32m   2762\u001b[0m         *args, scalex=scalex, scaley=scaley, **({\"data\": data} if data\n\u001b[1;32m   2763\u001b[0m         is not None else {}), **kwargs)\n",
      "\u001b[0;32m/usr/local/lib/python3.8/site-packages/matplotlib/axes/_axes.py\u001b[0m in \u001b[0;36mplot\u001b[0;34m(self, scalex, scaley, data, *args, **kwargs)\u001b[0m\n\u001b[1;32m   1645\u001b[0m         \"\"\"\n\u001b[1;32m   1646\u001b[0m         \u001b[0mkwargs\u001b[0m \u001b[0;34m=\u001b[0m \u001b[0mcbook\u001b[0m\u001b[0;34m.\u001b[0m\u001b[0mnormalize_kwargs\u001b[0m\u001b[0;34m(\u001b[0m\u001b[0mkwargs\u001b[0m\u001b[0;34m,\u001b[0m \u001b[0mmlines\u001b[0m\u001b[0;34m.\u001b[0m\u001b[0mLine2D\u001b[0m\u001b[0;34m)\u001b[0m\u001b[0;34m\u001b[0m\u001b[0;34m\u001b[0m\u001b[0m\n\u001b[0;32m-> 1647\u001b[0;31m         \u001b[0mlines\u001b[0m \u001b[0;34m=\u001b[0m \u001b[0;34m[\u001b[0m\u001b[0;34m*\u001b[0m\u001b[0mself\u001b[0m\u001b[0;34m.\u001b[0m\u001b[0m_get_lines\u001b[0m\u001b[0;34m(\u001b[0m\u001b[0;34m*\u001b[0m\u001b[0margs\u001b[0m\u001b[0;34m,\u001b[0m \u001b[0mdata\u001b[0m\u001b[0;34m=\u001b[0m\u001b[0mdata\u001b[0m\u001b[0;34m,\u001b[0m \u001b[0;34m**\u001b[0m\u001b[0mkwargs\u001b[0m\u001b[0;34m)\u001b[0m\u001b[0;34m]\u001b[0m\u001b[0;34m\u001b[0m\u001b[0;34m\u001b[0m\u001b[0m\n\u001b[0m\u001b[1;32m   1648\u001b[0m         \u001b[0;32mfor\u001b[0m \u001b[0mline\u001b[0m \u001b[0;32min\u001b[0m \u001b[0mlines\u001b[0m\u001b[0;34m:\u001b[0m\u001b[0;34m\u001b[0m\u001b[0;34m\u001b[0m\u001b[0m\n\u001b[1;32m   1649\u001b[0m             \u001b[0mself\u001b[0m\u001b[0;34m.\u001b[0m\u001b[0madd_line\u001b[0m\u001b[0;34m(\u001b[0m\u001b[0mline\u001b[0m\u001b[0;34m)\u001b[0m\u001b[0;34m\u001b[0m\u001b[0;34m\u001b[0m\u001b[0m\n",
      "\u001b[0;32m/usr/local/lib/python3.8/site-packages/matplotlib/axes/_base.py\u001b[0m in \u001b[0;36m__call__\u001b[0;34m(self, *args, **kwargs)\u001b[0m\n\u001b[1;32m    214\u001b[0m                 \u001b[0mthis\u001b[0m \u001b[0;34m+=\u001b[0m \u001b[0margs\u001b[0m\u001b[0;34m[\u001b[0m\u001b[0;36m0\u001b[0m\u001b[0;34m]\u001b[0m\u001b[0;34m,\u001b[0m\u001b[0;34m\u001b[0m\u001b[0;34m\u001b[0m\u001b[0m\n\u001b[1;32m    215\u001b[0m                 \u001b[0margs\u001b[0m \u001b[0;34m=\u001b[0m \u001b[0margs\u001b[0m\u001b[0;34m[\u001b[0m\u001b[0;36m1\u001b[0m\u001b[0;34m:\u001b[0m\u001b[0;34m]\u001b[0m\u001b[0;34m\u001b[0m\u001b[0;34m\u001b[0m\u001b[0m\n\u001b[0;32m--> 216\u001b[0;31m             \u001b[0;32myield\u001b[0m \u001b[0;32mfrom\u001b[0m \u001b[0mself\u001b[0m\u001b[0;34m.\u001b[0m\u001b[0m_plot_args\u001b[0m\u001b[0;34m(\u001b[0m\u001b[0mthis\u001b[0m\u001b[0;34m,\u001b[0m \u001b[0mkwargs\u001b[0m\u001b[0;34m)\u001b[0m\u001b[0;34m\u001b[0m\u001b[0;34m\u001b[0m\u001b[0m\n\u001b[0m\u001b[1;32m    217\u001b[0m \u001b[0;34m\u001b[0m\u001b[0m\n\u001b[1;32m    218\u001b[0m     \u001b[0;32mdef\u001b[0m \u001b[0mget_next_color\u001b[0m\u001b[0;34m(\u001b[0m\u001b[0mself\u001b[0m\u001b[0;34m)\u001b[0m\u001b[0;34m:\u001b[0m\u001b[0;34m\u001b[0m\u001b[0;34m\u001b[0m\u001b[0m\n",
      "\u001b[0;32m/usr/local/lib/python3.8/site-packages/matplotlib/axes/_base.py\u001b[0m in \u001b[0;36m_plot_args\u001b[0;34m(self, tup, kwargs)\u001b[0m\n\u001b[1;32m    340\u001b[0m \u001b[0;34m\u001b[0m\u001b[0m\n\u001b[1;32m    341\u001b[0m         \u001b[0;32mif\u001b[0m \u001b[0mx\u001b[0m\u001b[0;34m.\u001b[0m\u001b[0mshape\u001b[0m\u001b[0;34m[\u001b[0m\u001b[0;36m0\u001b[0m\u001b[0;34m]\u001b[0m \u001b[0;34m!=\u001b[0m \u001b[0my\u001b[0m\u001b[0;34m.\u001b[0m\u001b[0mshape\u001b[0m\u001b[0;34m[\u001b[0m\u001b[0;36m0\u001b[0m\u001b[0;34m]\u001b[0m\u001b[0;34m:\u001b[0m\u001b[0;34m\u001b[0m\u001b[0;34m\u001b[0m\u001b[0m\n\u001b[0;32m--> 342\u001b[0;31m             raise ValueError(f\"x and y must have same first dimension, but \"\n\u001b[0m\u001b[1;32m    343\u001b[0m                              f\"have shapes {x.shape} and {y.shape}\")\n\u001b[1;32m    344\u001b[0m         \u001b[0;32mif\u001b[0m \u001b[0mx\u001b[0m\u001b[0;34m.\u001b[0m\u001b[0mndim\u001b[0m \u001b[0;34m>\u001b[0m \u001b[0;36m2\u001b[0m \u001b[0;32mor\u001b[0m \u001b[0my\u001b[0m\u001b[0;34m.\u001b[0m\u001b[0mndim\u001b[0m \u001b[0;34m>\u001b[0m \u001b[0;36m2\u001b[0m\u001b[0;34m:\u001b[0m\u001b[0;34m\u001b[0m\u001b[0;34m\u001b[0m\u001b[0m\n",
      "\u001b[0;31mValueError\u001b[0m: x and y must have same first dimension, but have shapes (27,) and (28,)"
     ]
    },
    {
     "data": {
      "image/png": "[encoded data removed]",
      "text/plain": [
       "<Figure size 432x288 with 1 Axes>"
      ]
     },
     "metadata": {},
     "output_type": "display_data"
    }
   ],
   "source": [
    "import seaborn as sns\n",
    "sns.set()\n",
    "import matplotlib.pyplot as plt\n",
    "\n",
    "actual_deaths = weekly_deaths_df[weekly_deaths_df['week'] > 3].groupby([ 'week'])['excess_deaths_per100k'].sum()\n",
    "actual_deaths_df = actual_deaths.to_frame(name = 'actual_excess_deaths').reset_index()\n",
    "pred_deaths = predicted_df_all_days.groupby(['Week'])['Predicted_Weekly_Deaths'].sum()\n",
    "pred_deaths_df = pred_deaths.to_frame(name = 'pred_excess_deaths').reset_index()\n",
    "\n",
    "x = actual_deaths_df['week']\n",
    "y = actual_deaths_df['actual_excess_deaths']\n",
    "z = pred_deaths_df['pred_excess_deaths']\n",
    "plt.xlim(3,30)\n",
    "plt.plot(x, y)\n",
    "plt.plot(x, z)\n",
    "\n",
    "plt.savefig('np_2weeks.png')"
   ]
  },
  {
   "cell_type": "code",
   "execution_count": null,
   "metadata": {},
   "outputs": [],
   "source": [
    "import seaborn as sns\n",
    "sns.set()\n",
    "\n",
    "x = best_fit_scores['Week Duration']\n",
    "y = best_fit_scores['Best_Score']\n",
    "z = best_fit_scores['Predict_R2_Score']\n",
    "\n",
    "fig = plt.figure(figsize=(12,4))\n",
    "ax = fig.add_subplot(111)\n",
    "\n",
    "plt.xlim(0,30)\n",
    "plt.xlabel('Week')\n",
    "\n",
    "ax.plot(x, y, label ='Best Score')\n",
    "\n",
    "ax.plot(x, z, label ='Predict R2 Score')\n",
    "plt.legend()\n",
    "plt.show()\n",
    "plt.savefig('np_r2_score.png')\n",
    "#x = weekly_deaths_df[(weekly_deaths_df['county'] == 8031.0) & (weekly_deaths_df['week'] > 4)]['week']\n",
    "#y = weekly_deaths_df[(weekly_deaths_df['county'] == 8031.0) & (weekly_deaths_df['week'] > 4)]['excess_deaths_per100k']\n",
    "#z = predicted_df_all_days[(predicted_df_all_days['FIPS'] == 8031.0)]['Predicted_Weekly_Deaths']\n",
    "#plt.plot(x, y)\n",
    "#plt.plot(x, z)"
   ]
  },
  {
   "cell_type": "code",
   "execution_count": null,
   "metadata": {},
   "outputs": [],
   "source": []
  }
 ],
 "metadata": {
  "kernelspec": {
   "display_name": "Python 3",
   "language": "python",
   "name": "python3"
  },
  "language_info": {
   "codemirror_mode": {
    "name": "ipython",
    "version": 3
   },
   "file_extension": ".py",
   "mimetype": "text/x-python",
   "name": "python",
   "nbconvert_exporter": "python",
   "pygments_lexer": "ipython3",
   "version": "3.8.4"
  }
 },
 "nbformat": 4,
 "nbformat_minor": 4
}
