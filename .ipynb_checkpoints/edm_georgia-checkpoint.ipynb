{
 "cells": [
  {
   "cell_type": "code",
   "execution_count": 1,
   "metadata": {},
   "outputs": [],
   "source": [
    "import pandas as pd\n",
    "from datetime import datetime, timedelta, date\n",
    "import io\n",
    "\n",
    "GA_2015=pd.read_excel('data/states/Georgia/Georgia2015.xlsx')\n",
    "GA_2016=pd.read_excel('data/states/Georgia/Georgia2016.xlsx')\n",
    "GA_2017=pd.read_excel('data/states/Georgia/Georgia2017.xlsx')\n",
    "GA_2018=pd.read_excel('data/states/Georgia/Georgia2018.xlsx')\n",
    "GA_2019=pd.read_excel('data/states/Georgia/Georgia2019.xlsx')\n",
    "GA_2020=pd.read_excel('data/states/Georgia/Georgia2020.xlsx')\n",
    "georgia_df = GA_2015\n",
    "georgia_df = pd.concat([georgia_df, GA_2016]).reset_index(drop=True) \n",
    "georgia_df = pd.concat([georgia_df, GA_2017]).reset_index(drop=True) \n",
    "georgia_df = pd.concat([georgia_df, GA_2018]).reset_index(drop=True)  \n",
    "georgia_df = pd.concat([georgia_df, GA_2019]).reset_index(drop=True) \n",
    "georgia_df = pd.concat([georgia_df, GA_2020]).reset_index(drop=True) \n",
    "\n",
    "county_pop_df = pd.read_csv(\"data/states/county_pop.csv\", encoding = \"utf-8\",error_bad_lines=True)\n",
    "county_pop_df = county_pop_df[county_pop_df['STNAME'] == 'Georgia']\n",
    "\n",
    "county_fips_df = pd.read_csv(\"data/states/county_fips.csv\", error_bad_lines=True)\n",
    "county_fips_df = county_fips_df[county_fips_df['STNAME'] == 'Georgia']\n",
    "county_fips_df[\"CTYNAME\"] = county_fips_df[\"CTYNAME\"].str.upper()\n",
    "county_fips_dict = dict(zip(county_fips_df.CTYNAME,county_pop_df.COUNTY))\n"
   ]
  },
  {
   "cell_type": "code",
   "execution_count": 2,
   "metadata": {},
   "outputs": [],
   "source": [
    "\n",
    "georgia_constant_df = georgia_df.copy()\n",
    "georgia_constant_df['state_FIPS'] = 13\n",
    "georgia_constant_df['County'] = 0\n",
    "georgia_constant_df['population_adjustment'] = 'Constant'\n",
    "georgia_constant_df['pop'] = 0\n",
    "georgia_constant_df[\"total_deaths_per100k\"] = 0\n",
    "georgia_constant_df[\"excess_deaths_per100k\"] = 0.0\n",
    "county_2017_pop= dict(zip(county_pop_df.COUNTY,county_pop_df.POPESTIMATE2017))\n",
    "pop_100k = 100000.0\n",
    "for index, row in georgia_constant_df.iterrows():\n",
    "    county_name = row['Place of Death County']\n",
    "    pop = county_2017_pop[county_fips_dict[county_name]]\n",
    "    georgia_constant_df.at[index, 'County'] = county_fips_dict[county_name]\n",
    "    georgia_constant_df.at[index,'pop'] = pop\n",
    "    georgia_constant_df.at[index, 'total_deaths_per100k'] = (row[\"Deaths\"] *pop_100k )/(pop* 1.0)\n",
    "\n",
    "\n",
    "\n",
    "avg_deaths = georgia_constant_df[georgia_constant_df['Year'] < 2020].groupby(['County', 'Week'])['total_deaths_per100k'].mean()\n",
    "avg_deaths_df = avg_deaths.to_frame(name = 'avg_deaths').reset_index()\n",
    "\n",
    "for index, row in georgia_constant_df.iterrows():\n",
    "    year = row['Year']\n",
    "    county = row['County']\n",
    "    week = row['Week']\n",
    "    if year == 2020:\n",
    "        georgia_constant_df.at[index, \"excess_deaths_per100k\"] = round(row['total_deaths_per100k'] - (avg_deaths_df[(avg_deaths_df['County'] == county) & (avg_deaths_df['Week'] == week)]['avg_deaths']),4)       \n"
   ]
  },
  {
   "cell_type": "code",
   "execution_count": 3,
   "metadata": {},
   "outputs": [],
   "source": [
    "county_year_dict = dict()\n",
    "county_year_dict[2014] = dict(zip(county_pop_df.COUNTY,county_pop_df.POPESTIMATE2014))\n",
    "county_year_dict[2015] = dict(zip(county_pop_df.COUNTY,county_pop_df.POPESTIMATE2015))\n",
    "county_year_dict[2016] = dict(zip(county_pop_df.COUNTY,county_pop_df.POPESTIMATE2016))\n",
    "county_year_dict[2017] = dict(zip(county_pop_df.COUNTY,county_pop_df.POPESTIMATE2017))\n",
    "county_year_dict[2018] = dict(zip(county_pop_df.COUNTY,county_pop_df.POPESTIMATE2018))\n",
    "county_year_dict[2019] = dict(zip(county_pop_df.COUNTY,county_pop_df.POPESTIMATE2019))\n",
    "\n",
    "georgia_lagged_df = georgia_df.copy()\n",
    "georgia_lagged_df['state_FIPS'] = 13\n",
    "georgia_lagged_df['County'] = 0\n",
    "georgia_lagged_df['population_adjustment'] = 'Lagged'\n",
    "georgia_lagged_df['pop'] = 0\n",
    "georgia_lagged_df[\"total_deaths_per100k\"] = 0\n",
    "georgia_lagged_df[\"excess_deaths_per100k\"] = 0.0\n",
    "pop_100k = 100000.0\n",
    "for index, row in georgia_lagged_df.iterrows():\n",
    "    year = row['Year'] - 1  \n",
    "    county_name = row['Place of Death County']\n",
    "    county_pop_dict = county_year_dict[year]\n",
    "    pop = county_pop_dict[county_fips_dict[county_name]]\n",
    "    georgia_lagged_df.at[index, 'County'] = county_fips_dict[county_name]\n",
    "    georgia_lagged_df.at[index,'pop'] = pop\n",
    "    georgia_lagged_df.at[index, 'total_deaths_per100k'] = (row[\"Deaths\"] *pop_100k )/(pop* 1.0)\n",
    "\n",
    "\n",
    "\n",
    "avg_deaths = georgia_lagged_df[georgia_lagged_df['Year'] < 2020].groupby(['County', 'Week'])['total_deaths_per100k'].mean()\n",
    "avg_deaths_df = avg_deaths.to_frame(name = 'avg_deaths').reset_index()\n",
    "\n",
    "for index, row in georgia_lagged_df.iterrows():\n",
    "    year = row['Year']\n",
    "    county = row['County']\n",
    "    week = row['Week']\n",
    "    if year == 2020:\n",
    "        georgia_lagged_df.at[index, \"excess_deaths_per100k\"] = round(row['total_deaths_per100k'] - (avg_deaths_df[(avg_deaths_df['County'] == county) & (avg_deaths_df['Week'] == week)]['avg_deaths']),4)       \n",
    "\n",
    "georgia_merged_df = pd.concat([georgia_constant_df, georgia_lagged_df])\n",
    "georgia_merged_df = georgia_merged_df.sort_values(['County', 'Week', 'population_adjustment','Year'])\n"
   ]
  },
  {
   "cell_type": "code",
   "execution_count": 4,
   "metadata": {},
   "outputs": [],
   "source": [
    "georgia_panel_df = pd.DataFrame(columns=['State_FIPS','County_FIPS','Year', 'Week','Population_Adjustment', \n",
    "                                        'Deaths_Per100k', 'Excess_Deaths_Per100k'])        \n",
    "georgia_panel_df['State_FIPS']  = georgia_merged_df['state_FIPS']\n",
    "georgia_panel_df['County_FIPS'] = georgia_merged_df['County']\n",
    "georgia_panel_df['Year']  = georgia_merged_df['Year']\n",
    "georgia_panel_df['Week'] = georgia_merged_df['Week']\n",
    "georgia_panel_df['Population_Adjustment'] = georgia_merged_df['population_adjustment']\n",
    "georgia_panel_df['Deaths_Per100k'] = georgia_merged_df['total_deaths_per100k']\n",
    "georgia_panel_df['Excess_Deaths_Per100k'] = round(georgia_merged_df['excess_deaths_per100k'],4)"
   ]
  },
  {
   "cell_type": "code",
   "execution_count": 5,
   "metadata": {},
   "outputs": [],
   "source": [
    "georgia_panel_df.to_csv(\"georgia_panel.csv\",index=False)"
   ]
  },
  {
   "cell_type": "code",
   "execution_count": null,
   "metadata": {},
   "outputs": [],
   "source": []
  }
 ],
 "metadata": {
  "kernelspec": {
   "display_name": "Python 3",
   "language": "python",
   "name": "python3"
  },
  "language_info": {
   "codemirror_mode": {
    "name": "ipython",
    "version": 3
   },
   "file_extension": ".py",
   "mimetype": "text/x-python",
   "name": "python",
   "nbconvert_exporter": "python",
   "pygments_lexer": "ipython3",
   "version": "3.8.4"
  }
 },
 "nbformat": 4,
 "nbformat_minor": 4
}
