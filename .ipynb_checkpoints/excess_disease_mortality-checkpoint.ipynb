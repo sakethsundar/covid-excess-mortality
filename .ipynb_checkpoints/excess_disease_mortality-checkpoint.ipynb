{
 "cells": [
  {
   "cell_type": "code",
   "execution_count": 5,
   "metadata": {},
   "outputs": [],
   "source": [
    "import pandas as pd\n",
    "from datetime import datetime, timedelta, date\n",
    "import io\n",
    "\n",
    "colorado_df = pd.read_csv(\"data/states/colorado/colorado.csv\", error_bad_lines=True)\n",
    "colorado_df = colorado_df[(colorado_df['occcounty'] < 8999)]\n",
    "\n",
    "county_pop_df = pd.read_csv(\"data/states/county_pop.csv\", encoding = \"utf-8\",error_bad_lines=True)\n",
    "county_pop_df = county_pop_df[county_pop_df['STNAME'] == 'Colorado']\n",
    "\n",
    "weekly_deaths_df = colorado_df.groupby(['occcounty', 'year','dwk'])['deaths'].agg(['sum']).reset_index()\n",
    "weekly_deaths_df = weekly_deaths_df.rename(columns={'occcounty':'county','dwk' : 'week', 'sum':'total_deaths'})\n",
    "county_2017_pop= dict(zip(county_pop_df.COUNTY,county_pop_df.POPESTIMATE2017))\n",
    "pop_100k = 100000.0\n",
    "weekly_deaths_df['pop'] = 0\n",
    "weekly_deaths_df['total_deaths_per100k'] = 0\n",
    "weekly_deaths_df['excess_deaths_per100k'] = 0\n",
    "for index, row in weekly_deaths_df.iterrows():\n",
    "    county = row['county'] - 8000\n",
    "    weekly_deaths_df.at[index,'pop'] = county_2017_pop[county]\n",
    "    weekly_deaths_df.at[index, 'total_deaths_per100k'] = row[\"total_deaths\"] #(row[\"total_deaths\"] *pop_100k )/(county_2017_pop[county]* 1.0)\n",
    "\n",
    "avg_deaths = weekly_deaths_df[weekly_deaths_df['year'] < 2020].groupby(['county', 'week'])['total_deaths_per100k'].mean()\n",
    "avg_deaths_df = avg_deaths.to_frame(name = 'avg_deaths').reset_index()\n",
    "\n",
    "for index, row in weekly_deaths_df.iterrows():\n",
    "    year = row['year']\n",
    "    county = row['county']\n",
    "    week = row['week']\n",
    "    \n",
    "    if year == 2020:\n",
    "        avgd = avg_deaths_df[(avg_deaths_df['county'] == county) & (avg_deaths_df['week'] == week)]\n",
    "        if not avgd.empty:\n",
    "            weekly_deaths_df.at[index, \"excess_deaths_per100k\"] = row['total_deaths_per100k'] - avgd['avg_deaths']      \n",
    "weekly_deaths_df[\"county\"] = pd.to_numeric(weekly_deaths_df[\"county\"], downcast='float')\n",
    "weekly_deaths_df = weekly_deaths_df[weekly_deaths_df['year'] ==2020]\n",
    "\n"
   ]
  },
  {
   "cell_type": "code",
   "execution_count": 20,
   "metadata": {},
   "outputs": [
    {
     "data": {
      "text/plain": [
       "0     J449\n",
       "1     G309\n",
       "2     I251\n",
       "3     C349\n",
       "4      F03\n",
       "5     I219\n",
       "6     I250\n",
       "7     I500\n",
       "8      I64\n",
       "9     C259\n",
       "10    C509\n",
       "11     G20\n",
       "12     C61\n",
       "13    C189\n",
       "14    I119\n",
       "15    K703\n",
       "16     W19\n",
       "17     I48\n",
       "18     X70\n",
       "19     C80\n",
       "Name: ucod, dtype: object"
      ]
     },
     "execution_count": 20,
     "metadata": {},
     "output_type": "execute_result"
    }
   ],
   "source": []
  },
  {
   "cell_type": "code",
   "execution_count": 165,
   "metadata": {},
   "outputs": [
    {
     "data": {
      "text/plain": [
       "[<matplotlib.lines.Line2D at 0x1304dce80>]"
      ]
     },
     "execution_count": 165,
     "metadata": {},
     "output_type": "execute_result"
    },
    {
     "data": {
      "image/png": "[encoded data removed]",
      "text/plain": [
       "<Figure size 432x288 with 1 Axes>"
      ]
     },
     "metadata": {},
     "output_type": "display_data"
    }
   ],
   "source": [
    "import seaborn as sns\n",
    "sns.set()\n",
    "import matplotlib.pyplot as plt\n",
    "x = weekly_deaths_df[(weekly_deaths_df['year'] ==2020) &(weekly_deaths_df['county'] == 8119)]['week']\n",
    "y = weekly_deaths_df[(weekly_deaths_df['year'] ==2020) &(weekly_deaths_df['county'] == 8119)]['excess_deaths_per100k']\n",
    "plt.plot(x, y)"
   ]
  },
  {
   "cell_type": "code",
   "execution_count": 166,
   "metadata": {},
   "outputs": [],
   "source": [
    "county_covariates= pd.read_csv('https://raw.githubusercontent.com/JieYingWu/COVID-19_US_County-level_Summaries/master/data/counties.csv').dropna(subset=['FIPS'])\n",
    "county_covariates = county_covariates[county_covariates['State'] == 'CO']\n",
    "county_covariates.FIPS = county_covariates.FIPS.astype('int64')\n",
    "county_covariates=county_covariates.set_index('FIPS')\n",
    "age_race_df = pd.read_csv('https://docs.google.com/spreadsheets/d/12GIRONjeNHeKFb3EKpo5r-VvdsnTwwe0iOtKBsnZVM0/export?format=csv')\n",
    "county_icu_beds= pd.read_csv('https://docs.google.com/spreadsheets/d/13iUBUwRcE91_x9FhsF8Ugcb0_tFauWJF2Z-PSkERDlU/export?format=csv')\n",
    "FIPS = pd.read_csv('https://docs.google.com/spreadsheets/d/1jUwRaTSJ__3Wp60cZLLox5u55mJTZrShtjEK4d7xTEY/export?format=csv')\n",
    "covariates = age_race_df.merge(county_covariates, how='inner', left_on=[\"fips\"], right_on=['FIPS'])\n",
    "covariates = covariates.drop(['STNAME', 'County', 'Unnamed: 0','State', 'Area_Name'], axis=1)\n",
    "covariates = covariates.merge(county_icu_beds, how='inner', left_on=[\"fips\"], right_on=['fips'])\n",
    "covariates = covariates.drop(['County','State'], axis=1)\n",
    "covariates = covariates.fillna(0)\n",
    "\n",
    "covariates = covariates.dropna(axis='columns')\n",
    "\n",
    "covariates=covariates[['fips',\n",
    " 'TOT_POP',\n",
    " '0-9',\n",
    " '0-9 y/o % of total pop',\n",
    " '10-19',\n",
    " '10-19 y/o % of total pop',\n",
    " '20-29',\n",
    " '20-29 y/o % of total pop',\n",
    " '30-39',\n",
    " '30-39 y/o % of total pop',\n",
    " '40-49',\n",
    " '40-49 y/o % of total pop',\n",
    " '50-59',\n",
    " '50-59 y/o % of total pop',\n",
    " '60-69',\n",
    " '60-69 y/o % of total pop',\n",
    " '70-79',\n",
    " '70-79 y/o % of total pop',\n",
    " '80+',\n",
    " '80+ y/o % of total pop',\n",
    " 'White-alone pop',\n",
    " '% White-alone',\n",
    " 'Black-alone pop',\n",
    " '% Black-alone',\n",
    " 'Native American/American Indian-alone pop',\n",
    " '% NA/AI-alone',\n",
    " 'Asian-alone pop',\n",
    " '% Asian-alone',\n",
    " 'Hawaiian/Pacific Islander-alone pop',\n",
    " '% Hawaiian/PI-alone',\n",
    " 'Two or more races pop',\n",
    " '% Two or more races',\n",
    " 'POP_ESTIMATE_2018',\n",
    " 'N_POP_CHG_2018',\n",
    " 'GQ_ESTIMATES_2018',\n",
    " 'R_birth_2018',\n",
    " 'R_death_2018',\n",
    " 'R_NATURAL_INC_2018',\n",
    " 'R_INTERNATIONAL_MIG_2018',\n",
    " 'R_DOMESTIC_MIG_2018',\n",
    " 'R_NET_MIG_2018',\n",
    " 'Less than a high school diploma 2014-18',\n",
    " 'High school diploma only 2014-18',\n",
    " \"Some college or associate's degree 2014-18\",\n",
    " \"Bachelor's degree or higher 2014-18\",\n",
    " 'Percent of adults with less than a high school diploma 2014-18',\n",
    " 'Percent of adults with a high school diploma only 2014-18',\n",
    " \"Percent of adults completing some college or associate's degree 2014-18\",\n",
    " \"Percent of adults with a bachelor's degree or higher 2014-18\",\n",
    " 'POVALL_2018',\n",
    " 'PCTPOVALL_2018',\n",
    " 'PCTPOV017_2018',\n",
    " 'PCTPOV517_2018',\n",
    " 'MEDHHINC_2018',\n",
    " 'CI90LBINC_2018',\n",
    " 'CI90UBINC_2018',\n",
    " 'Civilian_labor_force_2018',\n",
    " 'Employed_2018',\n",
    " 'Unemployed_2018',\n",
    " 'Unemployment_rate_2018',\n",
    " 'Median_Household_Income_2018',\n",
    " 'Med_HH_Income_Percent_of_State_Total_2018',\n",
    " 'Jan Precipitation / inch',\n",
    " 'Feb Precipitation / inch',\n",
    " 'Mar Precipitation / inch',\n",
    " 'Apr Precipitation / inch',\n",
    " 'May Precipitation / inch',\n",
    " 'Jun Precipitation / inch',\n",
    " 'Jul Precipitation / inch',\n",
    " 'Jan Temp AVG / F',\n",
    " 'Feb Temp AVG / F',\n",
    " 'Mar Temp AVG / F',\n",
    " 'Apr Temp AVG / F',\n",
    " 'May Temp AVG / F',\n",
    " 'Jun Temp AVG / F',\n",
    " 'Jul Temp AVG / F',\n",
    " 'Active Physicians per 100000 Population 2018 (AAMC)',\n",
    " 'Total Active Patient Care Physicians per 100000 Population 2018 (AAMC)',\n",
    " 'Active Primary Care Physicians per 100000 Population 2018 (AAMC)',\n",
    " 'Active Patient Care Primary Care Physicians per 100000 Population 2018 (AAMC)',\n",
    " 'Active General Surgeons per 100000 Population 2018 (AAMC)',\n",
    " 'Active Patient Care General Surgeons per 100000 Population 2018 (AAMC)',\n",
    " 'Total nurse practitioners (2019)',\n",
    " 'Total physician assistants (2019)',\n",
    " 'Total Hospitals (2019)',\n",
    " 'Internal Medicine Primary Care (2019)',\n",
    " 'Family Medicine/General Practice Primary Care (2019)',\n",
    " 'Total Specialist Physicians (2019)',\n",
    " 'ICU Beds_x',\n",
    " 'Total Population',\n",
    " 'Population Aged 60+',\n",
    " 'Percent of Population Aged 60+']]\n",
    " "
   ]
  },
  {
   "cell_type": "code",
   "execution_count": 167,
   "metadata": {},
   "outputs": [],
   "source": [
    "weekly_deaths_prior_two_weeks_df = weekly_deaths_df.copy() \n",
    "weekly_deaths_prior_two_weeks_df[\"week\"] = weekly_deaths_prior_two_weeks_df[\"week\"] + 2\n",
    "weekly_deaths_prior_two_weeks_df.rename(columns = {'total_deaths_per100k':'two_week_prior_total_deaths_per100k', 'excess_deaths_per100k':'two_week_prior_excess_deaths_per100k'}, inplace = True)\n",
    "weekly_deaths_prior_three_weeks_df = weekly_deaths_df.copy() \n",
    "weekly_deaths_prior_three_weeks_df[\"week\"] = weekly_deaths_prior_three_weeks_df[\"week\"] + 3\n",
    "weekly_deaths_prior_three_weeks_df.rename(columns = {'total_deaths_per100k':'three_week_prior_total_deaths_per100k', 'excess_deaths_per100k':'three_week_prior_excess_deaths_per100k'}, inplace = True)\n",
    "weekly_deaths_merged_df = weekly_deaths_df.merge(weekly_deaths_prior_two_weeks_df[['two_week_prior_total_deaths_per100k', 'two_week_prior_excess_deaths_per100k', 'county', 'year','week']], how='left', left_on=['county', 'year', 'week'], right_on=['county', 'year', 'week'])\n",
    "weekly_deaths_merged_df = weekly_deaths_merged_df.merge(weekly_deaths_prior_three_weeks_df[['three_week_prior_total_deaths_per100k', 'three_week_prior_excess_deaths_per100k', 'county', 'year','week']], how='left', left_on=['county', 'year', 'week'], right_on=['county', 'year', 'week'])"
   ]
  },
  {
   "cell_type": "code",
   "execution_count": 168,
   "metadata": {},
   "outputs": [],
   "source": [
    "covariates_merged = covariates.merge(weekly_deaths_merged_df[['two_week_prior_total_deaths_per100k', \n",
    "                                                              'two_week_prior_excess_deaths_per100k',\n",
    "                                                              'three_week_prior_total_deaths_per100k', \n",
    "                                                              'three_week_prior_excess_deaths_per100k',\n",
    "                                            'county', 'year', 'week']], how='inner', left_on=[\"fips\"], right_on=['county'])\n"
   ]
  },
  {
   "cell_type": "code",
   "execution_count": 169,
   "metadata": {},
   "outputs": [],
   "source": [
    "def run_model(train_start_week_day,train_end_week_day,predict_start_week_day,predict_end_week_day,\n",
    "              covariates_merged,weekly_deaths_merged_df,predict_column_index,best_fit_scores,index):\n",
    "    print(\"train:\", train_start_week_day ,\":\", train_end_week_day, \n",
    "        \" predict:\" , predict_start_week_day, \":\",  predict_end_week_day,)\n",
    "    print \n",
    "    #print (\"training week number: \" , week_num+1)\n",
    "    #********************TRAIN MODEL ************************ \n",
    "    #train with all coutnies variates for one  week  and predict for LA county cumulative deaths\n",
    "    train_week = pd.Series(range(train_start_week_day,train_end_week_day))\n",
    "    #print (\"training week series :\" , train_week.array)\n",
    "    covariates_train_week = covariates_merged.loc[(covariates_merged['week'].isin(train_week))] \n",
    "    weekly_deaths_train_week = weekly_deaths_merged_df.loc[(weekly_deaths_merged_df['week'].isin(train_week))].iloc[:, predict_column_index]  \n",
    "    if len(weekly_deaths_merged_df) > 0:\n",
    "       \n",
    "        X_train = covariates_train_week\n",
    "        Y_train = weekly_deaths_train_week\n",
    "        #reg = LassoCV(cv=5, random_state=0).fit(X_train, Y_train)\n",
    "        xgbReg = xgb.XGBRegressor()\n",
    "\n",
    "        parameters = {\n",
    "              'objective':['reg:squarederror'],\n",
    "              'learning_rate': [0.01, 0.05, 0.08], #so called `eta` value\n",
    "              'max_depth': [1,2,3,4],\n",
    "              'min_child_weight': [1,2],\n",
    "              'subsample': [0.8],\n",
    "              'colsample_bytree' : [0.8],\n",
    "              'n_estimators': [ 100,200]}\n",
    "        tscv = TimeSeriesSplit(n_splits=4)\n",
    "        xgb_grid = GridSearchCV(xgbReg,\n",
    "                        parameters,\n",
    "                        cv = tscv,\n",
    "                        n_jobs = 4,\n",
    "                        scoring = 'r2',\n",
    "                        verbose=True)\n",
    "\n",
    "        xgb_grid.fit(X_train,Y_train)\n",
    "\n",
    "\n",
    "        print(xgb_grid.best_score_)\n",
    "        print(xgb_grid.best_params_)\n",
    "        results = xgb_grid.cv_results_\n",
    "        predict_week = pd.Series(range(predict_start_week_day, predict_end_week_day ))\n",
    "        #print (\"predicting next week series :\" , predict_week.array)\n",
    "\n",
    "        X_predict_week = covariates_merged.loc[(covariates_merged['week'].isin(predict_week))]\n",
    "        predict_week_df = weekly_deaths_merged_df.loc[(weekly_deaths_merged_df['week'].isin(predict_week))]\n",
    "        Y_actual_predict_week = predict_week_df.iloc[:,predict_column_index]\n",
    "        #best_reg.fit(X_tune_week, Y_actual_tune_week)\n",
    "        Y_predict_week = xgb_grid.best_estimator_.predict(X_predict_week)\n",
    "        predict_score = r2_score(Y_actual_predict_week, Y_predict_week)\n",
    "        print(week_num , \":\", predict_score)\n",
    "        best_fit_scores.loc[index] = [str(predict_start_week_day) + ' - '  + str(predict_end_week_day-1), xgb_grid.best_params_, xgb_grid.best_score_,  predict_score]\n",
    "\n",
    "        return Y_predict_week\n",
    "    return None\n",
    "       "
   ]
  },
  {
   "cell_type": "code",
   "execution_count": 170,
   "metadata": {},
   "outputs": [
    {
     "name": "stdout",
     "output_type": "stream",
     "text": [
      "min_week:  0  max week:  34  number of weeks :  34\n",
      "train: 1 : 4  predict: 4 : 6\n",
      "train: 1 : 4  predict: 4 : 6\n",
      "Fitting 4 folds for each of 48 candidates, totalling 192 fits\n"
     ]
    },
    {
     "name": "stderr",
     "output_type": "stream",
     "text": [
      "[Parallel(n_jobs=4)]: Using backend LokyBackend with 4 concurrent workers.\n",
      "[Parallel(n_jobs=4)]: Done 128 tasks      | elapsed:    3.2s\n",
      "[Parallel(n_jobs=4)]: Done 185 out of 192 | elapsed:    4.5s remaining:    0.2s\n",
      "[Parallel(n_jobs=4)]: Done 192 out of 192 | elapsed:    4.7s finished\n",
      "[Parallel(n_jobs=4)]: Using backend LokyBackend with 4 concurrent workers.\n"
     ]
    },
    {
     "name": "stdout",
     "output_type": "stream",
     "text": [
      "0.002368244500703637\n",
      "{'colsample_bytree': 0.8, 'learning_rate': 0.01, 'max_depth': 3, 'min_child_weight': 2, 'n_estimators': 100, 'objective': 'reg:squarederror', 'subsample': 0.8}\n",
      "0 : 0.11862660772813916\n",
      "train: 3 : 6  predict: 6 : 8\n",
      "Fitting 4 folds for each of 48 candidates, totalling 192 fits\n"
     ]
    },
    {
     "name": "stderr",
     "output_type": "stream",
     "text": [
      "[Parallel(n_jobs=4)]: Done 128 tasks      | elapsed:    3.0s\n",
      "[Parallel(n_jobs=4)]: Done 185 out of 192 | elapsed:    4.2s remaining:    0.2s\n",
      "[Parallel(n_jobs=4)]: Done 192 out of 192 | elapsed:    4.4s finished\n",
      "[Parallel(n_jobs=4)]: Using backend LokyBackend with 4 concurrent workers.\n"
     ]
    },
    {
     "name": "stdout",
     "output_type": "stream",
     "text": [
      "-0.050985537188058816\n",
      "{'colsample_bytree': 0.8, 'learning_rate': 0.01, 'max_depth': 1, 'min_child_weight': 2, 'n_estimators': 100, 'objective': 'reg:squarederror', 'subsample': 0.8}\n",
      "1 : 0.21577261363436173\n",
      "train: 5 : 8  predict: 8 : 10\n",
      "Fitting 4 folds for each of 48 candidates, totalling 192 fits\n"
     ]
    },
    {
     "name": "stderr",
     "output_type": "stream",
     "text": [
      "[Parallel(n_jobs=4)]: Done 128 tasks      | elapsed:    3.1s\n",
      "[Parallel(n_jobs=4)]: Done 185 out of 192 | elapsed:    4.4s remaining:    0.2s\n",
      "[Parallel(n_jobs=4)]: Done 192 out of 192 | elapsed:    4.6s finished\n",
      "[Parallel(n_jobs=4)]: Using backend LokyBackend with 4 concurrent workers.\n"
     ]
    },
    {
     "name": "stdout",
     "output_type": "stream",
     "text": [
      "0.18590798533747654\n",
      "{'colsample_bytree': 0.8, 'learning_rate': 0.01, 'max_depth': 1, 'min_child_weight': 2, 'n_estimators': 200, 'objective': 'reg:squarederror', 'subsample': 0.8}\n",
      "2 : 0.2574386964130376\n",
      "train: 7 : 10  predict: 10 : 12\n",
      "Fitting 4 folds for each of 48 candidates, totalling 192 fits\n"
     ]
    },
    {
     "name": "stderr",
     "output_type": "stream",
     "text": [
      "[Parallel(n_jobs=4)]: Done 128 tasks      | elapsed:    3.4s\n",
      "[Parallel(n_jobs=4)]: Done 185 out of 192 | elapsed:    4.7s remaining:    0.2s\n",
      "[Parallel(n_jobs=4)]: Done 192 out of 192 | elapsed:    4.9s finished\n"
     ]
    },
    {
     "name": "stdout",
     "output_type": "stream",
     "text": [
      "0.2314455292902817\n",
      "{'colsample_bytree': 0.8, 'learning_rate': 0.01, 'max_depth': 4, 'min_child_weight': 1, 'n_estimators': 200, 'objective': 'reg:squarederror', 'subsample': 0.8}\n",
      "3 : 0.2320334793792168\n",
      "train: 9 : 12  predict: 12 : 14\n",
      "Fitting 4 folds for each of 48 candidates, totalling 192 fits\n"
     ]
    },
    {
     "name": "stderr",
     "output_type": "stream",
     "text": [
      "[Parallel(n_jobs=4)]: Using backend LokyBackend with 4 concurrent workers.\n",
      "[Parallel(n_jobs=4)]: Done 128 tasks      | elapsed:    2.9s\n",
      "[Parallel(n_jobs=4)]: Done 185 out of 192 | elapsed:    4.1s remaining:    0.2s\n",
      "[Parallel(n_jobs=4)]: Done 192 out of 192 | elapsed:    4.3s finished\n"
     ]
    },
    {
     "name": "stdout",
     "output_type": "stream",
     "text": [
      "0.08189252017107265\n",
      "{'colsample_bytree': 0.8, 'learning_rate': 0.08, 'max_depth': 1, 'min_child_weight': 1, 'n_estimators': 200, 'objective': 'reg:squarederror', 'subsample': 0.8}\n",
      "4 : 0.27505622659828655\n",
      "train: 11 : 14  predict: 14 : 16\n",
      "Fitting 4 folds for each of 48 candidates, totalling 192 fits\n"
     ]
    },
    {
     "name": "stderr",
     "output_type": "stream",
     "text": [
      "[Parallel(n_jobs=4)]: Using backend LokyBackend with 4 concurrent workers.\n",
      "[Parallel(n_jobs=4)]: Done 128 tasks      | elapsed:    2.9s\n",
      "[Parallel(n_jobs=4)]: Done 185 out of 192 | elapsed:    4.1s remaining:    0.2s\n",
      "[Parallel(n_jobs=4)]: Done 192 out of 192 | elapsed:    4.3s finished\n"
     ]
    },
    {
     "name": "stdout",
     "output_type": "stream",
     "text": [
      "0.39227431593598805\n",
      "{'colsample_bytree': 0.8, 'learning_rate': 0.01, 'max_depth': 4, 'min_child_weight': 2, 'n_estimators': 200, 'objective': 'reg:squarederror', 'subsample': 0.8}\n",
      "5 : 0.4762695868527723\n",
      "train: 13 : 16  predict: 16 : 18\n",
      "Fitting 4 folds for each of 48 candidates, totalling 192 fits\n"
     ]
    },
    {
     "name": "stderr",
     "output_type": "stream",
     "text": [
      "[Parallel(n_jobs=4)]: Using backend LokyBackend with 4 concurrent workers.\n",
      "[Parallel(n_jobs=4)]: Done 128 tasks      | elapsed:    2.9s\n",
      "[Parallel(n_jobs=4)]: Done 185 out of 192 | elapsed:    4.2s remaining:    0.2s\n",
      "[Parallel(n_jobs=4)]: Done 192 out of 192 | elapsed:    4.4s finished\n",
      "[Parallel(n_jobs=4)]: Using backend LokyBackend with 4 concurrent workers.\n"
     ]
    },
    {
     "name": "stdout",
     "output_type": "stream",
     "text": [
      "0.4463971782639967\n",
      "{'colsample_bytree': 0.8, 'learning_rate': 0.01, 'max_depth': 3, 'min_child_weight': 1, 'n_estimators': 100, 'objective': 'reg:squarederror', 'subsample': 0.8}\n",
      "6 : 0.5281443509575836\n",
      "train: 15 : 18  predict: 18 : 20\n",
      "Fitting 4 folds for each of 48 candidates, totalling 192 fits\n"
     ]
    },
    {
     "name": "stderr",
     "output_type": "stream",
     "text": [
      "[Parallel(n_jobs=4)]: Done 128 tasks      | elapsed:    3.0s\n",
      "[Parallel(n_jobs=4)]: Done 185 out of 192 | elapsed:    4.2s remaining:    0.2s\n",
      "[Parallel(n_jobs=4)]: Done 192 out of 192 | elapsed:    4.4s finished\n"
     ]
    },
    {
     "name": "stdout",
     "output_type": "stream",
     "text": [
      "0.19992476746677185\n",
      "{'colsample_bytree': 0.8, 'learning_rate': 0.01, 'max_depth': 2, 'min_child_weight': 2, 'n_estimators': 100, 'objective': 'reg:squarederror', 'subsample': 0.8}\n",
      "7 : 0.785636163615172\n",
      "train: 17 : 20  predict: 20 : 22\n",
      "Fitting 4 folds for each of 48 candidates, totalling 192 fits\n"
     ]
    },
    {
     "name": "stderr",
     "output_type": "stream",
     "text": [
      "[Parallel(n_jobs=4)]: Using backend LokyBackend with 4 concurrent workers.\n",
      "[Parallel(n_jobs=4)]: Done 128 tasks      | elapsed:    2.9s\n",
      "[Parallel(n_jobs=4)]: Done 185 out of 192 | elapsed:    4.1s remaining:    0.2s\n",
      "[Parallel(n_jobs=4)]: Done 192 out of 192 | elapsed:    4.4s finished\n",
      "[Parallel(n_jobs=4)]: Using backend LokyBackend with 4 concurrent workers.\n"
     ]
    },
    {
     "name": "stdout",
     "output_type": "stream",
     "text": [
      "0.3688866855737858\n",
      "{'colsample_bytree': 0.8, 'learning_rate': 0.08, 'max_depth': 1, 'min_child_weight': 1, 'n_estimators': 100, 'objective': 'reg:squarederror', 'subsample': 0.8}\n",
      "8 : 0.47588845597944296\n",
      "train: 19 : 22  predict: 22 : 24\n",
      "Fitting 4 folds for each of 48 candidates, totalling 192 fits\n"
     ]
    },
    {
     "name": "stderr",
     "output_type": "stream",
     "text": [
      "[Parallel(n_jobs=4)]: Done 128 tasks      | elapsed:    3.0s\n",
      "[Parallel(n_jobs=4)]: Done 185 out of 192 | elapsed:    4.1s remaining:    0.2s\n",
      "[Parallel(n_jobs=4)]: Done 192 out of 192 | elapsed:    4.3s finished\n"
     ]
    },
    {
     "name": "stdout",
     "output_type": "stream",
     "text": [
      "0.2860340435861506\n",
      "{'colsample_bytree': 0.8, 'learning_rate': 0.01, 'max_depth': 1, 'min_child_weight': 2, 'n_estimators': 200, 'objective': 'reg:squarederror', 'subsample': 0.8}\n",
      "9 : 0.41454060936115333\n",
      "train: 21 : 24  predict: 24 : 26\n",
      "Fitting 4 folds for each of 48 candidates, totalling 192 fits\n"
     ]
    },
    {
     "name": "stderr",
     "output_type": "stream",
     "text": [
      "[Parallel(n_jobs=4)]: Using backend LokyBackend with 4 concurrent workers.\n",
      "[Parallel(n_jobs=4)]: Done 128 tasks      | elapsed:    2.9s\n",
      "[Parallel(n_jobs=4)]: Done 185 out of 192 | elapsed:    4.0s remaining:    0.2s\n",
      "[Parallel(n_jobs=4)]: Done 192 out of 192 | elapsed:    4.2s finished\n"
     ]
    },
    {
     "name": "stdout",
     "output_type": "stream",
     "text": [
      "0.3091707050060576\n",
      "{'colsample_bytree': 0.8, 'learning_rate': 0.01, 'max_depth': 1, 'min_child_weight': 2, 'n_estimators': 200, 'objective': 'reg:squarederror', 'subsample': 0.8}\n",
      "10 : 0.36214658513147713\n",
      "train: 23 : 26  predict: 26 : 28\n",
      "Fitting 4 folds for each of 48 candidates, totalling 192 fits\n"
     ]
    },
    {
     "name": "stderr",
     "output_type": "stream",
     "text": [
      "[Parallel(n_jobs=4)]: Using backend LokyBackend with 4 concurrent workers.\n",
      "[Parallel(n_jobs=4)]: Done 128 tasks      | elapsed:    3.0s\n",
      "[Parallel(n_jobs=4)]: Done 185 out of 192 | elapsed:    4.2s remaining:    0.2s\n",
      "[Parallel(n_jobs=4)]: Done 192 out of 192 | elapsed:    4.5s finished\n",
      "[Parallel(n_jobs=4)]: Using backend LokyBackend with 4 concurrent workers.\n"
     ]
    },
    {
     "name": "stdout",
     "output_type": "stream",
     "text": [
      "0.2222593525226825\n",
      "{'colsample_bytree': 0.8, 'learning_rate': 0.01, 'max_depth': 1, 'min_child_weight': 2, 'n_estimators': 200, 'objective': 'reg:squarederror', 'subsample': 0.8}\n",
      "11 : 0.33342203206945686\n",
      "train: 25 : 28  predict: 28 : 30\n",
      "Fitting 4 folds for each of 48 candidates, totalling 192 fits\n"
     ]
    },
    {
     "name": "stderr",
     "output_type": "stream",
     "text": [
      "[Parallel(n_jobs=4)]: Done 128 tasks      | elapsed:    3.0s\n",
      "[Parallel(n_jobs=4)]: Done 185 out of 192 | elapsed:    4.3s remaining:    0.2s\n",
      "[Parallel(n_jobs=4)]: Done 192 out of 192 | elapsed:    4.5s finished\n",
      "[Parallel(n_jobs=4)]: Using backend LokyBackend with 4 concurrent workers.\n"
     ]
    },
    {
     "name": "stdout",
     "output_type": "stream",
     "text": [
      "-0.01611618000252485\n",
      "{'colsample_bytree': 0.8, 'learning_rate': 0.01, 'max_depth': 4, 'min_child_weight': 1, 'n_estimators': 100, 'objective': 'reg:squarederror', 'subsample': 0.8}\n",
      "12 : 0.3460651429995286\n",
      "train: 27 : 30  predict: 30 : 32\n",
      "Fitting 4 folds for each of 48 candidates, totalling 192 fits\n"
     ]
    },
    {
     "name": "stderr",
     "output_type": "stream",
     "text": [
      "[Parallel(n_jobs=4)]: Done 128 tasks      | elapsed:    3.0s\n",
      "[Parallel(n_jobs=4)]: Done 185 out of 192 | elapsed:    4.2s remaining:    0.2s\n",
      "[Parallel(n_jobs=4)]: Done 192 out of 192 | elapsed:    4.5s finished\n"
     ]
    },
    {
     "name": "stdout",
     "output_type": "stream",
     "text": [
      "0.24940951168087722\n",
      "{'colsample_bytree': 0.8, 'learning_rate': 0.05, 'max_depth': 3, 'min_child_weight': 1, 'n_estimators': 100, 'objective': 'reg:squarederror', 'subsample': 0.8}\n",
      "13 : 0.23138829702762775\n",
      "train: 29 : 32  predict: 32 : 34\n",
      "Fitting 4 folds for each of 48 candidates, totalling 192 fits\n"
     ]
    },
    {
     "name": "stderr",
     "output_type": "stream",
     "text": [
      "[Parallel(n_jobs=4)]: Using backend LokyBackend with 4 concurrent workers.\n",
      "[Parallel(n_jobs=4)]: Done 128 tasks      | elapsed:    2.9s\n",
      "[Parallel(n_jobs=4)]: Done 185 out of 192 | elapsed:    4.1s remaining:    0.2s\n"
     ]
    },
    {
     "name": "stdout",
     "output_type": "stream",
     "text": [
      "0.24558640010051003\n",
      "{'colsample_bytree': 0.8, 'learning_rate': 0.05, 'max_depth': 1, 'min_child_weight': 1, 'n_estimators': 100, 'objective': 'reg:squarederror', 'subsample': 0.8}\n",
      "14 : 0.39153454914773345\n"
     ]
    },
    {
     "name": "stderr",
     "output_type": "stream",
     "text": [
      "[Parallel(n_jobs=4)]: Done 192 out of 192 | elapsed:    4.3s finished\n"
     ]
    }
   ],
   "source": [
    "from sklearn.linear_model import MultiTaskLassoCV\n",
    "from sklearn.linear_model import Lasso\n",
    "from sklearn.linear_model import ElasticNet\n",
    "from sklearn.multioutput import MultiOutputRegressor\n",
    "from sklearn.metrics import r2_score\n",
    "import numpy as np\n",
    "import warnings\n",
    "import matplotlib.pyplot as plt\n",
    "from sklearn.exceptions import ConvergenceWarning\n",
    "import xgboost as xgb\n",
    "from datetime import datetime\n",
    "from sklearn.model_selection import GridSearchCV,TimeSeriesSplit\n",
    "\n",
    "warnings.filterwarnings(\"ignore\", category=ConvergenceWarning)\n",
    "covid_start_date = datetime.strptime(\"01/22/20\", \"%m/%d/%y\")\n",
    "\n",
    "\n",
    "min_week=weekly_deaths_merged_df['week'].min()\n",
    "max_week=weekly_deaths_merged_df['week'].max()\n",
    "\n",
    "index = 0 \n",
    "num_weeks=int((max_week-min_week))\n",
    "print(\"min_week: \" , min_week, \" max week: \", max_week, \" number of weeks : \" , num_weeks)\n",
    "#prediction_days_arr = [7,14,21,28]\n",
    "#prediction_days = 7   # one week  train , tune and forecast\n",
    "#prediction_days = 14 # two weks train , tune and forecast\n",
    "prediction_weeks = 3 # three weks train , tune and forecast\n",
    "#prediction_days = 28 # four weeks train , tune and forecast\n",
    "\n",
    "best_fit_scores = pd.DataFrame(columns=[\"Week Duration\", \"Best_Parameters\", \"Best_Score\", \"Predict_R2_Score\"])\n",
    "predicted_df_all_days = pd.DataFrame(columns=['State','FIPS', 'Population','Forecast_Day','Week','Predicted_Weekly_Excess_Deaths'])\n",
    "\n",
    "train_start_week_day = 1\n",
    "train_end_week_day = train_start_week_day + prediction_weeks\n",
    "\n",
    "predict_start_week_day = train_end_week_day \n",
    "predict_end_week_day = predict_start_week_day + 2\n",
    "\n",
    "print(\"train:\", train_start_week_day ,\":\", train_end_week_day, \n",
    "        \" predict:\" , predict_start_week_day, \":\",  predict_end_week_day)\n",
    "\n",
    "for week_num in range(num_weeks):\n",
    "    if (predict_end_week_day-1) > max_week:\n",
    "        break\n",
    "    predicted_df = pd.DataFrame(columns=['State','FIPS','Population', 'Forecast_Day','Week','Predicted_Weekly_Deaths', 'Predicted_Weekly_Cases', 'Predicted_Cumulative_Deaths', 'Predicted_Cumulative_Cases','Past_Week_Cumulative_Deaths'])        \n",
    "    predicted_deaths = run_model(train_start_week_day,train_end_week_day,predict_start_week_day,predict_end_week_day,\n",
    "              covariates_merged,weekly_deaths_merged_df,6,best_fit_scores, index) \n",
    "\n",
    "    predict_week = pd.Series(range(predict_start_week_day, predict_end_week_day ))\n",
    "    predict_week_df = weekly_deaths_merged_df.loc[(weekly_deaths_merged_df['week'].isin(predict_week))]\n",
    "    predicted_df[\"State\"] = 'Colorado'\n",
    "    predicted_df[\"FIPS\"] = predict_week_df[\"county\"]\n",
    "    predicted_df[\"Population\"] = predict_week_df[\"pop\"]\n",
    "    predicted_df[\"Week\"] = predict_week_df[\"week\"]\n",
    "    forecast_day = (covid_start_date + timedelta(days=(predict_start_week_day*7 + 6))).strftime(\"%Y-%m-%d\")\n",
    "    predicted_df[\"Forecast_Day\"] = forecast_day \n",
    "    predicted_df[\"Predicted_Weekly_Deaths\"] = predicted_deaths\n",
    "    #predicted_df.to_csv(\"data/predictions/predicted_us_deaths_\" +  forecast_day + \".csv\")                     \n",
    "    predicted_df_all_days = pd.concat([predicted_df_all_days, predicted_df])\n",
    "\n",
    "    train_start_week_day = train_start_week_day + 2\n",
    "    train_end_week_day = train_end_week_day + 2\n",
    "    predict_start_week_day = predict_start_week_day + 2\n",
    "    predict_end_week_day = predict_start_week_day + 2\n",
    "    index = index + 1\n",
    "   \n",
    "best_fit_scores.to_csv(\"best_fit_scores.csv\", index=False)\n",
    "#predicted_df_all_days.to_csv(\"predicted_all_days.csv\", index=False)\n"
   ]
  },
  {
   "cell_type": "code",
   "execution_count": 178,
   "metadata": {},
   "outputs": [
    {
     "data": {
      "text/plain": [
       "[<matplotlib.lines.Line2D at 0x131025340>]"
      ]
     },
     "execution_count": 178,
     "metadata": {},
     "output_type": "execute_result"
    },
    {
     "data": {
      "image/png": "[encoded data removed]",
      "text/plain": [
       "<Figure size 432x288 with 1 Axes>"
      ]
     },
     "metadata": {},
     "output_type": "display_data"
    }
   ],
   "source": [
    "import seaborn as sns\n",
    "sns.set()\n",
    "import matplotlib.pyplot as plt\n",
    "actual_deaths = weekly_deaths_df[weekly_deaths_df['week'] > 4].groupby([ 'week'])['excess_deaths_per100k'].sum()\n",
    "actual_deaths_df = actual_deaths.to_frame(name = 'actual_excess_deaths').reset_index()\n",
    "pred_deaths = predicted_df_all_days.groupby(['Week'])['Predicted_Weekly_Deaths'].sum()\n",
    "pred_deaths_df = pred_deaths.to_frame(name = 'pred_excess_deaths').reset_index()\n",
    "\n",
    "x = actual_deaths_df['week']\n",
    "y = actual_deaths_df['actual_excess_deaths']\n",
    "z = pred_deaths_df['pred_excess_deaths']\n",
    "plt.plot(x, y)\n",
    "plt.plot(x, z)\n",
    "\n",
    "#x = weekly_deaths_df[(weekly_deaths_df['county'] == 8031.0) & (weekly_deaths_df['week'] > 4)]['week']\n",
    "#y = weekly_deaths_df[(weekly_deaths_df['county'] == 8031.0) & (weekly_deaths_df['week'] > 4)]['excess_deaths_per100k']\n",
    "#z = predicted_df_all_days[(predicted_df_all_days['FIPS'] == 8031.0)]['Predicted_Weekly_Deaths']\n",
    "#plt.plot(x, y)\n",
    "#plt.plot(x, z)"
   ]
  },
  {
   "cell_type": "code",
   "execution_count": 36,
   "metadata": {},
   "outputs": [
    {
     "data": {
      "text/html": [
       "<div>\n",
       "<style scoped>\n",
       "    .dataframe tbody tr th:only-of-type {\n",
       "        vertical-align: middle;\n",
       "    }\n",
       "\n",
       "    .dataframe tbody tr th {\n",
       "        vertical-align: top;\n",
       "    }\n",
       "\n",
       "    .dataframe thead th {\n",
       "        text-align: right;\n",
       "    }\n",
       "</style>\n",
       "<table border=\"1\" class=\"dataframe\">\n",
       "  <thead>\n",
       "    <tr style=\"text-align: right;\">\n",
       "      <th></th>\n",
       "      <th>county</th>\n",
       "      <th>year</th>\n",
       "      <th>week</th>\n",
       "      <th>ucod</th>\n",
       "      <th>total_deaths</th>\n",
       "      <th>excess_deaths</th>\n",
       "    </tr>\n",
       "  </thead>\n",
       "  <tbody>\n",
       "    <tr>\n",
       "      <th>12570</th>\n",
       "      <td>8001.0</td>\n",
       "      <td>2020</td>\n",
       "      <td>0</td>\n",
       "      <td>C349</td>\n",
       "      <td>1</td>\n",
       "      <td>0</td>\n",
       "    </tr>\n",
       "    <tr>\n",
       "      <th>12576</th>\n",
       "      <td>8001.0</td>\n",
       "      <td>2020</td>\n",
       "      <td>0</td>\n",
       "      <td>F03</td>\n",
       "      <td>1</td>\n",
       "      <td>0</td>\n",
       "    </tr>\n",
       "    <tr>\n",
       "      <th>12583</th>\n",
       "      <td>8001.0</td>\n",
       "      <td>2020</td>\n",
       "      <td>0</td>\n",
       "      <td>I219</td>\n",
       "      <td>1</td>\n",
       "      <td>0</td>\n",
       "    </tr>\n",
       "    <tr>\n",
       "      <th>12584</th>\n",
       "      <td>8001.0</td>\n",
       "      <td>2020</td>\n",
       "      <td>0</td>\n",
       "      <td>I251</td>\n",
       "      <td>1</td>\n",
       "      <td>-1</td>\n",
       "    </tr>\n",
       "    <tr>\n",
       "      <th>12587</th>\n",
       "      <td>8001.0</td>\n",
       "      <td>2020</td>\n",
       "      <td>0</td>\n",
       "      <td>I64</td>\n",
       "      <td>2</td>\n",
       "      <td>1</td>\n",
       "    </tr>\n",
       "    <tr>\n",
       "      <th>...</th>\n",
       "      <td>...</td>\n",
       "      <td>...</td>\n",
       "      <td>...</td>\n",
       "      <td>...</td>\n",
       "      <td>...</td>\n",
       "      <td>...</td>\n",
       "    </tr>\n",
       "    <tr>\n",
       "      <th>163497</th>\n",
       "      <td>8125.0</td>\n",
       "      <td>2020</td>\n",
       "      <td>17</td>\n",
       "      <td>F03</td>\n",
       "      <td>1</td>\n",
       "      <td>0</td>\n",
       "    </tr>\n",
       "    <tr>\n",
       "      <th>163500</th>\n",
       "      <td>8125.0</td>\n",
       "      <td>2020</td>\n",
       "      <td>20</td>\n",
       "      <td>J449</td>\n",
       "      <td>1</td>\n",
       "      <td>0</td>\n",
       "    </tr>\n",
       "    <tr>\n",
       "      <th>163505</th>\n",
       "      <td>8125.0</td>\n",
       "      <td>2020</td>\n",
       "      <td>24</td>\n",
       "      <td>I219</td>\n",
       "      <td>1</td>\n",
       "      <td>0</td>\n",
       "    </tr>\n",
       "    <tr>\n",
       "      <th>163509</th>\n",
       "      <td>8125.0</td>\n",
       "      <td>2020</td>\n",
       "      <td>26</td>\n",
       "      <td>J449</td>\n",
       "      <td>1</td>\n",
       "      <td>0</td>\n",
       "    </tr>\n",
       "    <tr>\n",
       "      <th>163519</th>\n",
       "      <td>8125.0</td>\n",
       "      <td>2020</td>\n",
       "      <td>31</td>\n",
       "      <td>I500</td>\n",
       "      <td>1</td>\n",
       "      <td>0</td>\n",
       "    </tr>\n",
       "  </tbody>\n",
       "</table>\n",
       "<p>3671 rows × 6 columns</p>\n",
       "</div>"
      ],
      "text/plain": [
       "        county  year  week  ucod  total_deaths  excess_deaths\n",
       "12570   8001.0  2020     0  C349             1              0\n",
       "12576   8001.0  2020     0   F03             1              0\n",
       "12583   8001.0  2020     0  I219             1              0\n",
       "12584   8001.0  2020     0  I251             1             -1\n",
       "12587   8001.0  2020     0   I64             2              1\n",
       "...        ...   ...   ...   ...           ...            ...\n",
       "163497  8125.0  2020    17   F03             1              0\n",
       "163500  8125.0  2020    20  J449             1              0\n",
       "163505  8125.0  2020    24  I219             1              0\n",
       "163509  8125.0  2020    26  J449             1              0\n",
       "163519  8125.0  2020    31  I500             1              0\n",
       "\n",
       "[3671 rows x 6 columns]"
      ]
     },
     "execution_count": 36,
     "metadata": {},
     "output_type": "execute_result"
    }
   ],
   "source": [
    "\n"
   ]
  },
  {
   "cell_type": "code",
   "execution_count": null,
   "metadata": {},
   "outputs": [],
   "source": []
  }
 ],
 "metadata": {
  "kernelspec": {
   "display_name": "Python 3",
   "language": "python",
   "name": "python3"
  },
  "language_info": {
   "codemirror_mode": {
    "name": "ipython",
    "version": 3
   },
   "file_extension": ".py",
   "mimetype": "text/x-python",
   "name": "python",
   "nbconvert_exporter": "python",
   "pygments_lexer": "ipython3",
   "version": "3.8.4"
  }
 },
 "nbformat": 4,
 "nbformat_minor": 4
}
